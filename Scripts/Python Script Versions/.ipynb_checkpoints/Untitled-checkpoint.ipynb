{
 "cells": [
  {
   "cell_type": "code",
   "execution_count": 4,
   "metadata": {},
   "outputs": [],
   "source": [
    "import pandas as pd\n",
    "\n",
    "df = pd.read_excel('Main Version-16-18.xlsx')"
   ]
  },
  {
   "cell_type": "code",
   "execution_count": 7,
   "metadata": {},
   "outputs": [],
   "source": [
    "df = df.iloc[0:20][['title','source', 'date', 'origContent']]"
   ]
  },
  {
   "cell_type": "code",
   "execution_count": 17,
   "metadata": {},
   "outputs": [
    {
     "data": {
      "text/html": [
       "<div>\n",
       "<style scoped>\n",
       "    .dataframe tbody tr th:only-of-type {\n",
       "        vertical-align: middle;\n",
       "    }\n",
       "\n",
       "    .dataframe tbody tr th {\n",
       "        vertical-align: top;\n",
       "    }\n",
       "\n",
       "    .dataframe thead th {\n",
       "        text-align: right;\n",
       "    }\n",
       "</style>\n",
       "<table border=\"1\" class=\"dataframe\">\n",
       "  <thead>\n",
       "    <tr style=\"text-align: right;\">\n",
       "      <th></th>\n",
       "      <th>title</th>\n",
       "      <th>source</th>\n",
       "      <th>date</th>\n",
       "      <th>origContent</th>\n",
       "    </tr>\n",
       "  </thead>\n",
       "  <tbody>\n",
       "    <tr>\n",
       "      <th>6</th>\n",
       "      <td>Tilray to focus investments on U.S., Europe as...</td>\n",
       "      <td>financial-post</td>\n",
       "      <td>2019-03-18T20:42:00Z</td>\n",
       "      <td>Cannabis producer Tilray Inc. plans to focus t...</td>\n",
       "    </tr>\n",
       "    <tr>\n",
       "      <th>16</th>\n",
       "      <td>Victoria’s Secret Formally Returns to Swimwear...</td>\n",
       "      <td>fortune</td>\n",
       "      <td>2019-03-18T17:57:13Z</td>\n",
       "      <td>Victoria’s Secret on Monday unveiled its new s...</td>\n",
       "    </tr>\n",
       "    <tr>\n",
       "      <th>2</th>\n",
       "      <td>Market movers: Stocks seeing action on Monday ...</td>\n",
       "      <td>the-globe-and-mail</td>\n",
       "      <td>2019-03-18T13:49:24Z</td>\n",
       "      <td>Shares of Manulife Financial Corp. (MFC-T) ros...</td>\n",
       "    </tr>\n",
       "    <tr>\n",
       "      <th>8</th>\n",
       "      <td>Stocks making the biggest moves premarket: Deu...</td>\n",
       "      <td>cnbc</td>\n",
       "      <td>2019-03-18T11:56:00Z</td>\n",
       "      <td>Deutsche Bank Deutsche Bank and rival German b...</td>\n",
       "    </tr>\n",
       "    <tr>\n",
       "      <th>12</th>\n",
       "      <td>Deals of the day-Mergers and acquisitions</td>\n",
       "      <td>reuters</td>\n",
       "      <td>2019-03-18T10:08:07Z</td>\n",
       "      <td>** Italian oil services company Saipem Spa is ...</td>\n",
       "    </tr>\n",
       "    <tr>\n",
       "      <th>19</th>\n",
       "      <td>Death by a Thousand Clicks: Where Electronic H...</td>\n",
       "      <td>fortune</td>\n",
       "      <td>2019-03-18T08:30:05Z</td>\n",
       "      <td>The pain radiated from the top of Annette Mona...</td>\n",
       "    </tr>\n",
       "    <tr>\n",
       "      <th>13</th>\n",
       "      <td>'Shark Tank' recap: San Diego entrepreneur's P...</td>\n",
       "      <td>usa-today</td>\n",
       "      <td>2019-03-18T03:00:02Z</td>\n",
       "      <td>Mark Cuban, Daymond John, Kevin O'Leary, Lori ...</td>\n",
       "    </tr>\n",
       "    <tr>\n",
       "      <th>1</th>\n",
       "      <td>Bank of England and Fed meetings, Brexit, Thai...</td>\n",
       "      <td>financial-times</td>\n",
       "      <td>2019-03-17T17:30:24Z</td>\n",
       "      <td>The Brexit saga rolls on with EU leaders sched...</td>\n",
       "    </tr>\n",
       "    <tr>\n",
       "      <th>0</th>\n",
       "      <td>US retailers trump Warren Buffett with push in...</td>\n",
       "      <td>financial-times</td>\n",
       "      <td>2019-03-17T15:02:37Z</td>\n",
       "      <td>The balance of power is shifting between the b...</td>\n",
       "    </tr>\n",
       "    <tr>\n",
       "      <th>4</th>\n",
       "      <td>Wall Street cuts profit forecasts for US retai...</td>\n",
       "      <td>financial-times</td>\n",
       "      <td>2019-03-17T14:22:46Z</td>\n",
       "      <td>Wall Street has cut profit forecasts for US re...</td>\n",
       "    </tr>\n",
       "    <tr>\n",
       "      <th>15</th>\n",
       "      <td>Superstore, Shoppers Drug Mart customers say t...</td>\n",
       "      <td>cbc-news</td>\n",
       "      <td>2019-03-17T08:00:00Z</td>\n",
       "      <td>Marvin Kaye said he was taken aback when, last...</td>\n",
       "    </tr>\n",
       "    <tr>\n",
       "      <th>7</th>\n",
       "      <td>Hastings bookstore to close after more than 4 ...</td>\n",
       "      <td>associated-press</td>\n",
       "      <td>2019-03-17T05:05:38Z</td>\n",
       "      <td>HASTINGS, Neb. (AP) A best seller in Hastings ...</td>\n",
       "    </tr>\n",
       "    <tr>\n",
       "      <th>14</th>\n",
       "      <td>SC forests are protected, with a little help f...</td>\n",
       "      <td>associated-press</td>\n",
       "      <td>2019-03-17T04:05:32Z</td>\n",
       "      <td>CHARLESTON, S.C. (AP) South Carolina and Calif...</td>\n",
       "    </tr>\n",
       "    <tr>\n",
       "      <th>18</th>\n",
       "      <td>An Entrepreneur Bets on the Return of the Inst...</td>\n",
       "      <td>fortune</td>\n",
       "      <td>2019-03-16T17:00:02Z</td>\n",
       "      <td>Of all the products gathering dust on supermar...</td>\n",
       "    </tr>\n",
       "    <tr>\n",
       "      <th>11</th>\n",
       "      <td>Bills have last chance as New Mexico lawmakers...</td>\n",
       "      <td>associated-press</td>\n",
       "      <td>2019-03-16T14:58:02Z</td>\n",
       "      <td>SANTA FE, N.M. (AP) The New Mexico Legislature...</td>\n",
       "    </tr>\n",
       "    <tr>\n",
       "      <th>17</th>\n",
       "      <td>Apple wants to take on Netflix with Oprah &amp; Sp...</td>\n",
       "      <td>usa-today</td>\n",
       "      <td>2019-03-16T13:00:02Z</td>\n",
       "      <td>Apple teased their first event of 2019 with tw...</td>\n",
       "    </tr>\n",
       "    <tr>\n",
       "      <th>5</th>\n",
       "      <td>After four years, Bill Morneau has yet to make...</td>\n",
       "      <td>the-globe-and-mail</td>\n",
       "      <td>2019-03-16T12:33:14Z</td>\n",
       "      <td>Bill Morneau, Canada's Minister of Finance, is...</td>\n",
       "    </tr>\n",
       "    <tr>\n",
       "      <th>10</th>\n",
       "      <td>Apple’s ambitious vision for the future of TV ...</td>\n",
       "      <td>business-insider</td>\n",
       "      <td>2019-03-16T12:10:00Z</td>\n",
       "      <td>When Apple unveiled its revamped Apple TV set-...</td>\n",
       "    </tr>\n",
       "    <tr>\n",
       "      <th>9</th>\n",
       "      <td>Toy market not much fun for UK retailers</td>\n",
       "      <td>financial-times</td>\n",
       "      <td>2019-03-16T11:00:23Z</td>\n",
       "      <td>This week’s sale of the Early Learning Centre ...</td>\n",
       "    </tr>\n",
       "    <tr>\n",
       "      <th>3</th>\n",
       "      <td>Here's how a tiny toymaker dodged the Toys R U...</td>\n",
       "      <td>business-insider</td>\n",
       "      <td>2019-03-16T10:55:40Z</td>\n",
       "      <td>The liquidation of Toys R Us and closure of mo...</td>\n",
       "    </tr>\n",
       "  </tbody>\n",
       "</table>\n",
       "</div>"
      ],
      "text/plain": [
       "                                                title              source  \\\n",
       "6   Tilray to focus investments on U.S., Europe as...      financial-post   \n",
       "16  Victoria’s Secret Formally Returns to Swimwear...             fortune   \n",
       "2   Market movers: Stocks seeing action on Monday ...  the-globe-and-mail   \n",
       "8   Stocks making the biggest moves premarket: Deu...                cnbc   \n",
       "12          Deals of the day-Mergers and acquisitions             reuters   \n",
       "19  Death by a Thousand Clicks: Where Electronic H...             fortune   \n",
       "13  'Shark Tank' recap: San Diego entrepreneur's P...           usa-today   \n",
       "1   Bank of England and Fed meetings, Brexit, Thai...     financial-times   \n",
       "0   US retailers trump Warren Buffett with push in...     financial-times   \n",
       "4   Wall Street cuts profit forecasts for US retai...     financial-times   \n",
       "15  Superstore, Shoppers Drug Mart customers say t...            cbc-news   \n",
       "7   Hastings bookstore to close after more than 4 ...    associated-press   \n",
       "14  SC forests are protected, with a little help f...    associated-press   \n",
       "18  An Entrepreneur Bets on the Return of the Inst...             fortune   \n",
       "11  Bills have last chance as New Mexico lawmakers...    associated-press   \n",
       "17  Apple wants to take on Netflix with Oprah & Sp...           usa-today   \n",
       "5   After four years, Bill Morneau has yet to make...  the-globe-and-mail   \n",
       "10  Apple’s ambitious vision for the future of TV ...    business-insider   \n",
       "9            Toy market not much fun for UK retailers     financial-times   \n",
       "3   Here's how a tiny toymaker dodged the Toys R U...    business-insider   \n",
       "\n",
       "                    date                                        origContent  \n",
       "6   2019-03-18T20:42:00Z  Cannabis producer Tilray Inc. plans to focus t...  \n",
       "16  2019-03-18T17:57:13Z  Victoria’s Secret on Monday unveiled its new s...  \n",
       "2   2019-03-18T13:49:24Z  Shares of Manulife Financial Corp. (MFC-T) ros...  \n",
       "8   2019-03-18T11:56:00Z  Deutsche Bank Deutsche Bank and rival German b...  \n",
       "12  2019-03-18T10:08:07Z  ** Italian oil services company Saipem Spa is ...  \n",
       "19  2019-03-18T08:30:05Z  The pain radiated from the top of Annette Mona...  \n",
       "13  2019-03-18T03:00:02Z  Mark Cuban, Daymond John, Kevin O'Leary, Lori ...  \n",
       "1   2019-03-17T17:30:24Z  The Brexit saga rolls on with EU leaders sched...  \n",
       "0   2019-03-17T15:02:37Z  The balance of power is shifting between the b...  \n",
       "4   2019-03-17T14:22:46Z  Wall Street has cut profit forecasts for US re...  \n",
       "15  2019-03-17T08:00:00Z  Marvin Kaye said he was taken aback when, last...  \n",
       "7   2019-03-17T05:05:38Z  HASTINGS, Neb. (AP) A best seller in Hastings ...  \n",
       "14  2019-03-17T04:05:32Z  CHARLESTON, S.C. (AP) South Carolina and Calif...  \n",
       "18  2019-03-16T17:00:02Z  Of all the products gathering dust on supermar...  \n",
       "11  2019-03-16T14:58:02Z  SANTA FE, N.M. (AP) The New Mexico Legislature...  \n",
       "17  2019-03-16T13:00:02Z  Apple teased their first event of 2019 with tw...  \n",
       "5   2019-03-16T12:33:14Z  Bill Morneau, Canada's Minister of Finance, is...  \n",
       "10  2019-03-16T12:10:00Z  When Apple unveiled its revamped Apple TV set-...  \n",
       "9   2019-03-16T11:00:23Z  This week’s sale of the Early Learning Centre ...  \n",
       "3   2019-03-16T10:55:40Z  The liquidation of Toys R Us and closure of mo...  "
      ]
     },
     "execution_count": 17,
     "metadata": {},
     "output_type": "execute_result"
    }
   ],
   "source": [
    "df.sort_values(by=['date'], axis = 0, ascending = False)"
   ]
  },
  {
   "cell_type": "code",
   "execution_count": 15,
   "metadata": {},
   "outputs": [
    {
     "data": {
      "text/plain": [
       "Index(['title', 'source', 'date', 'origContent'], dtype='object')"
      ]
     },
     "execution_count": 15,
     "metadata": {},
     "output_type": "execute_result"
    }
   ],
   "source": [
    "df.columns"
   ]
  },
  {
   "cell_type": "code",
   "execution_count": 44,
   "metadata": {},
   "outputs": [
    {
     "data": {
      "text/plain": [
       "'2019-03-20'"
      ]
     },
     "execution_count": 44,
     "metadata": {},
     "output_type": "execute_result"
    }
   ],
   "source": [
    "from datetime import date, datetime, timedelta\n",
    "\n",
    "now = str(date.today())\n",
    "now\n"
   ]
  },
  {
   "cell_type": "code",
   "execution_count": 49,
   "metadata": {},
   "outputs": [],
   "source": [
    "yesterday = now[:8] + str(int(now[-2:])-1)"
   ]
  },
  {
   "cell_type": "raw",
   "metadata": {},
   "source": [
    "int(now[-2:])-1"
   ]
  },
  {
   "cell_type": "code",
   "execution_count": 20,
   "metadata": {},
   "outputs": [],
   "source": [
    "a = 1\n",
    "\n",
    "import pprint"
   ]
  },
  {
   "cell_type": "code",
   "execution_count": 34,
   "metadata": {},
   "outputs": [
    {
     "name": "stdout",
     "output_type": "stream",
     "text": [
      "there are 1 appls\n"
     ]
    }
   ],
   "source": [
    "print('there are {} appls'.format(a))\n",
    "now = datetime.now()"
   ]
  },
  {
   "cell_type": "code",
   "execution_count": null,
   "metadata": {},
   "outputs": [],
   "source": [
    "'{}-{}-{}'.format(datetime.dateti)"
   ]
  }
 ],
 "metadata": {
  "kernelspec": {
   "display_name": "Python 3",
   "language": "python",
   "name": "python3"
  },
  "language_info": {
   "codemirror_mode": {
    "name": "ipython",
    "version": 3
   },
   "file_extension": ".py",
   "mimetype": "text/x-python",
   "name": "python",
   "nbconvert_exporter": "python",
   "pygments_lexer": "ipython3",
   "version": "3.6.6"
  }
 },
 "nbformat": 4,
 "nbformat_minor": 2
}
