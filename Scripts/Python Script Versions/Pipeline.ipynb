{
 "cells": [
  {
   "cell_type": "markdown",
   "metadata": {},
   "source": [
    "# Pipeline to run all files\n",
    "* ~~All scripts currently output Excel files because we were working independently~~\n",
    "* ~~<b>We'll be changing this so that each script passes dataframes until the end of the pipeline.</b>~~\n",
    "* Our plan is to not store anything (refresh daily) but need to consider how to deal with taking in user feedback"
   ]
  },
  {
   "cell_type": "code",
   "execution_count": 1,
   "metadata": {},
   "outputs": [
    {
     "name": "stdout",
     "output_type": "stream",
     "text": [
      "Gathering articles on (Gap Inc) OR (Foot Locker) OR (L Brands) OR Macerich OR Kimco OR TJX OR CVS OR (Home Depot) OR (Best Buy) OR (Lowe's) OR Walmart OR (Target's) OR TGT OR Amazon OR Kroger OR Walgreens OR Kohl's OR (Dollar General) OR (Bed Bath and Beyond) OR Safeway from: 2019-03-12 to 2019-03-13\n",
      "337\n"
     ]
    }
   ],
   "source": [
    "#Gather Articles\n",
    "import NewsAPI as news\n",
    "import os\n",
    "\n",
    "#delete any old sorted article files\n",
    "#if os.path.exists(\"articles.csv\"):\n",
    "#    os.remove(\"articles.csv\")\n",
    "\n",
    "#inputs in order: set manual date (yes=1/no=0, no = last 24 hours of news), manual start date as \"YYYY-MM-DD\"(leave empty if 0), manual end date (leave empty if 0, companies to pull (6= all 19 companies)\n",
    "articleDB = news.main(1,\"2019-03-12\",\"2019-03-13\",6) #output is called 'NewsAPIOutput.xlsx' in Python Scripts > Data folder"
   ]
  },
  {
   "cell_type": "code",
   "execution_count": 2,
   "metadata": {},
   "outputs": [],
   "source": [
    "#Article Cleaning (must pip install tqdm first (only once) to run)\n",
    "import dataClean as dc\n",
    "articleDB = dc.DataClean(articleDB)"
   ]
  },
  {
   "cell_type": "code",
   "execution_count": 3,
   "metadata": {
    "scrolled": true
   },
   "outputs": [
    {
     "name": "stdout",
     "output_type": "stream",
     "text": [
      "[nltk_data] Downloading package vader_lexicon to\n",
      "[nltk_data]     C:\\Users\\Padmanie\\AppData\\Roaming\\nltk_data...\n",
      "[nltk_data]   Package vader_lexicon is already up-to-date!\n",
      "[nltk_data] Downloading package stopwords to\n",
      "[nltk_data]     C:\\Users\\Padmanie\\AppData\\Roaming\\nltk_data...\n",
      "[nltk_data]   Package stopwords is already up-to-date!\n",
      "[nltk_data] Downloading package averaged_perceptron_tagger to\n",
      "[nltk_data]     C:\\Users\\Padmanie\\AppData\\Roaming\\nltk_data...\n",
      "[nltk_data]   Package averaged_perceptron_tagger is already up-to-\n",
      "[nltk_data]       date!\n",
      "[nltk_data] Downloading package wordnet to\n",
      "[nltk_data]     C:\\Users\\Padmanie\\AppData\\Roaming\\nltk_data...\n",
      "[nltk_data]   Package wordnet is already up-to-date!\n",
      "[nltk_data] Downloading package wordnet to\n",
      "[nltk_data]     C:\\Users\\Padmanie\\AppData\\Roaming\\nltk_data...\n",
      "[nltk_data]   Package wordnet is already up-to-date!\n",
      "content\n",
      "wnLemm\n",
      "Binary Encoding\n",
      "True\n",
      "title\n",
      "wnLemm\n",
      "Binary Encoding\n",
      "True\n"
     ]
    }
   ],
   "source": [
    "#Feature Selection and Binary Article Encoding\n",
    "import FeatureEncoding as fe\n",
    "contentBinaryMatrix = fe.encoding(0, df=articleDB, text_col='content', norm='wnLemm')\n",
    "titleBinaryMatrix = fe.encoding(0, df=articleDB, text_col = 'title', norm='wnLemm')"
   ]
  },
  {
   "cell_type": "code",
   "execution_count": 4,
   "metadata": {},
   "outputs": [
    {
     "name": "stdout",
     "output_type": "stream",
     "text": [
      "Index([0, 1, 'article_id', 'prediction'], dtype='object')\n",
      "                                               title  \\\n",
      "0  Facebook’s messaging ambitions amount to much ...   \n",
      "1  Facebook's messaging ambitions amount to much ...   \n",
      "2  Market movers: Stocks that saw action on Wedne...   \n",
      "3  The Daily 202: Six revealing quotes that speak...   \n",
      "4  Stocks making the biggest moves in the premark...   \n",
      "\n",
      "                                         description  \n",
      "0  Facebook’s messaging ambitions amount to much ...  \n",
      "1  Facebook is already the leader in enabling you...  \n",
      "2  Market movers: Stocks that saw action on Wedne...  \n",
      "3  From Pelosi to Ryan and Cheney to Carlson, eac...  \n",
      "4                                                     \n"
     ]
    }
   ],
   "source": [
    "#Logistic Regression Classifier + Article Ranking, complete final file is called 'results_encoding.xlsx'\n",
    "import logReg as lr\n",
    "articleDB = lr.runLogReg(titleBinaryMatrix, contentBinaryMatrix, articleDB)\n",
    "#articleDB = runLogReg(titleBinaryMatrix, contentBinaryMatrix, articleDB)"
   ]
  },
  {
   "cell_type": "code",
   "execution_count": 5,
   "metadata": {
    "scrolled": true
   },
   "outputs": [
    {
     "name": "stderr",
     "output_type": "stream",
     "text": [
      "100%|████████████████████████████████████████████████████████████████████████████████| 216/216 [00:09<00:00, 21.77it/s]\n",
      "100%|████████████████████████████████████████████████████████████████████████████████| 216/216 [01:14<00:00,  2.44it/s]\n"
     ]
    }
   ],
   "source": [
    "# This code extracts and ranks \"tags\" + counts frequency of tag mentions in articles \n",
    "\"\"\"\n",
    "Inputs: \n",
    "    1) articleDB - uses column 'content'\n",
    "    2) (optional) - tag type (could be 'ngrams'{unlimited}, 'bigrams'{terms with up to 2 words}, or 'unigrams'{single terms})\n",
    "        - default is 'bigrams'\n",
    "        - future work: add in noun phrases, named entities \n",
    "Outputs:\n",
    "    1) articleDB = articleDB with appended columns \"tags\" and \"tags_top_5\"\n",
    "    2) trendingTermsDB = keyterms by # article mentions\n",
    "\"\"\"\n",
    "import ContextExtraction as ce\n",
    "articleDB, trendingTermsDB = ce.retrieveContext(articleDB)"
   ]
  },
  {
   "cell_type": "code",
   "execution_count": 6,
   "metadata": {},
   "outputs": [
    {
     "name": "stdout",
     "output_type": "stream",
     "text": [
      "tifidf Encoding\n",
      "bin Encoding\n"
     ]
    },
    {
     "name": "stderr",
     "output_type": "stream",
     "text": [
      "100%|███████████████████████████████████████████████████████████████████████████████| 216/216 [00:00<00:00, 298.40it/s]\n"
     ]
    },
    {
     "name": "stdout",
     "output_type": "stream",
     "text": [
      "tf Encoding\n"
     ]
    },
    {
     "name": "stderr",
     "output_type": "stream",
     "text": [
      "100%|███████████████████████████████████████████████████████████████████████████████| 216/216 [00:00<00:00, 280.36it/s]\n"
     ]
    },
    {
     "name": "stdout",
     "output_type": "stream",
     "text": [
      "     companys  ambitions    harken  wechat    become  centerpiece   digital  \\\n",
      "0         0.2       0.75  0.333333     2.0  0.039216     0.333333  0.173913   \n",
      "1         0.0       0.75  0.333333     2.0  0.039216     0.333333  0.173913   \n",
      "2         0.1       0.00  0.000000     0.0  0.019608     0.000000  0.000000   \n",
      "3         0.0       0.00  0.000000     0.0  0.058824     0.000000  0.000000   \n",
      "4         0.0       0.00  0.000000     0.0  0.000000     0.000000  0.000000   \n",
      "5         0.0       0.00  0.000000     0.0  0.000000     0.000000  0.000000   \n",
      "6         0.0       0.00  0.000000     0.0  0.039216     0.000000  0.000000   \n",
      "7         0.0       0.00  0.000000     0.0  0.019608     0.000000  0.000000   \n",
      "8         0.0       0.00  0.000000     0.0  0.000000     0.000000  0.000000   \n",
      "9         0.1       0.00  0.000000     0.0  0.039216     0.000000  0.000000   \n",
      "10        0.0       0.00  0.000000     0.0  0.019608     0.000000  0.000000   \n",
      "11        0.0       0.00  0.000000     0.0  0.000000     0.000000  0.000000   \n",
      "12        0.0       0.00  0.000000     0.0  0.000000     0.000000  0.086957   \n",
      "13        0.0       0.00  0.000000     0.0  0.019608     0.000000  0.000000   \n",
      "14        0.0       0.00  0.000000     0.0  0.000000     0.000000  0.000000   \n",
      "15        0.0       0.00  0.000000     0.0  0.000000     0.000000  0.000000   \n",
      "16        0.0       0.00  0.000000     0.0  0.000000     0.000000  0.086957   \n",
      "17        0.0       0.00  0.000000     0.0  0.000000     0.000000  0.000000   \n",
      "18        0.0       0.00  0.000000     0.0  0.039216     0.000000  0.000000   \n",
      "19        0.0       0.00  0.000000     0.0  0.000000     0.000000  0.000000   \n",
      "20        0.1       0.00  0.000000     0.0  0.000000     0.000000  0.000000   \n",
      "21        0.0       0.00  0.000000     0.0  0.000000     0.000000  0.043478   \n",
      "22        0.0       0.00  0.000000     0.0  0.000000     0.000000  0.000000   \n",
      "23        0.0       0.00  0.000000     0.0  0.000000     0.000000  0.000000   \n",
      "24        0.0       0.00  0.000000     0.0  0.000000     0.000000  0.000000   \n",
      "25        0.0       0.00  0.000000     0.0  0.000000     0.000000  0.434783   \n",
      "26        0.1       0.00  0.000000     0.0  0.019608     0.000000  0.000000   \n",
      "27        0.0       0.00  0.000000     0.0  0.039216     0.000000  0.000000   \n",
      "28        0.0       0.00  0.000000     0.0  0.019608     0.000000  0.000000   \n",
      "29        0.0       0.00  0.000000     0.0  0.000000     0.000000  0.000000   \n",
      "..        ...        ...       ...     ...       ...          ...       ...   \n",
      "186       0.0       0.00  0.000000     0.0  0.000000     0.000000  0.000000   \n",
      "187       0.0       0.00  0.000000     0.0  0.000000     0.000000  0.000000   \n",
      "188       0.0       0.00  0.000000     0.0  0.000000     0.000000  0.000000   \n",
      "189       0.0       0.00  0.000000     0.0  0.000000     0.000000  0.000000   \n",
      "190       0.0       0.00  0.000000     0.0  0.019608     0.000000  0.000000   \n",
      "191       0.0       0.00  0.000000     0.0  0.019608     0.000000  0.000000   \n",
      "192       0.0       0.00  0.000000     0.0  0.000000     0.000000  0.000000   \n",
      "193       0.0       0.00  0.000000     0.0  0.000000     0.000000  0.000000   \n",
      "194       0.0       0.00  0.000000     0.0  0.000000     0.000000  0.000000   \n",
      "195       0.0       0.00  0.000000     0.0  0.000000     0.000000  0.000000   \n",
      "196       0.0       0.00  0.000000     0.0  0.000000     0.000000  0.000000   \n",
      "197       0.0       0.00  0.000000     0.0  0.019608     0.000000  0.000000   \n",
      "198       0.0       0.00  0.000000     0.0  0.000000     0.000000  0.000000   \n",
      "199       0.0       0.00  0.000000     0.0  0.019608     0.000000  0.000000   \n",
      "200       0.0       0.00  0.000000     0.0  0.000000     0.000000  0.000000   \n",
      "201       0.0       0.00  0.000000     0.0  0.000000     0.000000  0.000000   \n",
      "202       0.0       0.00  0.000000     0.0  0.000000     0.000000  0.000000   \n",
      "203       0.0       0.00  0.000000     0.0  0.000000     0.000000  0.000000   \n",
      "204       0.0       0.00  0.000000     0.0  0.000000     0.000000  0.000000   \n",
      "205       0.0       0.00  0.000000     0.0  0.000000     0.000000  0.000000   \n",
      "206       0.0       0.00  0.000000     0.0  0.000000     0.000000  0.000000   \n",
      "207       0.0       0.00  0.000000     0.0  0.000000     0.000000  0.000000   \n",
      "208       0.0       0.00  0.000000     0.0  0.000000     0.000000  0.000000   \n",
      "209       0.0       0.00  0.000000     0.0  0.000000     0.000000  0.000000   \n",
      "210       0.0       0.00  0.000000     0.0  0.000000     0.000000  0.000000   \n",
      "211       0.0       0.00  0.000000     0.0  0.019608     0.000000  0.000000   \n",
      "212       0.0       0.00  0.000000     0.0  0.000000     0.000000  0.000000   \n",
      "213       0.0       0.00  0.000000     0.0  0.000000     0.000000  0.000000   \n",
      "214       0.0       0.00  0.000000     0.0  0.019608     0.000000  0.000000   \n",
      "215       0.0       0.00  0.000000     0.0  0.039216     0.000000  0.000000   \n",
      "\n",
      "         life     china    people     ...      nawaz  stakeholder  boasts  \\\n",
      "0    0.029412  0.103448  0.052632     ...        0.0          0.0     0.0   \n",
      "1    0.029412  0.103448  0.052632     ...        0.0          0.0     0.0   \n",
      "2    0.000000  0.000000  0.000000     ...        0.0          0.0     0.0   \n",
      "3    0.000000  0.137931  0.168421     ...        0.0          0.0     0.0   \n",
      "4    0.000000  0.000000  0.000000     ...        0.0          0.0     0.0   \n",
      "5    0.000000  0.000000  0.000000     ...        0.0          0.0     0.0   \n",
      "6    0.000000  0.000000  0.000000     ...        0.0          0.0     0.0   \n",
      "7    0.000000  0.000000  0.000000     ...        0.0          0.0     0.0   \n",
      "8    0.000000  0.000000  0.000000     ...        0.0          0.0     0.0   \n",
      "9    0.029412  0.000000  0.178947     ...        0.0          0.0     0.0   \n",
      "10   0.000000  0.000000  0.000000     ...        0.0          0.0     0.0   \n",
      "11   0.000000  0.034483  0.000000     ...        0.0          0.0     0.0   \n",
      "12   0.000000  0.000000  0.031579     ...        0.0          0.0     0.0   \n",
      "13   0.000000  0.000000  0.010526     ...        0.0          0.0     0.0   \n",
      "14   0.000000  0.000000  0.094737     ...        0.0          0.0     0.0   \n",
      "15   0.000000  0.000000  0.000000     ...        0.0          0.0     0.0   \n",
      "16   0.000000  0.000000  0.000000     ...        0.0          0.0     0.0   \n",
      "17   0.000000  0.034483  0.000000     ...        0.0          0.0     0.0   \n",
      "18   0.000000  0.000000  0.031579     ...        0.0          0.0     0.0   \n",
      "19   0.000000  0.000000  0.000000     ...        0.0          0.0     0.0   \n",
      "20   0.000000  0.000000  0.010526     ...        0.0          0.0     0.0   \n",
      "21   0.000000  0.000000  0.010526     ...        0.0          0.0     0.0   \n",
      "22   0.000000  0.034483  0.010526     ...        0.0          0.0     0.0   \n",
      "23   0.000000  0.000000  0.000000     ...        0.0          0.0     0.0   \n",
      "24   0.000000  0.000000  0.010526     ...        0.0          0.0     0.0   \n",
      "25   0.000000  0.000000  0.084211     ...        0.0          0.0     0.0   \n",
      "26   0.029412  0.000000  0.000000     ...        0.0          0.0     0.0   \n",
      "27   0.000000  0.000000  0.010526     ...        0.0          0.0     0.0   \n",
      "28   0.000000  0.000000  0.000000     ...        0.0          0.0     0.0   \n",
      "29   0.000000  0.000000  0.000000     ...        0.0          0.0     0.0   \n",
      "..        ...       ...       ...     ...        ...          ...     ...   \n",
      "186  0.000000  0.000000  0.000000     ...        0.0          0.0     0.0   \n",
      "187  0.000000  0.000000  0.000000     ...        0.0          0.0     0.0   \n",
      "188  0.000000  0.000000  0.042105     ...        0.0          0.0     0.0   \n",
      "189  0.000000  0.000000  0.000000     ...        0.0          0.0     0.0   \n",
      "190  0.000000  0.000000  0.000000     ...        0.0          0.0     0.0   \n",
      "191  0.029412  0.000000  0.021053     ...        0.0          0.0     0.0   \n",
      "192  0.000000  0.000000  0.000000     ...        0.0          0.0     0.0   \n",
      "193  0.029412  0.000000  0.010526     ...        0.0          0.0     0.0   \n",
      "194  0.000000  0.000000  0.000000     ...        0.0          0.0     0.0   \n",
      "195  0.000000  0.000000  0.000000     ...        0.0          0.0     0.0   \n",
      "196  0.000000  0.000000  0.000000     ...        0.0          0.0     0.0   \n",
      "197  0.029412  0.000000  0.010526     ...        0.0          0.0     0.0   \n",
      "198  0.000000  0.000000  0.000000     ...        0.0          0.0     0.0   \n",
      "199  0.000000  0.000000  0.000000     ...        0.0          0.0     0.0   \n",
      "200  0.000000  0.000000  0.000000     ...        0.0          0.0     0.0   \n",
      "201  0.000000  0.000000  0.021053     ...        0.0          0.0     0.0   \n",
      "202  0.000000  0.000000  0.000000     ...        0.0          0.0     0.0   \n",
      "203  0.000000  0.000000  0.000000     ...        0.0          0.0     0.0   \n",
      "204  0.029412  0.000000  0.000000     ...        0.0          0.0     0.0   \n",
      "205  0.000000  0.000000  0.010526     ...        0.0          0.0     0.0   \n",
      "206  0.000000  0.000000  0.000000     ...        0.0          0.0     0.0   \n",
      "207  0.000000  0.000000  0.000000     ...        0.0          0.0     0.0   \n",
      "208  0.000000  0.034483  0.010526     ...        0.0          0.0     0.0   \n",
      "209  0.029412  0.000000  0.000000     ...        0.0          0.0     0.0   \n",
      "210  0.000000  0.000000  0.000000     ...        0.0          0.0     0.0   \n",
      "211  0.000000  0.000000  0.000000     ...        0.0          0.0     0.0   \n",
      "212  0.000000  0.000000  0.000000     ...        0.0          0.0     0.0   \n",
      "213  0.000000  0.000000  0.000000     ...        0.0          0.0     0.0   \n",
      "214  0.000000  0.137931  0.042105     ...        0.0          0.0     0.0   \n",
      "215  0.000000  0.103448  0.021053     ...        0.5          0.5     0.5   \n",
      "\n",
      "     tons  miners  gargantuan  indigenous  outsiders  fuelling  separatist  \n",
      "0     0.0     0.0         0.0         0.0        0.0       0.0         0.0  \n",
      "1     0.0     0.0         0.0         0.0        0.0       0.0         0.0  \n",
      "2     0.0     0.0         0.0         0.0        0.0       0.0         0.0  \n",
      "3     0.0     0.0         0.0         0.0        0.0       0.0         0.0  \n",
      "4     0.0     0.0         0.0         0.0        0.0       0.0         0.0  \n",
      "5     0.0     0.0         0.0         0.0        0.0       0.0         0.0  \n",
      "6     0.0     0.0         0.0         0.0        0.0       0.0         0.0  \n",
      "7     0.0     0.0         0.0         0.0        0.0       0.0         0.0  \n",
      "8     0.0     0.0         0.0         0.0        0.0       0.0         0.0  \n",
      "9     0.0     0.0         0.0         0.0        0.0       0.0         0.0  \n",
      "10    0.0     0.0         0.0         0.0        0.0       0.0         0.0  \n",
      "11    0.0     0.0         0.0         0.0        0.0       0.0         0.0  \n",
      "12    0.0     0.0         0.0         0.0        0.0       0.0         0.0  \n",
      "13    0.0     0.0         0.0         0.0        0.0       0.0         0.0  \n",
      "14    0.0     0.0         0.0         0.0        0.0       0.0         0.0  \n",
      "15    0.0     0.0         0.0         0.0        0.0       0.0         0.0  \n",
      "16    0.0     0.0         0.0         0.0        0.0       0.0         0.0  \n",
      "17    0.0     0.0         0.0         0.0        0.0       0.0         0.0  \n",
      "18    0.0     0.0         0.0         0.0        0.0       0.0         0.0  \n",
      "19    0.0     0.0         0.0         0.0        0.0       0.0         0.0  \n",
      "20    0.0     0.0         0.0         0.0        0.0       0.0         0.0  \n",
      "21    0.0     0.0         0.0         0.0        0.0       0.0         0.0  \n",
      "22    0.0     0.0         0.0         0.0        0.0       0.0         0.0  \n",
      "23    0.0     0.0         0.0         0.0        0.0       0.0         0.0  \n",
      "24    0.0     0.0         0.0         0.0        0.0       0.0         0.0  \n",
      "25    0.0     0.0         0.0         0.0        0.0       0.0         0.0  \n",
      "26    0.0     0.0         0.0         0.0        0.0       0.0         0.0  \n",
      "27    0.0     0.0         0.0         0.0        0.0       0.0         0.0  \n",
      "28    0.0     0.0         0.0         0.0        0.0       0.0         0.0  \n",
      "29    0.0     0.0         0.0         0.0        0.0       0.0         0.0  \n",
      "..    ...     ...         ...         ...        ...       ...         ...  \n",
      "186   0.0     0.0         0.0         0.0        0.0       0.0         0.0  \n",
      "187   0.0     0.0         0.0         0.0        0.0       0.0         0.0  \n",
      "188   0.0     0.0         0.0         0.0        0.0       0.0         0.0  \n",
      "189   0.0     0.0         0.0         0.0        0.0       0.0         0.0  \n",
      "190   0.0     0.0         0.0         0.0        0.0       0.0         0.0  \n",
      "191   0.0     0.0         0.0         0.0        0.0       0.0         0.0  \n",
      "192   0.0     0.0         0.0         0.0        0.0       0.0         0.0  \n",
      "193   0.0     0.0         0.0         0.0        0.0       0.0         0.0  \n",
      "194   0.0     0.0         0.0         0.0        0.0       0.0         0.0  \n",
      "195   0.0     0.0         0.0         0.0        0.0       0.0         0.0  \n",
      "196   0.0     0.0         0.0         0.0        0.0       0.0         0.0  \n",
      "197   0.0     0.0         0.0         0.0        0.0       0.0         0.0  \n",
      "198   0.0     0.0         0.0         0.0        0.0       0.0         0.0  \n",
      "199   0.0     0.0         0.0         0.0        0.0       0.0         0.0  \n",
      "200   0.0     0.0         0.0         0.0        0.0       0.0         0.0  \n",
      "201   0.0     0.0         0.0         0.0        0.0       0.0         0.0  \n",
      "202   0.0     0.0         0.0         0.0        0.0       0.0         0.0  \n",
      "203   0.0     0.0         0.0         0.0        0.0       0.0         0.0  \n",
      "204   0.0     0.0         0.0         0.0        0.0       0.0         0.0  \n",
      "205   0.0     0.0         0.0         0.0        0.0       0.0         0.0  \n",
      "206   0.0     0.0         0.0         0.0        0.0       0.0         0.0  \n",
      "207   0.0     0.0         0.0         0.0        0.0       0.0         0.0  \n",
      "208   0.0     0.0         0.0         0.0        0.0       0.0         0.0  \n",
      "209   0.0     0.0         0.0         0.0        0.0       0.0         0.0  \n",
      "210   0.0     0.0         0.0         0.0        0.0       0.0         0.0  \n",
      "211   0.0     0.0         0.0         0.0        0.0       0.0         0.0  \n",
      "212   0.0     0.0         0.0         0.0        0.0       0.0         0.0  \n",
      "213   0.0     0.0         0.0         0.0        0.0       0.0         0.0  \n",
      "214   0.0     0.0         0.0         0.0        0.0       0.0         0.0  \n",
      "215   0.5     0.5         0.5         0.5        0.5       0.5         0.5  \n",
      "\n"
     ]
    },
    {
     "name": "stdout",
     "output_type": "stream",
     "text": [
      "[216 rows x 13276 columns]\n"
     ]
    }
   ],
   "source": [
    "import EncodingforRecommender as rec\n",
    "articleDB = rec.recommender(articleDB)"
   ]
  },
  {
   "cell_type": "code",
   "execution_count": 7,
   "metadata": {},
   "outputs": [],
   "source": [
    "import frontPage as fp\n",
    "frontpage = fp.FrontPage(articleDB, trendingTermsDB)"
   ]
  },
  {
   "cell_type": "code",
   "execution_count": 8,
   "metadata": {},
   "outputs": [
    {
     "data": {
      "text/plain": [
       "Index(['date', 'origContent', 'related_articles', 'source', 'tags', 'title'], dtype='object')"
      ]
     },
     "execution_count": 8,
     "metadata": {},
     "output_type": "execute_result"
    }
   ],
   "source": [
    "import pandas as pd\n",
    "articles = pd.DataFrame(frontpage['articles'])\n",
    "topterms= pd.DataFrame(frontpage['topterms'])\n",
    "articles.columns"
   ]
  },
  {
   "cell_type": "code",
   "execution_count": 9,
   "metadata": {},
   "outputs": [],
   "source": [
    "titles = pd.DataFrame(articles['tags'])"
   ]
  },
  {
   "cell_type": "code",
   "execution_count": 17,
   "metadata": {},
   "outputs": [],
   "source": [
    "pd.DataFrame.to_excel(articleDB, 'Main Version.xlsx')"
   ]
  },
  {
   "cell_type": "code",
   "execution_count": null,
   "metadata": {},
   "outputs": [],
   "source": []
  }
 ],
 "metadata": {
  "kernelspec": {
   "display_name": "Python 3",
   "language": "python",
   "name": "python3"
  },
  "language_info": {
   "codemirror_mode": {
    "name": "ipython",
    "version": 3
   },
   "file_extension": ".py",
   "mimetype": "text/x-python",
   "name": "python",
   "nbconvert_exporter": "python",
   "pygments_lexer": "ipython3",
   "version": "3.6.5"
  }
 },
 "nbformat": 4,
 "nbformat_minor": 2
}
