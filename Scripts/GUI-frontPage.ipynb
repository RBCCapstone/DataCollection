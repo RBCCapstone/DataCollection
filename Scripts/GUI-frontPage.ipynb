{
 "cells": [
  {
   "cell_type": "markdown",
   "metadata": {},
   "source": [
    "What this script does\n",
    "\n",
    "Upon a user clicking refresh\n",
    "* Run pipeline\n",
    "* Pull up most top terms & frequencies for ticker [48h?]\n",
    "* Pull up most market-moving news [50 articles] [48h?]"
   ]
  },
  {
   "cell_type": "code",
   "execution_count": 1,
   "metadata": {},
   "outputs": [],
   "source": [
    "import os\n",
    "from pathlib import Path\n",
    "import json\n",
    "import pandas as pd\n",
    "#import pipeline as pl\n"
   ]
  },
  {
   "cell_type": "code",
   "execution_count": 3,
   "metadata": {},
   "outputs": [],
   "source": [
    "def FrontPage(articleDB, trendingTermsDB):\n",
    "    # number of top articles\n",
    "    # todo; change to only 'predicted relevant' articles\n",
    "    numArts = 10\n",
    "    \n",
    "    # get articles\n",
    "    art = articleDB.iloc[0:numArts][['title','source', 'date']]\n",
    "    art['tags'] = list(map(lambda x: x.split(','), articleDB.iloc[0:numArts]['tags_top_5']))\n",
    "    artDict = art.to_dict(orient='records')\n",
    "        \n",
    "    # get top terms\n",
    "    tuples = [tuple(x) for x in trendingTermsDB.values]\n",
    "    topTerms = tuples[:10]\n",
    "    \n",
    "    # output final json\n",
    "    frontpage = {\"topterms\":topTerms, \"articles\":artDict}\n",
    "    with open(\"frontPage.json\", \"w\") as write_file:\n",
    "        json.dump(frontpage, write_file)  "
   ]
  },
  {
   "cell_type": "code",
   "execution_count": null,
   "metadata": {},
   "outputs": [],
   "source": []
  }
 ],
 "metadata": {
  "kernelspec": {
   "display_name": "Python 3",
   "language": "python",
   "name": "python3"
  },
  "language_info": {
   "codemirror_mode": {
    "name": "ipython",
    "version": 3
   },
   "file_extension": ".py",
   "mimetype": "text/x-python",
   "name": "python",
   "nbconvert_exporter": "python",
   "pygments_lexer": "ipython3",
   "version": "3.6.6"
  }
 },
 "nbformat": 4,
 "nbformat_minor": 2
}
