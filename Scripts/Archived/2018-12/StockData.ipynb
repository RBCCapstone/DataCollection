{
 "cells": [
  {
   "cell_type": "code",
   "execution_count": null,
   "metadata": {},
   "outputs": [],
   "source": [
    "# all data is output as a data frame -- basically a table you can manipulate\n",
    "# dfs have sql functions but with their own syntax\n",
    "# resources: \n",
    "# https://codeburst.io/how-to-rewrite-your-sql-queries-in-pandas-and-more-149d341fc53e\n",
    "# https://pandas.pydata.org/pandas-docs/stable/merging.html#database-style-dataframe-joining-merging"
   ]
  },
  {
   "cell_type": "code",
   "execution_count": 11,
   "metadata": {},
   "outputs": [],
   "source": [
    "import pyEX as p # iEX finance unofficial library\n",
    "import pandas as pd\n",
    "import csv\n",
    "import os\n",
    "import datetime\n",
    "from pathlib import Path"
   ]
  },
  {
   "cell_type": "code",
   "execution_count": 2,
   "metadata": {},
   "outputs": [],
   "source": [
    " DATA_DIR = \"Data\""
   ]
  },
  {
   "cell_type": "code",
   "execution_count": 3,
   "metadata": {},
   "outputs": [],
   "source": [
    "def loadData():\n",
    "    STOCKS_DIR = os.path.join(DATA_DIR, \"stockList.csv\")\n",
    "    \n",
    "    topCompanies = list(csv.DictReader(open(STOCKS_DIR)))\n",
    "\n",
    "    companies = []\n",
    "    for company in topCompanies:\n",
    "        companies.append(company['name'])\n",
    "\n",
    "    # initialize dictionary with companies\n",
    "    data = {company:{} for company in companies}\n",
    "\n",
    "    for company in topCompanies:\n",
    "        data[company['name']]['symbol']=company['symbol']\n",
    "        data[company['name']]['industry_id']=company['industry_id']\n",
    "        \n",
    "    return data"
   ]
  },
  {
   "cell_type": "code",
   "execution_count": 30,
   "metadata": {},
   "outputs": [],
   "source": [
    "def createStockDf(companies_df):\n",
    "    # arbitrarily initialize df object\n",
    "    arbSymbol = 'AAPL'\n",
    "    # get stock history for last month\n",
    "    arbChart = p.chartDF(arbSymbol, timeframe='1m')\n",
    "    # add stock symbol to df to act as a foreign key for company table\n",
    "    arbChart['symbol']='Arbitrary'\n",
    "    arbChart['industry_id']=0\n",
    "    # get company info\n",
    "    arbCompany = p.companyDF(arbSymbol)\n",
    "    # join the 2 tables and add to rest of stocks df\n",
    "    stocks_df = pd.merge(arbChart,arbCompany,how='left',on=['symbol'])\n",
    "\n",
    "    for company in companies_df.values():\n",
    "        symbol = company['symbol']\n",
    "        industry_id = company['industry_id']\n",
    "        # get stock history for last 1 month\n",
    "        chart_df = p.chartDF(symbol, timeframe='1y')\n",
    "        # add stock symbol to df to act as a foreign key for company table\n",
    "        chart_df['symbol']=symbol\n",
    "        # add our unique identifier for industry to the table\n",
    "        chart_df['industry_id']=industry_id\n",
    "        # get company info\n",
    "        company_df = p.companyDF(symbol)\n",
    "        # join the 2 tables and add to rest of stocks df\n",
    "        stocks_df = stocks_df.append(pd.merge(chart_df,company_df,how='left',on=['symbol']))\n",
    "    \n",
    "    # delete arbitrary rows\n",
    "    stocks_df = stocks_df.drop(stocks_df[stocks_df.symbol=='Arbitrary'].index)\n",
    "    \n",
    "    return stocks_df"
   ]
  },
  {
   "cell_type": "code",
   "execution_count": 12,
   "metadata": {},
   "outputs": [],
   "source": [
    "def outputStockData():\n",
    "    \n",
    "    data = loadData()\n",
    "\n",
    "    stocks_df = createStockDf(data)\n",
    "    \n",
    "    # File path for this file\n",
    "    file_name = datetime.datetime.today().strftime('%Y-%m-%d') + '_stockData' + '.csv'\n",
    "    thispath = Path().absolute()\n",
    "    OUTPUT_DIR = os.path.join(DATA_DIR, file_name)\n",
    "    # if the following line throws an error, use the line after to save in same folder\n",
    "    pd.DataFrame.to_csv(stocks_df, path_or_buf=OUTPUT_DIR, index=False, encoding='utf-8')\n",
    "    #pd.DataFrame.to_csv(X, path_or_buf=file_name)\n",
    "    \n",
    "def main(): # Stuff to do when run from the command line    \n",
    "    outputStockData()\n",
    "    pass "
   ]
  },
  {
   "cell_type": "code",
   "execution_count": 13,
   "metadata": {},
   "outputs": [],
   "source": [
    "outputStockData()"
   ]
  }
 ],
 "metadata": {
  "kernelspec": {
   "display_name": "Python 3",
   "language": "python",
   "name": "python3"
  },
  "language_info": {
   "codemirror_mode": {
    "name": "ipython",
    "version": 3
   },
   "file_extension": ".py",
   "mimetype": "text/x-python",
   "name": "python",
   "nbconvert_exporter": "python",
   "pygments_lexer": "ipython3",
   "version": "3.6.6"
  }
 },
 "nbformat": 4,
 "nbformat_minor": 2
}
