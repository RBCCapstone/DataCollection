{
 "cells": [
  {
   "cell_type": "markdown",
   "metadata": {},
   "source": [
    "### Jade's Changes\n",
    "\n",
    "<b>Current problems</b>:\n",
    "- amp;\n",
    "- div &gt; div.group &gt; p:first-child\"&gt; = video cnbc\n",
    "- no space between words separated by new line\n",
    "- Check out the companies making headlines before the belldiv gt divgroup gt pfirstchildgt\n",
    "- CNBC in general\n",
    "- shit at the end: To contact... blah blah\n",
    "- © CNBC is a USA TODAY content partner offering financial news and commentary. Its content is produced independently of USA TODAY.\n",
    "- Read or Share this story:\n",
    "- Read more here.\n",
    "- FT subscribers can click here to receive Market Forces every day by email.\n",
    "- Your feedback\n",
    "- I'd love to hear from you. You can email me on michael.mackenzie@ft.com and follow me on Twitter at @michaellachlan.\n",
    "- COPYRIGHT\n",
    "- © 2019 Bloomberg L.P\n",
    "- (Bloomberg)—\n",
    "- Anything with \"Transcript\" should be removed\n",
    "- Write to Sara Castellanos at sara.castellanos@wsj.com\n",
    "- Disclosure: Cramer's charitable trust owns shares of Johnson &amp; Johnson.\n",
    "- Questions for Cramer?Call Cramer: 1-800-743-CNBC\n",
    "- Want to take a deep dive into Cramer's world? Hit him up!Mad Money Twitter - Jim Cramer Twitter - Facebook - Instagram\n",
    "- Questions, comments, suggestions for the \"Mad Money\" website? madcap@cnbc.com\n",
    "- RPT-\n",
    "\n",
    "<b>Some rules I'm considering</b>:\n",
    "- Rid articles with less than 5 periods\n",
    "- Rid articles where writers say \"I\" a lot\n",
    "- ~~Rid anything with Jim Cramer~~ done\n",
    "- ~~Rid articles with title containing \"transcript\"~~ done\n",
    "- ~~Rid articles with title containing \"rpt\" (repeat)~~ done\n",
    "\n",
    "Within articles:\n",
    "- Periods between 2 numbers should be preserved\n",
    "- Remove any lines in articles that don't contain periods\n",
    "- Remove any lines that don't have more than 5 words\n",
    "- Remove sentences containing \"more here\"\n",
    "- Remove anything after ©\n",
    "- Remove any of the last 3 sentences if they contain \"questions, comments\" or \"email\" or \"write to\" or \"I\""
   ]
  },
  {
   "cell_type": "code",
   "execution_count": 1,
   "metadata": {},
   "outputs": [],
   "source": [
    "# imports\n",
    "import os\n",
    "from os import listdir\n",
    "from os.path import isfile, join\n",
    "from pathlib import Path\n",
    "import pandas as pd\n",
    "import re, string"
   ]
  },
  {
   "cell_type": "code",
   "execution_count": 25,
   "metadata": {},
   "outputs": [],
   "source": [
    "# Import articles\n",
    "def importData(filename):\n",
    "    \"\"\"\n",
    "    Import data into df\n",
    "    \"\"\"\n",
    "    #Import Labelled Data\n",
    "    DATA_DIR = \"Data\"\n",
    "    thispath = Path().absolute()\n",
    "    ARTICLES = os.path.join(DATA_DIR, filename)\n",
    "    \n",
    "    df = pd.read_excel(ARTICLES)\n",
    "\n",
    "    try:\n",
    "        df.head()\n",
    "    except:\n",
    "        pass\n",
    "    return df"
   ]
  },
  {
   "cell_type": "code",
   "execution_count": 13,
   "metadata": {},
   "outputs": [],
   "source": [
    "import matplotlib.pyplot as plt\n",
    "def initialize_plot():\n",
    "    plt.plot()\n",
    "    plt.ylabel('Number of words')\n",
    "    plt.xlabel('')\n",
    "    plt.title(\"Number of words in articles pre-clean (n=%s)\"%(len(df)))\n",
    "    return plt"
   ]
  },
  {
   "cell_type": "code",
   "execution_count": 64,
   "metadata": {},
   "outputs": [],
   "source": [
    "df = importData(\"Labelled Articles.xlsx\")"
   ]
  },
  {
   "cell_type": "code",
   "execution_count": 65,
   "metadata": {
    "scrolled": true
   },
   "outputs": [
    {
     "data": {
      "image/png": "[encoded data removed]",
      "text/plain": [
       "<Figure size 432x288 with 1 Axes>"
      ]
     },
     "metadata": {},
     "output_type": "display_data"
    }
   ],
   "source": [
    "df = df[df['content'].str.split().str.len() > 300]\n",
    "bp = initialize_plot()\n",
    "bp = df['content'].str.split().str.len().to_frame().boxplot()\n",
    "plt.show()"
   ]
  },
  {
   "cell_type": "code",
   "execution_count": 66,
   "metadata": {},
   "outputs": [
    {
     "name": "stdout",
     "output_type": "stream",
     "text": [
      "To market womens sportswear industry executives have long grappled with a perennial debate Are celebrities or sports stars more effective endorsers In the case of German brand Puma SE PUM 577 its 2014 decision to sign pop star Rihanna as a creative director appears to have paid off Annual sales have grown from 3 billion 36 billion to nearly 4 billion the brand has expanded distribution in major retailers like Foot Locker Inc FL 248 and parent company Kering SA KER 012 on Thursday announced a plan to distribute 70 of Pumas shares to Kering shareholders praising the businesss recent turnaround In Pumas most recent annual report the company credited Rihanna and the fantastic development of our womens category as contributing to a 7 sales jump in 2016 Puma Chief Executive Bjorn Gulden said fundamental differences between how men and women buy sportswear led to the companys decision to enlist Rihanna a move that at the time was criticized by industry analysts as a marketing ploy Its unfortunately very difficult to find a female athlete that means something in China in Norway in the US and in Germany If you do its coming from someone in entertainment the Norway native said On the mens side its very different You can probably name 10 basketball players who mean something all over the world same with soccer Puma also outfits a range of prominent athletes including members of English soccer club Arsenal and Olympic champion sprinter Usain Bolt as well as some female athletes like US sprinter Jenna Prandini But it has expanded its roster of female celebrities since Rihanna to include realitytelevision star Kylie Jenner and singer Selena Gomez The celebrity marketing playbook hasnt always been effective for sports brands In the early 2000s Reebok signed rappers JayZ and 50 Cent to help expand its appeal at a time when it was known for outfitting the National Football League and a shoe contract with basketball star Allen Iverson Reebok was acquired by rival Adidas AG in 2006 and struggled to define its identity eventually abandoned its teamsports focus Yoga gear maker Lululemon LULU 019 Athletica Inc ushered in the athleisure era over the past decade with its highprice leggings and strappy bras all without splashy celebrity marketing In a 2016 interview Chief Executive Laurent Potdevin said the company takes a decidedly different approach to marketing using affiliations with community fitness instructors Those are the local superheros that you know in your communities and you go to their studios he said So we dont do endorsements the way big athletic brands do To be sure industry titans Nike Inc and Adidas have done their share of celebrity marketing including partnerships with rappers Kendrick Lamar and Kanye West respectively But they have traditionally focused their marketing dollars on prominent athletes including women like sprinter Allyson Felix and tennis player Caroline Wozniacki Puma endorsed tennis star Serena Williams early in her career but Nike picked up her contract in 2003 The big brands still have room to grow their womens businesses and have faced competition from upstarts Nike said it would expand a line of Jordan footwear for women this spring and partner with online apparel seller Stitch Fix to better reach female consumers Meanwhile Under Armour Inc lost the head of its womens business last fall and said it would focus on performance gear as it combats a streak of slowing sales Each of the major international sports brandsNike Adidas Under Armour Puma and Lululemonwere founded by and are helmed by men Mr Gulden who has been Pumas CEO since 2013 said women take their style cues from a range of sources not just athletes Lets face it you women like to look good when you do sports he said and actually spend more money on the clothes than men do Industry tracker NPD Group said women accounted for 62 of retail athleticapparel sales in the US for the year ended in November\n",
      "To market womens sportswear industry executives have long grappled with a perennial debate Are celebrities or sports stars more effective endorsers In the case of German brand Puma SE PUM 577 its 2014 decision to sign pop star Rihanna as a creative director appears to have paid off Annual sales have grown from 3 billion 36 billion to nearly 4 billion the brand has expanded distribution in major retailers like Foot Locker Inc FL 248 and parent company Kering SA KER 012 on Thursday announced a plan to distribute 70 of Pumas shares to Kering shareholders praising the businesss recent turnaround In Pumas most recent annual report the company credited Rihanna and the fantastic development of our womens category as contributing to a 7 sales jump in 2016 Puma Chief Executive Bjorn Gulden said fundamental differences between how men and women buy sportswear led to the companys decision to enlist Rihanna a move that at the time was criticized by industry analysts as a marketing ploy Its unfortunately very difficult to find a female athlete that means something in China in Norway in the US and in Germany If you do its coming from someone in entertainment the Norway native said On the mens side its very different You can probably name 10 basketball players who mean something all over the world same with soccer Puma also outfits a range of prominent athletes including members of English soccer club Arsenal and Olympic champion sprinter Usain Bolt as well as some female athletes like US sprinter Jenna Prandini But it has expanded its roster of female celebrities since Rihanna to include realitytelevision star Kylie Jenner and singer Selena Gomez The celebrity marketing playbook hasnt always been effective for sports brands In the early 2000s Reebok signed rappers JayZ and 50 Cent to help expand its appeal at a time when it was known for outfitting the National Football League and a shoe contract with basketball star Allen Iverson Reebok was acquired by rival Adidas AG in 2006 and struggled to define its identity eventually abandoned its teamsports focus Yoga gear maker Lululemon LULU 019 Athletica Inc ushered in the athleisure era over the past decade with its highprice leggings and strappy bras all without splashy celebrity marketing In a 2016 interview Chief Executive Laurent Potdevin said the company takes a decidedly different approach to marketing using affiliations with community fitness instructors Those are the local superheros that you know in your communities and you go to their studios he said So we dont do endorsements the way big athletic brands do To be sure industry titans Nike Inc and Adidas have done their share of celebrity marketing including partnerships with rappers Kendrick Lamar and Kanye West respectively But they have traditionally focused their marketing dollars on prominent athletes including women like sprinter Allyson Felix and tennis player Caroline Wozniacki Puma endorsed tennis star Serena Williams early in her career but Nike picked up her contract in 2003 The big brands still have room to grow their womens businesses and have faced competition from upstarts Nike said it would expand a line of Jordan footwear for women this spring and partner with online apparel seller Stitch Fix to better reach female consumers Meanwhile Under Armour Inc lost the head of its womens business last fall and said it would focus on performance gear as it combats a streak of slowing sales Each of the major international sports brandsNike Adidas Under Armour Puma and Lululemonwere founded by and are helmed by men Mr Gulden who has been Pumas CEO since 2013 said women take their style cues from a range of sources not just athletes Lets face it you women like to look good when you do sports he said and actually spend more money on the clothes than men do Industry tracker NPD Group said women accounted for 62 of retail athleticapparel sales in the US for the year ended in November\n"
     ]
    }
   ],
   "source": [
    "#remove blanks (NaN)\n",
    "df = df.dropna(subset = ['content', 'title']) \n",
    "\n",
    "#remove blocked articles without content\n",
    "df = df[df.content.str.contains('Your usage has been flagged', case=False) == False]\n",
    "df = df[df.content.str.contains('To continue, please click the box', case=False) == False]\n",
    "\n",
    "#remove vidoes/ads/commentary\n",
    "df = df[df.description.str.contains('The \"Fast Money\" traders share their first moves for the market open.', case=False) == False]\n",
    "df = df[df.description.str.contains('stuff we think you', case=False) == False]\n",
    "\n",
    "#remove transcripts\n",
    "df = df[df.title.str.contains('transcript', case=False) == False]\n",
    "\n",
    "#remove cramer\n",
    "df = df[df.title.str.contains('cramer', case=False) == False]\n",
    "\n",
    "#keep articles with more than 300 words, which is the lower end of the boxplot\n",
    "#df = df[df['content'].str.split().str.len() > 300]\n",
    "\n",
    "#remove duplicates\n",
    "# by self-identified repeat\n",
    "df = df[df.title.str.contains('rpt', case=False) == False]\n",
    "# by title\n",
    "df = df.drop_duplicates(subset=['title'], keep='first')\n",
    "# by content\n",
    "df = df.drop_duplicates(subset=['content'], keep='first')\n",
    "# by decription\n",
    "df = df.drop_duplicates(subset=['description'], keep='first')\n",
    "\n",
    "df = df.reset_index(drop=True)\n",
    "\n",
    "\n",
    "# CLEAN ORIGINAL CONTENT\n",
    "df['origContent'] = df['content'] \n",
    "\n",
    "print(df['origContent'].iloc[4])\n",
    "\n",
    "#Remove nonsense sentences from original content pull\n",
    "for i in df.index:\n",
    "    \n",
    "    article = df['origContent'].iloc[i].split('\\r\\n')\n",
    "   \n",
    "    # remove lines with no period\n",
    "    article[:] = [sentence for sentence in article if '.' in sentence]\n",
    "    # remove lines with less than 5 words\n",
    "    article[:] = [sentence for sentence in article if len(sentence.split())>5]\n",
    "    # remove photo credits\n",
    "    article[:] = [sentence for sentence in article if not('Photo' in sentence)]\n",
    "    blackList = ['get breaking news','click here','write to','subscribe','read more','read or share','reporting by','twitter, instagram','comment','copyright','©']\n",
    "    # remove lines with terms that are associated with useless sentences\n",
    "    article[:] = [sentence for sentence in article if not any(term in sentence.lower() for term in blackList)]\n",
    "\n",
    "    df.at[i,'origContent']='\\r\\n'.join(article)\n",
    "\n",
    "#Remove videos from cnbc links\n",
    "pat_cnbcVid = re.compile('div &gt; div\\.group &gt; p:first-child\"&gt;')\n",
    "df['origContent'] = list(map(lambda x: pat_cnbcVid.sub('', x), df['origContent']))\n",
    "#Remove amp;\n",
    "pat_amp = re.compile('amp;')\n",
    "df['origContent'] = list(map(lambda x: pat_amp.sub('', x), df['origContent']))\n",
    "\n",
    "# CLEAN CONTENT FOR FEATURE SELECTION df['content'] AND CONTEXT EXTRACTION df['contentWithStops'] \n",
    "\n",
    "\n",
    "#Remove time\n",
    "#pat_time = re.compile('[0-9]{0,2}:?[0-9]{1,2}\\s?[aApP]\\.?[mM]\\.?')\n",
    "#df['content'] = list(map(lambda x: pat_time.sub(' ', x), df['origContent'].str.lower()))\n",
    "\n",
    "\n",
    "\n",
    "#Remove urls\n",
    "pat_url = re.compile('[a-z]+?[.]?[a-z]+?[.]?[a-z]+[.]?[\\/\\/]\\S+')\n",
    "df['content'] = list(map(lambda x: pat_url.sub('URL', x), df['content']))\n",
    "pat_https = re.compile('https://')\n",
    "df['content'] = list(map(lambda x: pat_https.sub('', x), df['content']))\n",
    "\n",
    "print(df['content'].iloc[4])\n",
    "\n",
    "#Remove stopwords\n",
    "stopwords = [\n",
    "    # dates/times\n",
    "    \"january\", \"february\", \"march\", \"april\", \"may\", \"june\", \"july\", \"august\", \"september\", \"october\", \"november\", \"december\", \"jan\", \"feb\",\"mar\", \"apr\", \"jun\", \"jul\", \"aug\", \"oct\", \"nov\", \"dec\", \"monday\", \"tuesday\", \"wednesday\", \"thursday\", \"friday\", \"saturday\", \"sunday\", \"morning\", \"evening\",\"today\",\"pm\",\"am\",\n",
    "    # specific article terms that are useless\n",
    "    \"read\", \"share\", \"file\", \"'s\", \"photo\", \"inc\", \"corp\", \"group\", \"inc\", \"corp\", \"source\", \"bloomberg\", \"cnbc\",\"cnbcs\", \"cnn\", \"reuters\",\"bbc\", \"published\", \"broadcast\",\"york\",\"msnbc\",\"ap\",\"said\",\n",
    "    # other useless terms\n",
    "    \"me\", \"my\", \"myself\", \"we\", \"our\", \"ours\", \"ourselves\", \"you\", \"your\", \"yours\", \"yourself\", \"yourselves\", \"he\", \"him\", \"his\", \"himself\", \"she\", \"her\", \"hers\", \"herself\", \"it\", \"its\", \"itself\", \"they\", \"them\", \"their\", \"theirs\", \"themselves\", \"what\", \"which\", \"who\", \"whom\", \"this\", \"that\", \"these\", \"those\", \"co\", \"inc\", \"com\", \"theyve\", \"theyre\", \"theres\", \"heres\", \"didnt\", \"wouldn\", \"couldn\", \"didn\",\"nbcuniversal\",\"according\", \"just\", \"us\", \"ll\", \"times\",\"yes\",\"such\", \"no\", \"nor\", \"not\", \"only\", \"own\", \"same\", \"so\", \"than\", \"too\", \"very\", \"just\", \"don\", \"now\", \"will\", \"wasn\", \"etc\", \"but\", \"hello\", \"welcome\", \"re\",\"my\",     \n",
    "    # etc\n",
    "    \"also\",\"us\",\"the\", \"a\", \"of\", \"have\", \"has\", \"had\", \"having\", \"hello\", \"welcome\", \"yeah\", \"wasn\", \"today\", \"etc\", \"ext\",\"definitely\", \"am\", \"is\", \"are\", \"was\", \"were\", \"be\", \"been\", \"being\", \"have\", \"has\", \"had\", \"having\", \"do\", \"does\", \"did\", \"doing\", \"a\", \"an\", \"the\", \"and\", \"but\", \"if\", \"or\", \"because\", \"as\", \"while\", \"of\", \"at\", \"by\", \"for\", \"about\", \"into\", \"through\", \"during\", \"before\", \"after\", \"to\", \"from\", \"in\", \"out\", \"on\", \"off\", \"over\", \"under\", \"again\", \"further\", \"then\", \"once\", \"here\", \"there\", \"when\", \"where\", \"why\", \"how\", \"all\", \"any\", \"both\", \"each\", \"few\", \"more\", \"most\", \"other\", \"some\", \"such\", \"no\", \"nor\", \"not\", \"only\", \"own\", \"same\", \"so\", \"than\", \"too\", \"very\", \"just\", \"don\", \"now\", \"will\"\n",
    "]\n",
    "\n",
    "pat_stopwords = re.compile(r'\\b(' + r'|'.join(stopwords) + r')\\b\\s*')\n",
    "df['content'] = list(map(lambda x: pat_stopwords.sub(' ', x), df['content'].str.lower()))\n",
    "\n",
    "\n",
    "#Remove single character words\n",
    "pat_charLim = re.compile('\\s[a-zA-Z]\\s')\n",
    "df['content'] = list(map(lambda x: pat_charLim.sub(' ', x), df['content']))\n",
    "\n",
    "#Remove characters that don't separate a sentence or aren't $ signs\n",
    "# FOR context extraction\n",
    "pat_nonStops = re.compile('[^\\.\\?!,;\\$0-9a-zA-Z]+')\n",
    "df['contentWithStops'] = list(map(lambda x: pat_nonStops.sub(' ', x), df['content']))\n",
    "\n",
    "#Remove punctuation \n",
    "# FOR feature selection/encoding\n",
    "pat_punctuation = re.compile('[^a-zA-Z]+')\n",
    "df['content'] = list(map(lambda x: pat_punctuation.sub(' ', x), df['content']))\n",
    "\n",
    "#Remove single characters\n",
    "df['content'] = list(map(lambda x: pat_charLim.sub(' ', x), df['content']))"
   ]
  },
  {
   "cell_type": "code",
   "execution_count": 22,
   "metadata": {},
   "outputs": [
    {
     "data": {
      "text/plain": [
       "RangeIndex(start=0, stop=2246, step=1)"
      ]
     },
     "execution_count": 22,
     "metadata": {},
     "output_type": "execute_result"
    }
   ],
   "source": [
    "df.index"
   ]
  },
  {
   "cell_type": "code",
   "execution_count": 62,
   "metadata": {},
   "outputs": [
    {
     "data": {
      "text/plain": [
       "''"
      ]
     },
     "execution_count": 62,
     "metadata": {},
     "output_type": "execute_result"
    }
   ],
   "source": [
    "df['origContent'].iloc[4]"
   ]
  },
  {
   "cell_type": "code",
   "execution_count": 58,
   "metadata": {},
   "outputs": [
    {
     "data": {
      "text/plain": [
       "' market womens sportswear industry executives long grappled with perennial debate celebrities sports stars effective endorsers case german brand puma se pum decision sign pop star rihanna creative director appears paid annual sales grown billion billion nearly billion brand expanded distribution major retailers like foot locker fl parent company kering sa ker announced plan distribute pumas shares kering shareholders praising businesss recent turnaround pumas recent annual report company credited rihanna fantastic development womens category contributing sales jump puma chief executive bjorn gulden fundamental differences between men women buy sportswear led companys decision enlist rihanna move time criticized industry analysts marketing ploy unfortunately difficult find female athlete means something china norway germany coming someone entertainment norway native mens side different can probably name basketball players mean something world with soccer puma outfits range prominent athletes including members english soccer club arsenal olympic champion sprinter usain bolt well female athletes like sprinter jenna prandini expanded roster female celebrities since rihanna include realitytelevision star kylie jenner singer selena gomez celebrity marketing playbook hasnt always effective sports brands early reebok signed rappers jayz cent help expand appeal time known outfitting national football league shoe contract with basketball star allen iverson reebok acquired rival adidas ag struggled define identity eventually abandoned teamsports focus yoga gear maker lululemon lulu athletica ushered athleisure era past decade with highprice leggings strappy bras without splashy celebrity marketing interview chief executive laurent potdevin company takes decidedly different approach marketing using affiliations with community fitness instructors local superheros know communities go studios dont endorsements way big athletic brands sure industry titans nike adidas done celebrity marketing including partnerships with rappers kendrick lamar kanye west respectively traditionally focused marketing dollars prominent athletes including women like sprinter allyson felix tennis player caroline wozniacki puma endorsed tennis star serena williams early career nike picked up contract big brands still room grow womens businesses faced competition upstarts nike would expand line jordan footwear women spring partner with online apparel seller stitch fix better reach female consumers meanwhile armour lost head womens business last fall would focus performance gear combats streak slowing sales major international sports brandsnike adidas armour puma lululemonwere founded helmed men mr gulden pumas ceo since women take style cues range sources athletes lets face women like look good sports actually spend money clothes men industry tracker npd women accounted retail athleticapparel sales year ended '"
      ]
     },
     "execution_count": 58,
     "metadata": {},
     "output_type": "execute_result"
    }
   ],
   "source": [
    "df['content'].iloc[4]"
   ]
  },
  {
   "cell_type": "code",
   "execution_count": 60,
   "metadata": {},
   "outputs": [
    {
     "data": {
      "text/plain": [
       "' market womens sportswear industry executives long grappled with perennial debate celebrities sports stars effective endorsers case german brand puma se pum 577 2014 decision sign pop star rihanna creative director appears paid annual sales grown 3 billion 36 billion nearly 4 billion brand expanded distribution major retailers like foot locker fl 248 parent company kering sa ker 012 announced plan distribute 70 pumas shares kering shareholders praising businesss recent turnaround pumas recent annual report company credited rihanna fantastic development womens category contributing 7 sales jump 2016 puma chief executive bjorn gulden fundamental differences between men women buy sportswear led companys decision enlist rihanna move time criticized industry analysts marketing ploy unfortunately difficult find female athlete means something china norway germany coming someone entertainment norway native mens side different can probably name 10 basketball players mean something world with soccer puma outfits range prominent athletes including members english soccer club arsenal olympic champion sprinter usain bolt well female athletes like sprinter jenna prandini expanded roster female celebrities since rihanna include realitytelevision star kylie jenner singer selena gomez celebrity marketing playbook hasnt always effective sports brands early 2000s reebok signed rappers jayz 50 cent help expand appeal time known outfitting national football league shoe contract with basketball star allen iverson reebok acquired rival adidas ag 2006 struggled define identity eventually abandoned teamsports focus yoga gear maker lululemon lulu 019 athletica ushered athleisure era past decade with highprice leggings strappy bras without splashy celebrity marketing 2016 interview chief executive laurent potdevin company takes decidedly different approach marketing using affiliations with community fitness instructors local superheros know communities go studios dont endorsements way big athletic brands sure industry titans nike adidas done celebrity marketing including partnerships with rappers kendrick lamar kanye west respectively traditionally focused marketing dollars prominent athletes including women like sprinter allyson felix tennis player caroline wozniacki puma endorsed tennis star serena williams early career nike picked up contract 2003 big brands still room grow womens businesses faced competition upstarts nike would expand line jordan footwear women spring partner with online apparel seller stitch fix better reach female consumers meanwhile armour lost head womens business last fall would focus performance gear combats streak slowing sales major international sports brandsnike adidas armour puma lululemonwere founded helmed men mr gulden pumas ceo since 2013 women take style cues range sources athletes lets face women like look good sports actually spend money clothes men industry tracker npd women accounted 62 retail athleticapparel sales year ended '"
      ]
     },
     "execution_count": 60,
     "metadata": {},
     "output_type": "execute_result"
    }
   ],
   "source": [
    "df['contentWithStops'].iloc[4]"
   ]
  },
  {
   "cell_type": "code",
   "execution_count": 59,
   "metadata": {},
   "outputs": [],
   "source": [
    "import matplotlib.pyplot as plt\n",
    "def initialize_plot():\n",
    "    plt.plot()\n",
    "    plt.ylabel('Number of words')\n",
    "    plt.xlabel('')\n",
    "    plt.title(\"Number of words in each articles (n=%s)\"%(len(df)))\n",
    "    return plt"
   ]
  },
  {
   "cell_type": "code",
   "execution_count": 9,
   "metadata": {},
   "outputs": [
    {
     "data": {
      "image/png": "[encoded data removed]",
      "text/plain": [
       "<Figure size 432x288 with 1 Axes>"
      ]
     },
     "metadata": {},
     "output_type": "display_data"
    }
   ],
   "source": [
    "#df = df[df['content'].str.split().str.len() > 500]\n",
    "bp = initialize_plot()\n",
    "bp = df['content'].str.split().str.len().to_frame().boxplot()\n",
    "plt.show()"
   ]
  },
  {
   "cell_type": "code",
   "execution_count": 10,
   "metadata": {},
   "outputs": [
    {
     "data": {
      "text/plain": [
       "0"
      ]
     },
     "execution_count": 10,
     "metadata": {},
     "output_type": "execute_result"
    }
   ],
   "source": [
    "df['content'].str.split().str.len().iloc[100]"
   ]
  },
  {
   "cell_type": "code",
   "execution_count": 216,
   "metadata": {},
   "outputs": [],
   "source": [
    "OUTPUT_DIR = os.path.join(\"Data\", 'Labelled Articles_cleaned.xlsx')\n",
    "writer = pd.ExcelWriter(OUTPUT_DIR)\n",
    "df.to_excel(writer,'Sheet1')\n",
    "writer.save()"
   ]
  },
  {
   "cell_type": "code",
   "execution_count": 59,
   "metadata": {},
   "outputs": [],
   "source": [
    "test = [\"I I I I I\", \"I. I. I. I.\", \"I. I . I .I .I .I\", \"I . a dad , I s.djaf I. I. i\",\"I . a dad , I sdjaf I I i\"]\n"
   ]
  },
  {
   "cell_type": "code",
   "execution_count": 60,
   "metadata": {},
   "outputs": [
    {
     "name": "stdout",
     "output_type": "stream",
     "text": [
      "0 5\n",
      "0 0\n",
      "0 2\n",
      "0 2\n",
      "0 4\n"
     ]
    }
   ],
   "source": [
    "for line in test:\n",
    "    print(i,line.split().count('I'))"
   ]
  },
  {
   "cell_type": "code",
   "execution_count": null,
   "metadata": {},
   "outputs": [],
   "source": []
  }
 ],
 "metadata": {
  "kernelspec": {
   "display_name": "Python 3",
   "language": "python",
   "name": "python3"
  },
  "language_info": {
   "codemirror_mode": {
    "name": "ipython",
    "version": 3
   },
   "file_extension": ".py",
   "mimetype": "text/x-python",
   "name": "python",
   "nbconvert_exporter": "python",
   "pygments_lexer": "ipython3",
   "version": "3.6.6"
  }
 },
 "nbformat": 4,
 "nbformat_minor": 2
}
