{
 "cells": [
  {
   "cell_type": "markdown",
   "metadata": {},
   "source": [
    "### Jade's Changes\n",
    "\n",
    "<b>Current problems</b>:\n",
    "- amp;\n",
    "- div &gt; div.group &gt; p:first-child\"&gt; = video cnbc\n",
    "- no space between words separated by new line\n",
    "- Check out the companies making headlines before the belldiv gt divgroup gt pfirstchildgt\n",
    "- CNBC in general\n",
    "- shit at the end: To contact... blah blah\n",
    "- © CNBC is a USA TODAY content partner offering financial news and commentary. Its content is produced independently of USA TODAY.\n",
    "- Read or Share this story:\n",
    "- Read more here.\n",
    "- FT subscribers can click here to receive Market Forces every day by email.\n",
    "- Your feedback\n",
    "- I'd love to hear from you. You can email me on michael.mackenzie@ft.com and follow me on Twitter at @michaellachlan.\n",
    "- COPYRIGHT\n",
    "- © 2019 Bloomberg L.P\n",
    "- (Bloomberg)—\n",
    "- Anything with \"Transcript\" should be removed\n",
    "- Write to Sara Castellanos at sara.castellanos@wsj.com\n",
    "- Disclosure: Cramer's charitable trust owns shares of Johnson &amp; Johnson.\n",
    "- Questions for Cramer?Call Cramer: 1-800-743-CNBC\n",
    "- Want to take a deep dive into Cramer's world? Hit him up!Mad Money Twitter - Jim Cramer Twitter - Facebook - Instagram\n",
    "- Questions, comments, suggestions for the \"Mad Money\" website? madcap@cnbc.com\n",
    "- RPT-\n",
    "\n",
    "<b>Some rules I'm considering</b>:\n",
    "- Rid articles with less than 5 periods\n",
    "- Rid articles where writers say \"I\" a lot\n",
    "- ~~Rid anything with Jim Cramer~~ done\n",
    "- ~~Rid articles with title containing \"transcript\"~~ done\n",
    "- ~~Rid articles with title containing \"rpt\" (repeat)~~ done\n",
    "\n",
    "Within articles:\n",
    "- Periods between 2 numbers should be preserved\n",
    "- Remove any lines in articles that don't contain periods\n",
    "- Remove any lines that don't have more than 5 words\n",
    "- Remove sentences containing \"more here\"\n",
    "- Remove anything after ©\n",
    "- Remove any of the last 3 sentences if they contain \"questions, comments\" or \"email\" or \"write to\" or \"I\""
   ]
  },
  {
   "cell_type": "code",
   "execution_count": 1,
   "metadata": {},
   "outputs": [],
   "source": [
    "# imports\n",
    "import os\n",
    "from os import listdir\n",
    "from os.path import isfile, join\n",
    "from pathlib import Path\n",
    "import pandas as pd\n",
    "import re, string"
   ]
  },
  {
   "cell_type": "code",
   "execution_count": 2,
   "metadata": {},
   "outputs": [],
   "source": [
    "# Import articles\n",
    "def importData(filename):\n",
    "    \"\"\"\n",
    "    Import data into df\n",
    "    \"\"\"\n",
    "    #Import Labelled Data\n",
    "    DATA_DIR = \"Data\"\n",
    "    thispath = Path().absolute()\n",
    "    ARTICLES = os.path.join(DATA_DIR, filename)\n",
    "    \n",
    "    df = pd.read_excel(ARTICLES)\n",
    "\n",
    "    try:\n",
    "        df.head()\n",
    "    except:\n",
    "        pass\n",
    "    return df"
   ]
  },
  {
   "cell_type": "code",
   "execution_count": 3,
   "metadata": {},
   "outputs": [],
   "source": [
    "import matplotlib.pyplot as plt\n",
    "def initialize_plot():\n",
    "    plt.plot()\n",
    "    plt.ylabel('Number of words')\n",
    "    plt.xlabel('')\n",
    "    plt.title(\"Number of words in articles pre-clean (n=%s)\"%(len(df)))\n",
    "    return plt"
   ]
  },
  {
   "cell_type": "code",
   "execution_count": 4,
   "metadata": {},
   "outputs": [],
   "source": [
    "df = importData(\"Labelled_Articles_Raw _Merged.xlsx\")"
   ]
  },
  {
   "cell_type": "code",
   "execution_count": 5,
   "metadata": {
    "scrolled": true
   },
   "outputs": [
    {
     "data": {
      "image/png": "[encoded data removed]",
      "text/plain": [
       "<Figure size 432x288 with 1 Axes>"
      ]
     },
     "metadata": {},
     "output_type": "display_data"
    }
   ],
   "source": [
    "df['badly_cleaned_content'] = df['content']\n",
    "df['content'] = df['originalcontent']\n",
    "df = df[df['content'].str.split().str.len() > 300]\n",
    "bp = initialize_plot()\n",
    "bp = df['content'].str.split().str.len().to_frame().boxplot()\n",
    "plt.show()"
   ]
  },
  {
   "cell_type": "code",
   "execution_count": 6,
   "metadata": {},
   "outputs": [
    {
     "name": "stdout",
     "output_type": "stream",
     "text": [
      "Barnes' daughter, Jenise Raven, worked for weeks to get Bezos' attention ahead of her mother's 80th birthday, according to a report from local Houston news station KHOU 11. Raven was hoping Bezos might send a card. Instead, Bezos said happy birthday via the video embedded above. Raven played the video at her mother's party on Saturday. KHOU 11 published a piece about the video Monday and Amazon provided the video to CNBC Make It. In the video, Bezos says: \"Hi Mrs. Barnes, it's Jeff Bezos. You were one of my favorite teachers back in elementary school. I remember you from 4th grade very well. You may not recognize me, I had more hair back then, but I sure remember you. You had a big impact on me. I heard you were turning 80. That's a big milestone! Congratulations and happy birthday. I learned a lot at River Oaks. You were definitely one of my favorite teachers. Thank you for making 4th grade so special for me and for all the other kids too. I know you've been more than 30 years as a teacher and principal. You've had a big impact on people's lives. Great teachers do change lives. We were all incredibly lucky to have you. Happy birthday, Mrs. Barnes!\" \"I need [my mom] to know that she's special, not only to me, but to all the people she touched throughout her journey,\" says Raven, speaking to KHOU 11 News. \"I'm so appreciative and so grateful and so humbled by this whole experience.\" Barnes was surprised and happy. \"I was thrilled. I see a lot of my students in different roles, former students. Jeff is one who has been really outstanding, and I'm pleased to see him,\" says Barnes to KHOU 11. \"This has been fabulous. I didn't know all this was going on. I'm amazed to no end. I'm truly thankful and grateful.\" Bezos remembered summers in Texas in his commencement speech at Princeton in 2010. He recounted learning a lesson from his grandfather, that it is harder to be \"kind\" than it is to be \"clever.\" \"Cleverness is a gift, kindness is a choice. Gifts are easy — they're given after all. Choices can be hard. You can seduce yourself with your gifts if you're not careful, and if you do, it'll probably be to the detriment of your choices,\" says Bezos in his graduation speech. \"When you are 80 years old, and in a quiet moment of reflection narrating for only yourself the most personal version of your life story, the telling that will be most compact and meaningful will be the series of choices you have made. In the end, we are our choices,\" says Bezos. See also: How Amazon founder Jeff Bezos went from the son of a teen mom to the world's richest person Mark Zuckerberg on starting Facebook at 19: 'I've made almost every mistake you can imagine' Jeff Bezos tweets about SpaceX rocket launch, Elon Musk replies with kiss emoji\n",
      "Barnes' daughter, Jenise Raven, worked for weeks to get Bezos' attention ahead of her mother's 80th birthday, according to a report from local Houston news station KHOU 11. Raven was hoping Bezos might send a card. Instead, Bezos said happy birthday via the video embedded above. Raven played the video at her mother's party on Saturday. KHOU 11 published a piece about the video Monday and Amazon provided the video to CNBC Make It. In the video, Bezos says: \"Hi Mrs. Barnes, it's Jeff Bezos. You were one of my favorite teachers back in elementary school. I remember you from 4th grade very well. You may not recognize me, I had more hair back then, but I sure remember you. You had a big impact on me. I heard you were turning 80. That's a big milestone! Congratulations and happy birthday. I learned a lot at River Oaks. You were definitely one of my favorite teachers. Thank you for making 4th grade so special for me and for all the other kids too. I know you've been more than 30 years as a teacher and principal. You've had a big impact on people's lives. Great teachers do change lives. We were all incredibly lucky to have you. Happy birthday, Mrs. Barnes!\" \"I need [my mom] to know that she's special, not only to me, but to all the people she touched throughout her journey,\" says Raven, speaking to KHOU 11 News. \"I'm so appreciative and so grateful and so humbled by this whole experience.\" Barnes was surprised and happy. \"I was thrilled. I see a lot of my students in different roles, former students. Jeff is one who has been really outstanding, and I'm pleased to see him,\" says Barnes to KHOU 11. \"This has been fabulous. I didn't know all this was going on. I'm amazed to no end. I'm truly thankful and grateful.\" Bezos remembered summers in Texas in his commencement speech at Princeton in 2010. He recounted learning a lesson from his grandfather, that it is harder to be \"kind\" than it is to be \"clever.\" \"Cleverness is a gift, kindness is a choice. Gifts are easy — they're given after all. Choices can be hard. You can seduce yourself with your gifts if you're not careful, and if you do, it'll probably be to the detriment of your choices,\" says Bezos in his graduation speech. \"When you are 80 years old, and in a quiet moment of reflection narrating for only yourself the most personal version of your life story, the telling that will be most compact and meaningful will be the series of choices you have made. In the end, we are our choices,\" says Bezos. See also: How Amazon founder Jeff Bezos went from the son of a teen mom to the world's richest person Mark Zuckerberg on starting Facebook at 19: 'I've made almost every mistake you can imagine' Jeff Bezos tweets about SpaceX rocket launch, Elon Musk replies with kiss emoji\n"
     ]
    }
   ],
   "source": [
    "#remove blanks (NaN)\n",
    "df = df.dropna(subset = ['content', 'title']) \n",
    "\n",
    "#remove blocked articles without content\n",
    "df = df[df.content.str.contains('Your usage has been flagged', case=False) == False]\n",
    "df = df[df.content.str.contains('To continue, please click the box', case=False) == False]\n",
    "\n",
    "#remove vidoes/ads/commentary\n",
    "df = df[df.description.str.contains('The \"Fast Money\" traders share their first moves for the market open.', case=False) == False]\n",
    "df = df[df.description.str.contains('stuff we think you', case=False) == False]\n",
    "\n",
    "#remove transcripts\n",
    "df = df[df.title.str.contains('transcript', case=False) == False]\n",
    "\n",
    "#remove cramer\n",
    "df = df[df.title.str.contains('cramer', case=False) == False]\n",
    "\n",
    "#keep articles with more than 300 words, which is the lower end of the boxplot\n",
    "#df = df[df['content'].str.split().str.len() > 300]\n",
    "\n",
    "#remove duplicates\n",
    "# by self-identified repeat\n",
    "df = df[df.title.str.contains('rpt', case=False) == False]\n",
    "# by title\n",
    "df = df.drop_duplicates(subset=['title'], keep='first')\n",
    "# by content\n",
    "df = df.drop_duplicates(subset=['content'], keep='first')\n",
    "# by decription\n",
    "df = df.drop_duplicates(subset=['description'], keep='first')\n",
    "\n",
    "df = df.reset_index(drop=True)\n",
    "\n",
    "\n",
    "# CLEAN ORIGINAL CONTENT\n",
    "df['origContent'] = df['content'] \n",
    "\n",
    "print(df['origContent'].iloc[4])\n",
    "\n",
    "#Remove nonsense sentences from original content pull\n",
    "for i in df.index:\n",
    "    \n",
    "    article = df['origContent'].iloc[i].split('\\r\\n')\n",
    "   \n",
    "    # remove lines with no period\n",
    "    article[:] = [sentence for sentence in article if '.' in sentence]\n",
    "    # remove lines with less than 5 words\n",
    "    article[:] = [sentence for sentence in article if len(sentence.split())>5]\n",
    "    # remove photo credits\n",
    "    article[:] = [sentence for sentence in article if not('Photo' in sentence)]\n",
    "    blackList = ['get breaking news','click here','write to','subscribe','read more','read or share','reporting by','twitter, instagram','comment','copyright','©', 'please read' ,'blog', 'editor', 'opinion section']\n",
    "    # remove lines with terms that are associated with useless sentences\n",
    "    article[:] = [sentence for sentence in article if not any(term in sentence.lower() for term in blackList)]\n",
    "\n",
    "    df.at[i,'origContent']='\\r\\n'.join(article)\n",
    "\n",
    "#Remove videos from cnbc links\n",
    "pat_cnbcVid = re.compile('div &gt; div\\.group &gt; p:first-child\"&gt;')\n",
    "df['origContent'] = list(map(lambda x: pat_cnbcVid.sub('', x), df['origContent']))\n",
    "#Remove amp;\n",
    "pat_amp = re.compile('amp;')\n",
    "df['origContent'] = list(map(lambda x: pat_amp.sub('', x), df['origContent']))\n",
    "\n",
    "# CLEAN CONTENT FOR FEATURE SELECTION df['content'] AND CONTEXT EXTRACTION df['contentWithStops'] \n",
    "\n",
    "\n",
    "#Remove time\n",
    "#pat_time = re.compile('[0-9]{0,2}:?[0-9]{1,2}\\s?[aApP]\\.?[mM]\\.?')\n",
    "#df['content'] = list(map(lambda x: pat_time.sub(' ', x), df['origContent'].str.lower()))\n",
    "\n",
    "\n",
    "\n",
    "#Remove urls\n",
    "pat_url = re.compile('[a-z]+?[.]?[a-z]+?[.]?[a-z]+[.]?[\\/\\/]\\S+')\n",
    "df['content'] = list(map(lambda x: pat_url.sub('URL', x), df['content']))\n",
    "pat_https = re.compile('https://')\n",
    "df['content'] = list(map(lambda x: pat_https.sub('', x), df['content']))\n",
    "\n",
    "print(df['content'].iloc[4])\n",
    "\n",
    "#Remove stopwords\n",
    "stopwords = [\n",
    "    # dates/times\n",
    "    \"january\", \"february\", \"march\", \"april\", \"may\", \"june\", \"july\", \"august\", \"september\", \"october\", \"november\", \"december\", \"jan\", \"feb\",\"mar\", \"apr\", \"jun\", \"jul\", \"aug\", \"oct\", \"nov\", \"dec\", \"monday\", \"tuesday\", \"wednesday\", \"thursday\", \"friday\", \"saturday\", \"sunday\", \"morning\", \"evening\",\"today\",\"pm\",\"am\",\n",
    "    # specific article terms that are useless\n",
    "    \"read\", \"share\", \"file\", \"'s\", \"photo\", \"inc\", \"corp\", \"group\", \"inc\", \"corp\", \"source\", \"bloomberg\", \"cnbc\",\"cnbcs\", \"cnn\", \"reuters\",\"bbc\", \"published\", \"broadcast\",\"york\",\"msnbc\",\"ap\",\"said\",\n",
    "    # other useless terms\n",
    "    \"me\", \"my\", \"myself\", \"we\", \"our\", \"ours\", \"ourselves\", \"you\", \"your\", \"yours\", \"yourself\", \"yourselves\", \"he\", \"him\", \"his\", \"himself\", \"she\", \"her\", \"hers\", \"herself\", \"it\", \"its\", \"itself\", \"they\", \"them\", \"their\", \"theirs\", \"themselves\", \"what\", \"which\", \"who\", \"whom\", \"this\", \"that\", \"these\", \"those\", \"co\", \"inc\", \"com\", \"theyve\", \"theyre\", \"theres\", \"heres\", \"didnt\", \"wouldn\", \"couldn\", \"didn\",\"nbcuniversal\",\"according\", \"just\", \"us\", \"ll\", \"times\",\"yes\",\"such\", \"no\", \"nor\", \"not\", \"only\", \"own\", \"same\", \"so\", \"than\", \"too\", \"very\", \"just\", \"don\", \"now\", \"will\", \"wasn\", \"etc\", \"but\", \"hello\", \"welcome\", \"re\",\"my\",     \n",
    "    # etc\n",
    "    \"also\",\"us\",\"the\", \"a\", \"of\", \"have\", \"has\", \"had\", \"having\", \"hello\", \"welcome\", \"yeah\", \"wasn\", \"today\", \"etc\", \"ext\",\"definitely\", \"am\", \"is\", \"are\", \"was\", \"were\", \"be\", \"been\", \"being\", \"have\", \"has\", \"had\", \"having\", \"do\", \"does\", \"did\", \"doing\", \"a\", \"an\", \"the\", \"and\", \"but\", \"if\", \"or\", \"because\", \"as\", \"while\", \"of\", \"at\", \"by\", \"for\", \"about\", \"into\", \"through\", \"during\", \"before\", \"after\", \"to\", \"from\", \"in\", \"out\", \"on\", \"off\", \"over\", \"under\", \"again\", \"further\", \"then\", \"once\", \"here\", \"there\", \"when\", \"where\", \"why\", \"how\", \"all\", \"any\", \"both\", \"each\", \"few\", \"more\", \"most\", \"other\", \"some\", \"such\", \"no\", \"nor\", \"not\", \"only\", \"own\", \"same\", \"so\", \"than\", \"too\", \"very\", \"just\", \"don\", \"now\", \"will\"\n",
    "]\n",
    "\n",
    "pat_stopwords = re.compile(r'\\b(' + r'|'.join(stopwords) + r')\\b\\s*')\n",
    "df['content'] = list(map(lambda x: pat_stopwords.sub(' ', x), df['content'].str.lower()))\n",
    "\n",
    "\n",
    "#Remove single character words\n",
    "pat_charLim = re.compile('\\s[a-zA-Z]\\s')\n",
    "df['content'] = list(map(lambda x: pat_charLim.sub(' ', x), df['content']))\n",
    "\n",
    "#Remove characters that don't separate a sentence or aren't $ signs\n",
    "# FOR context extraction\n",
    "pat_nonStops = re.compile('[^\\.\\?!,;\\$0-9a-zA-Z]+')\n",
    "df['contentWithStops'] = list(map(lambda x: pat_nonStops.sub(' ', x), df['content']))\n",
    "\n",
    "#Remove punctuation \n",
    "# FOR feature selection/encoding\n",
    "pat_punctuation = re.compile('[^a-zA-Z]+')\n",
    "df['content'] = list(map(lambda x: pat_punctuation.sub(' ', x), df['content']))\n",
    "\n",
    "#Remove single characters\n",
    "df['content'] = list(map(lambda x: pat_charLim.sub(' ', x), df['content']))"
   ]
  },
  {
   "cell_type": "code",
   "execution_count": 7,
   "metadata": {},
   "outputs": [
    {
     "data": {
      "text/plain": [
       "RangeIndex(start=0, stop=10753, step=1)"
      ]
     },
     "execution_count": 7,
     "metadata": {},
     "output_type": "execute_result"
    }
   ],
   "source": [
    "df.index"
   ]
  },
  {
   "cell_type": "code",
   "execution_count": 8,
   "metadata": {},
   "outputs": [
    {
     "data": {
      "text/plain": [
       "'Barnes\\' daughter, Jenise Raven, worked for weeks to get Bezos\\' attention ahead of her mother\\'s 80th birthday, according to a report from local Houston news station KHOU 11. Raven was hoping Bezos might send a card. Instead, Bezos said happy birthday via the video embedded above. Raven played the video at her mother\\'s party on Saturday. KHOU 11 published a piece about the video Monday and Amazon provided the video to CNBC Make It. In the video, Bezos says: \"Hi Mrs. Barnes, it\\'s Jeff Bezos. You were one of my favorite teachers back in elementary school. I remember you from 4th grade very well. You may not recognize me, I had more hair back then, but I sure remember you. You had a big impact on me. I heard you were turning 80. That\\'s a big milestone! Congratulations and happy birthday. I learned a lot at River Oaks. You were definitely one of my favorite teachers. Thank you for making 4th grade so special for me and for all the other kids too. I know you\\'ve been more than 30 years as a teacher and principal. You\\'ve had a big impact on people\\'s lives. Great teachers do change lives. We were all incredibly lucky to have you. Happy birthday, Mrs. Barnes!\" \"I need [my mom] to know that she\\'s special, not only to me, but to all the people she touched throughout her journey,\" says Raven, speaking to KHOU 11 News. \"I\\'m so appreciative and so grateful and so humbled by this whole experience.\" Barnes was surprised and happy. \"I was thrilled. I see a lot of my students in different roles, former students. Jeff is one who has been really outstanding, and I\\'m pleased to see him,\" says Barnes to KHOU 11. \"This has been fabulous. I didn\\'t know all this was going on. I\\'m amazed to no end. I\\'m truly thankful and grateful.\" Bezos remembered summers in Texas in his commencement speech at Princeton in 2010. He recounted learning a lesson from his grandfather, that it is harder to be \"kind\" than it is to be \"clever.\" \"Cleverness is a gift, kindness is a choice. Gifts are easy — they\\'re given after all. Choices can be hard. You can seduce yourself with your gifts if you\\'re not careful, and if you do, it\\'ll probably be to the detriment of your choices,\" says Bezos in his graduation speech. \"When you are 80 years old, and in a quiet moment of reflection narrating for only yourself the most personal version of your life story, the telling that will be most compact and meaningful will be the series of choices you have made. In the end, we are our choices,\" says Bezos. See also: How Amazon founder Jeff Bezos went from the son of a teen mom to the world\\'s richest person Mark Zuckerberg on starting Facebook at 19: \\'I\\'ve made almost every mistake you can imagine\\' Jeff Bezos tweets about SpaceX rocket launch, Elon Musk replies with kiss emoji'"
      ]
     },
     "execution_count": 8,
     "metadata": {},
     "output_type": "execute_result"
    }
   ],
   "source": [
    "df['origContent'].iloc[4]"
   ]
  },
  {
   "cell_type": "code",
   "execution_count": 9,
   "metadata": {},
   "outputs": [
    {
     "data": {
      "text/plain": [
       "'barnes daughter jenise raven worked weeks get bezos attention ahead mother th birthday report local houston news station khou raven hoping bezos might send card instead bezos happy birthday via video embedded above raven played video mother party khou piece video amazon provided video make video bezos says hi mrs barnes jeff bezos one favorite teachers back elementary school remember th grade well recognize hair back sure remember big impact heard turning big milestone congratulations happy birthday learned lot river oaks one favorite teachers thank making th grade special kids know ve years teacher principal ve big impact people lives great teachers change lives incredibly lucky happy birthday mrs barnes need mom know special people touched throughout journey says raven speaking khou news m appreciative grateful humbled whole experience barnes surprised happy thrilled see lot students different roles former students jeff one really outstanding m pleased see says barnes khou fabulous know going m amazed end m truly thankful grateful bezos remembered summers texas commencement speech princeton recounted learning lesson grandfather harder kind clever cleverness gift kindness choice gifts easy given choices can hard can seduce with gifts careful probably detriment choices says bezos graduation speech years old quiet moment reflection narrating personal version life story telling compact meaningful series choices made end choices says bezos see amazon founder jeff bezos went son teen mom world richest person mark zuckerberg starting facebook ve made almost every mistake can imagine jeff bezos tweets spacex rocket launch elon musk replies with kiss emoji'"
      ]
     },
     "execution_count": 9,
     "metadata": {},
     "output_type": "execute_result"
    }
   ],
   "source": [
    "df['content'].iloc[4]"
   ]
  },
  {
   "cell_type": "code",
   "execution_count": 10,
   "metadata": {},
   "outputs": [
    {
     "data": {
      "text/plain": [
       "'barnes daughter, jenise raven, worked weeks get bezos attention ahead mother 80th birthday, report local houston news station khou 11. raven hoping bezos might send card. instead, bezos happy birthday via video embedded above. raven played video mother party . khou 11 piece video amazon provided video make . video, bezos says hi mrs. barnes, jeff bezos. one favorite teachers back elementary school. remember 4th grade well. recognize , hair back , sure remember . big impact . heard turning 80. big milestone! congratulations happy birthday. learned lot river oaks. one favorite teachers. thank making 4th grade special kids . know ve 30 years teacher principal. ve big impact people lives. great teachers change lives. incredibly lucky . happy birthday, mrs. barnes! i need mom know special, , people touched throughout journey, says raven, speaking khou 11 news. i m appreciative grateful humbled whole experience. barnes surprised happy. i thrilled. see lot students different roles, former students. jeff one really outstanding, i m pleased see , says barnes khou 11. fabulous. t know going . i m amazed end. i m truly thankful grateful. bezos remembered summers texas commencement speech princeton 2010. recounted learning lesson grandfather, harder kind clever. cleverness gift, kindness choice. gifts easy given . choices can hard. can seduce with gifts careful, , probably detriment choices, says bezos graduation speech. 80 years old, quiet moment reflection narrating personal version life story, telling compact meaningful series choices made. end, choices, says bezos. see amazon founder jeff bezos went son teen mom world richest person mark zuckerberg starting facebook 19 i ve made almost every mistake can imagine jeff bezos tweets spacex rocket launch, elon musk replies with kiss emoji'"
      ]
     },
     "execution_count": 10,
     "metadata": {},
     "output_type": "execute_result"
    }
   ],
   "source": [
    "df['contentWithStops'].iloc[4]"
   ]
  },
  {
   "cell_type": "code",
   "execution_count": 11,
   "metadata": {},
   "outputs": [],
   "source": [
    "import matplotlib.pyplot as plt\n",
    "def initialize_plot():\n",
    "    plt.plot()\n",
    "    plt.ylabel('Number of words')\n",
    "    plt.xlabel('')\n",
    "    plt.title(\"Number of words in each articles (n=%s)\"%(len(df)))\n",
    "    return plt"
   ]
  },
  {
   "cell_type": "code",
   "execution_count": 12,
   "metadata": {},
   "outputs": [
    {
     "data": {
      "image/png": "[encoded data removed]",
      "text/plain": [
       "<Figure size 432x288 with 1 Axes>"
      ]
     },
     "metadata": {},
     "output_type": "display_data"
    }
   ],
   "source": [
    "#df = df[df['content'].str.split().str.len() > 500]\n",
    "bp = initialize_plot()\n",
    "bp = df['content'].str.split().str.len().to_frame().boxplot()\n",
    "plt.show()"
   ]
  },
  {
   "cell_type": "code",
   "execution_count": 13,
   "metadata": {},
   "outputs": [
    {
     "data": {
      "text/plain": [
       "643"
      ]
     },
     "execution_count": 13,
     "metadata": {},
     "output_type": "execute_result"
    }
   ],
   "source": [
    "df['content'].str.split().str.len().iloc[100]"
   ]
  },
  {
   "cell_type": "code",
   "execution_count": 14,
   "metadata": {},
   "outputs": [],
   "source": [
    "OUTPUT_DIR = os.path.join(\"Data\", 'Labelled_Articles_cleaned.xlsx')\n",
    "writer = pd.ExcelWriter(OUTPUT_DIR)\n",
    "df.to_excel(writer,'Sheet1')\n",
    "writer.save()"
   ]
  },
  {
   "cell_type": "code",
   "execution_count": 59,
   "metadata": {},
   "outputs": [],
   "source": [
    "test = [\"I I I I I\", \"I. I. I. I.\", \"I. I . I .I .I .I\", \"I . a dad , I s.djaf I. I. i\",\"I . a dad , I sdjaf I I i\"]\n"
   ]
  },
  {
   "cell_type": "code",
   "execution_count": 60,
   "metadata": {},
   "outputs": [
    {
     "name": "stdout",
     "output_type": "stream",
     "text": [
      "0 5\n",
      "0 0\n",
      "0 2\n",
      "0 2\n",
      "0 4\n"
     ]
    }
   ],
   "source": [
    "for line in test:\n",
    "    print(i,line.split().count('I'))"
   ]
  },
  {
   "cell_type": "code",
   "execution_count": null,
   "metadata": {},
   "outputs": [],
   "source": []
  }
 ],
 "metadata": {
  "kernelspec": {
   "display_name": "Python 3",
   "language": "python",
   "name": "python3"
  },
  "language_info": {
   "codemirror_mode": {
    "name": "ipython",
    "version": 3
   },
   "file_extension": ".py",
   "mimetype": "text/x-python",
   "name": "python",
   "nbconvert_exporter": "python",
   "pygments_lexer": "ipython3",
   "version": "3.6.6"
  }
 },
 "nbformat": 4,
 "nbformat_minor": 2
}
