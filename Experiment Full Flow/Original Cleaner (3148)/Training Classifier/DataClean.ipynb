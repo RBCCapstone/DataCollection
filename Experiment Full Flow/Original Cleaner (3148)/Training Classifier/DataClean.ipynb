{
 "cells": [
  {
   "cell_type": "markdown",
   "metadata": {},
   "source": [
    "### Jade's Changes\n",
    "\n",
    "<b>Current problems</b>:\n",
    "- amp;\n",
    "- div &gt; div.group &gt; p:first-child\"&gt; = video cnbc\n",
    "- no space between words separated by new line\n",
    "- Check out the companies making headlines before the belldiv gt divgroup gt pfirstchildgt\n",
    "- CNBC in general\n",
    "- shit at the end: To contact... blah blah\n",
    "- © CNBC is a USA TODAY content partner offering financial news and commentary. Its content is produced independently of USA TODAY.\n",
    "- Read or Share this story:\n",
    "- Read more here.\n",
    "- FT subscribers can click here to receive Market Forces every day by email.\n",
    "- Your feedback\n",
    "- I'd love to hear from you. You can email me on michael.mackenzie@ft.com and follow me on Twitter at @michaellachlan.\n",
    "- COPYRIGHT\n",
    "- © 2019 Bloomberg L.P\n",
    "- (Bloomberg)—\n",
    "- Anything with \"Transcript\" should be removed\n",
    "- Write to Sara Castellanos at sara.castellanos@wsj.com\n",
    "- Disclosure: Cramer's charitable trust owns shares of Johnson &amp; Johnson.\n",
    "- Questions for Cramer?Call Cramer: 1-800-743-CNBC\n",
    "- Want to take a deep dive into Cramer's world? Hit him up!Mad Money Twitter - Jim Cramer Twitter - Facebook - Instagram\n",
    "- Questions, comments, suggestions for the \"Mad Money\" website? madcap@cnbc.com\n",
    "- RPT-\n",
    "\n",
    "<b>Some rules I'm considering</b>:\n",
    "- Rid articles with less than 5 periods\n",
    "- Rid articles where writers say \"I\" a lot\n",
    "- ~~Rid anything with Jim Cramer~~ done\n",
    "- ~~Rid articles with title containing \"transcript\"~~ done\n",
    "- ~~Rid articles with title containing \"rpt\" (repeat)~~ done\n",
    "\n",
    "Within articles:\n",
    "- Periods between 2 numbers should be preserved\n",
    "- Remove any lines in articles that don't contain periods\n",
    "- Remove any lines that don't have more than 5 words\n",
    "- Remove sentences containing \"more here\"\n",
    "- Remove anything after ©\n",
    "- Remove any of the last 3 sentences if they contain \"questions, comments\" or \"email\" or \"write to\" or \"I\""
   ]
  },
  {
   "cell_type": "code",
   "execution_count": 1,
   "metadata": {},
   "outputs": [],
   "source": [
    "# imports\n",
    "import os\n",
    "from os import listdir\n",
    "from os.path import isfile, join\n",
    "from pathlib import Path\n",
    "import pandas as pd\n",
    "import re, string"
   ]
  },
  {
   "cell_type": "code",
   "execution_count": 2,
   "metadata": {},
   "outputs": [],
   "source": [
    "# Import articles\n",
    "def importData(filename):\n",
    "    \"\"\"\n",
    "    Import data into df\n",
    "    \"\"\"\n",
    "    #Import Labelled Data\n",
    "    DATA_DIR = \"Data\"\n",
    "    thispath = Path().absolute()\n",
    "    ARTICLES = os.path.join(DATA_DIR, filename)\n",
    "    \n",
    "    df = pd.read_excel(ARTICLES)\n",
    "\n",
    "    try:\n",
    "        df.head()\n",
    "    except:\n",
    "        pass\n",
    "    return df"
   ]
  },
  {
   "cell_type": "code",
   "execution_count": 3,
   "metadata": {},
   "outputs": [],
   "source": [
    "import matplotlib.pyplot as plt\n",
    "def initialize_plot():\n",
    "    plt.plot()\n",
    "    plt.ylabel('Number of words')\n",
    "    plt.xlabel('')\n",
    "    plt.title(\"Number of words in articles pre-clean (n=%s)\"%(len(df)))\n",
    "    return plt"
   ]
  },
  {
   "cell_type": "code",
   "execution_count": 4,
   "metadata": {},
   "outputs": [],
   "source": [
    "df = importData(\"Labelled Articles.xlsx\")"
   ]
  },
  {
   "cell_type": "code",
   "execution_count": 5,
   "metadata": {
    "scrolled": true
   },
   "outputs": [
    {
     "ename": "KeyError",
     "evalue": "'origContent'",
     "output_type": "error",
     "traceback": [
      "\u001b[1;31m---------------------------------------------------------------------------\u001b[0m",
      "\u001b[1;31mKeyError\u001b[0m                                  Traceback (most recent call last)",
      "\u001b[1;32m~\\AppData\\Local\\conda\\conda\\envs\\rbc\\lib\\site-packages\\pandas\\core\\indexes\\base.py\u001b[0m in \u001b[0;36mget_loc\u001b[1;34m(self, key, method, tolerance)\u001b[0m\n\u001b[0;32m   3077\u001b[0m             \u001b[1;32mtry\u001b[0m\u001b[1;33m:\u001b[0m\u001b[1;33m\u001b[0m\u001b[0m\n\u001b[1;32m-> 3078\u001b[1;33m                 \u001b[1;32mreturn\u001b[0m \u001b[0mself\u001b[0m\u001b[1;33m.\u001b[0m\u001b[0m_engine\u001b[0m\u001b[1;33m.\u001b[0m\u001b[0mget_loc\u001b[0m\u001b[1;33m(\u001b[0m\u001b[0mkey\u001b[0m\u001b[1;33m)\u001b[0m\u001b[1;33m\u001b[0m\u001b[0m\n\u001b[0m\u001b[0;32m   3079\u001b[0m             \u001b[1;32mexcept\u001b[0m \u001b[0mKeyError\u001b[0m\u001b[1;33m:\u001b[0m\u001b[1;33m\u001b[0m\u001b[0m\n",
      "\u001b[1;32mpandas\\_libs\\index.pyx\u001b[0m in \u001b[0;36mpandas._libs.index.IndexEngine.get_loc\u001b[1;34m()\u001b[0m\n",
      "\u001b[1;32mpandas\\_libs\\index.pyx\u001b[0m in \u001b[0;36mpandas._libs.index.IndexEngine.get_loc\u001b[1;34m()\u001b[0m\n",
      "\u001b[1;32mpandas\\_libs\\hashtable_class_helper.pxi\u001b[0m in \u001b[0;36mpandas._libs.hashtable.PyObjectHashTable.get_item\u001b[1;34m()\u001b[0m\n",
      "\u001b[1;32mpandas\\_libs\\hashtable_class_helper.pxi\u001b[0m in \u001b[0;36mpandas._libs.hashtable.PyObjectHashTable.get_item\u001b[1;34m()\u001b[0m\n",
      "\u001b[1;31mKeyError\u001b[0m: 'origContent'",
      "\nDuring handling of the above exception, another exception occurred:\n",
      "\u001b[1;31mKeyError\u001b[0m                                  Traceback (most recent call last)",
      "\u001b[1;32m<ipython-input-5-f92709ac94a8>\u001b[0m in \u001b[0;36m<module>\u001b[1;34m()\u001b[0m\n\u001b[0;32m      1\u001b[0m \u001b[0mdf\u001b[0m\u001b[1;33m[\u001b[0m\u001b[1;34m'badly_cleaned_content'\u001b[0m\u001b[1;33m]\u001b[0m \u001b[1;33m=\u001b[0m \u001b[0mdf\u001b[0m\u001b[1;33m[\u001b[0m\u001b[1;34m'content'\u001b[0m\u001b[1;33m]\u001b[0m\u001b[1;33m\u001b[0m\u001b[0m\n\u001b[1;32m----> 2\u001b[1;33m \u001b[0mdf\u001b[0m\u001b[1;33m[\u001b[0m\u001b[1;34m'content'\u001b[0m\u001b[1;33m]\u001b[0m \u001b[1;33m=\u001b[0m \u001b[0mdf\u001b[0m\u001b[1;33m[\u001b[0m\u001b[1;34m'origContent'\u001b[0m\u001b[1;33m]\u001b[0m\u001b[1;33m\u001b[0m\u001b[0m\n\u001b[0m\u001b[0;32m      3\u001b[0m \u001b[0mdf\u001b[0m \u001b[1;33m=\u001b[0m \u001b[0mdf\u001b[0m\u001b[1;33m[\u001b[0m\u001b[0mdf\u001b[0m\u001b[1;33m[\u001b[0m\u001b[1;34m'content'\u001b[0m\u001b[1;33m]\u001b[0m\u001b[1;33m.\u001b[0m\u001b[0mstr\u001b[0m\u001b[1;33m.\u001b[0m\u001b[0msplit\u001b[0m\u001b[1;33m(\u001b[0m\u001b[1;33m)\u001b[0m\u001b[1;33m.\u001b[0m\u001b[0mstr\u001b[0m\u001b[1;33m.\u001b[0m\u001b[0mlen\u001b[0m\u001b[1;33m(\u001b[0m\u001b[1;33m)\u001b[0m \u001b[1;33m>\u001b[0m \u001b[1;36m300\u001b[0m\u001b[1;33m]\u001b[0m\u001b[1;33m\u001b[0m\u001b[0m\n\u001b[0;32m      4\u001b[0m \u001b[0mbp\u001b[0m \u001b[1;33m=\u001b[0m \u001b[0minitialize_plot\u001b[0m\u001b[1;33m(\u001b[0m\u001b[1;33m)\u001b[0m\u001b[1;33m\u001b[0m\u001b[0m\n\u001b[0;32m      5\u001b[0m \u001b[0mbp\u001b[0m \u001b[1;33m=\u001b[0m \u001b[0mdf\u001b[0m\u001b[1;33m[\u001b[0m\u001b[1;34m'content'\u001b[0m\u001b[1;33m]\u001b[0m\u001b[1;33m.\u001b[0m\u001b[0mstr\u001b[0m\u001b[1;33m.\u001b[0m\u001b[0msplit\u001b[0m\u001b[1;33m(\u001b[0m\u001b[1;33m)\u001b[0m\u001b[1;33m.\u001b[0m\u001b[0mstr\u001b[0m\u001b[1;33m.\u001b[0m\u001b[0mlen\u001b[0m\u001b[1;33m(\u001b[0m\u001b[1;33m)\u001b[0m\u001b[1;33m.\u001b[0m\u001b[0mto_frame\u001b[0m\u001b[1;33m(\u001b[0m\u001b[1;33m)\u001b[0m\u001b[1;33m.\u001b[0m\u001b[0mboxplot\u001b[0m\u001b[1;33m(\u001b[0m\u001b[1;33m)\u001b[0m\u001b[1;33m\u001b[0m\u001b[0m\n",
      "\u001b[1;32m~\\AppData\\Local\\conda\\conda\\envs\\rbc\\lib\\site-packages\\pandas\\core\\frame.py\u001b[0m in \u001b[0;36m__getitem__\u001b[1;34m(self, key)\u001b[0m\n\u001b[0;32m   2686\u001b[0m             \u001b[1;32mreturn\u001b[0m \u001b[0mself\u001b[0m\u001b[1;33m.\u001b[0m\u001b[0m_getitem_multilevel\u001b[0m\u001b[1;33m(\u001b[0m\u001b[0mkey\u001b[0m\u001b[1;33m)\u001b[0m\u001b[1;33m\u001b[0m\u001b[0m\n\u001b[0;32m   2687\u001b[0m         \u001b[1;32melse\u001b[0m\u001b[1;33m:\u001b[0m\u001b[1;33m\u001b[0m\u001b[0m\n\u001b[1;32m-> 2688\u001b[1;33m             \u001b[1;32mreturn\u001b[0m \u001b[0mself\u001b[0m\u001b[1;33m.\u001b[0m\u001b[0m_getitem_column\u001b[0m\u001b[1;33m(\u001b[0m\u001b[0mkey\u001b[0m\u001b[1;33m)\u001b[0m\u001b[1;33m\u001b[0m\u001b[0m\n\u001b[0m\u001b[0;32m   2689\u001b[0m \u001b[1;33m\u001b[0m\u001b[0m\n\u001b[0;32m   2690\u001b[0m     \u001b[1;32mdef\u001b[0m \u001b[0m_getitem_column\u001b[0m\u001b[1;33m(\u001b[0m\u001b[0mself\u001b[0m\u001b[1;33m,\u001b[0m \u001b[0mkey\u001b[0m\u001b[1;33m)\u001b[0m\u001b[1;33m:\u001b[0m\u001b[1;33m\u001b[0m\u001b[0m\n",
      "\u001b[1;32m~\\AppData\\Local\\conda\\conda\\envs\\rbc\\lib\\site-packages\\pandas\\core\\frame.py\u001b[0m in \u001b[0;36m_getitem_column\u001b[1;34m(self, key)\u001b[0m\n\u001b[0;32m   2693\u001b[0m         \u001b[1;31m# get column\u001b[0m\u001b[1;33m\u001b[0m\u001b[1;33m\u001b[0m\u001b[0m\n\u001b[0;32m   2694\u001b[0m         \u001b[1;32mif\u001b[0m \u001b[0mself\u001b[0m\u001b[1;33m.\u001b[0m\u001b[0mcolumns\u001b[0m\u001b[1;33m.\u001b[0m\u001b[0mis_unique\u001b[0m\u001b[1;33m:\u001b[0m\u001b[1;33m\u001b[0m\u001b[0m\n\u001b[1;32m-> 2695\u001b[1;33m             \u001b[1;32mreturn\u001b[0m \u001b[0mself\u001b[0m\u001b[1;33m.\u001b[0m\u001b[0m_get_item_cache\u001b[0m\u001b[1;33m(\u001b[0m\u001b[0mkey\u001b[0m\u001b[1;33m)\u001b[0m\u001b[1;33m\u001b[0m\u001b[0m\n\u001b[0m\u001b[0;32m   2696\u001b[0m \u001b[1;33m\u001b[0m\u001b[0m\n\u001b[0;32m   2697\u001b[0m         \u001b[1;31m# duplicate columns & possible reduce dimensionality\u001b[0m\u001b[1;33m\u001b[0m\u001b[1;33m\u001b[0m\u001b[0m\n",
      "\u001b[1;32m~\\AppData\\Local\\conda\\conda\\envs\\rbc\\lib\\site-packages\\pandas\\core\\generic.py\u001b[0m in \u001b[0;36m_get_item_cache\u001b[1;34m(self, item)\u001b[0m\n\u001b[0;32m   2487\u001b[0m         \u001b[0mres\u001b[0m \u001b[1;33m=\u001b[0m \u001b[0mcache\u001b[0m\u001b[1;33m.\u001b[0m\u001b[0mget\u001b[0m\u001b[1;33m(\u001b[0m\u001b[0mitem\u001b[0m\u001b[1;33m)\u001b[0m\u001b[1;33m\u001b[0m\u001b[0m\n\u001b[0;32m   2488\u001b[0m         \u001b[1;32mif\u001b[0m \u001b[0mres\u001b[0m \u001b[1;32mis\u001b[0m \u001b[1;32mNone\u001b[0m\u001b[1;33m:\u001b[0m\u001b[1;33m\u001b[0m\u001b[0m\n\u001b[1;32m-> 2489\u001b[1;33m             \u001b[0mvalues\u001b[0m \u001b[1;33m=\u001b[0m \u001b[0mself\u001b[0m\u001b[1;33m.\u001b[0m\u001b[0m_data\u001b[0m\u001b[1;33m.\u001b[0m\u001b[0mget\u001b[0m\u001b[1;33m(\u001b[0m\u001b[0mitem\u001b[0m\u001b[1;33m)\u001b[0m\u001b[1;33m\u001b[0m\u001b[0m\n\u001b[0m\u001b[0;32m   2490\u001b[0m             \u001b[0mres\u001b[0m \u001b[1;33m=\u001b[0m \u001b[0mself\u001b[0m\u001b[1;33m.\u001b[0m\u001b[0m_box_item_values\u001b[0m\u001b[1;33m(\u001b[0m\u001b[0mitem\u001b[0m\u001b[1;33m,\u001b[0m \u001b[0mvalues\u001b[0m\u001b[1;33m)\u001b[0m\u001b[1;33m\u001b[0m\u001b[0m\n\u001b[0;32m   2491\u001b[0m             \u001b[0mcache\u001b[0m\u001b[1;33m[\u001b[0m\u001b[0mitem\u001b[0m\u001b[1;33m]\u001b[0m \u001b[1;33m=\u001b[0m \u001b[0mres\u001b[0m\u001b[1;33m\u001b[0m\u001b[0m\n",
      "\u001b[1;32m~\\AppData\\Local\\conda\\conda\\envs\\rbc\\lib\\site-packages\\pandas\\core\\internals.py\u001b[0m in \u001b[0;36mget\u001b[1;34m(self, item, fastpath)\u001b[0m\n\u001b[0;32m   4113\u001b[0m \u001b[1;33m\u001b[0m\u001b[0m\n\u001b[0;32m   4114\u001b[0m             \u001b[1;32mif\u001b[0m \u001b[1;32mnot\u001b[0m \u001b[0misna\u001b[0m\u001b[1;33m(\u001b[0m\u001b[0mitem\u001b[0m\u001b[1;33m)\u001b[0m\u001b[1;33m:\u001b[0m\u001b[1;33m\u001b[0m\u001b[0m\n\u001b[1;32m-> 4115\u001b[1;33m                 \u001b[0mloc\u001b[0m \u001b[1;33m=\u001b[0m \u001b[0mself\u001b[0m\u001b[1;33m.\u001b[0m\u001b[0mitems\u001b[0m\u001b[1;33m.\u001b[0m\u001b[0mget_loc\u001b[0m\u001b[1;33m(\u001b[0m\u001b[0mitem\u001b[0m\u001b[1;33m)\u001b[0m\u001b[1;33m\u001b[0m\u001b[0m\n\u001b[0m\u001b[0;32m   4116\u001b[0m             \u001b[1;32melse\u001b[0m\u001b[1;33m:\u001b[0m\u001b[1;33m\u001b[0m\u001b[0m\n\u001b[0;32m   4117\u001b[0m                 \u001b[0mindexer\u001b[0m \u001b[1;33m=\u001b[0m \u001b[0mnp\u001b[0m\u001b[1;33m.\u001b[0m\u001b[0marange\u001b[0m\u001b[1;33m(\u001b[0m\u001b[0mlen\u001b[0m\u001b[1;33m(\u001b[0m\u001b[0mself\u001b[0m\u001b[1;33m.\u001b[0m\u001b[0mitems\u001b[0m\u001b[1;33m)\u001b[0m\u001b[1;33m)\u001b[0m\u001b[1;33m[\u001b[0m\u001b[0misna\u001b[0m\u001b[1;33m(\u001b[0m\u001b[0mself\u001b[0m\u001b[1;33m.\u001b[0m\u001b[0mitems\u001b[0m\u001b[1;33m)\u001b[0m\u001b[1;33m]\u001b[0m\u001b[1;33m\u001b[0m\u001b[0m\n",
      "\u001b[1;32m~\\AppData\\Local\\conda\\conda\\envs\\rbc\\lib\\site-packages\\pandas\\core\\indexes\\base.py\u001b[0m in \u001b[0;36mget_loc\u001b[1;34m(self, key, method, tolerance)\u001b[0m\n\u001b[0;32m   3078\u001b[0m                 \u001b[1;32mreturn\u001b[0m \u001b[0mself\u001b[0m\u001b[1;33m.\u001b[0m\u001b[0m_engine\u001b[0m\u001b[1;33m.\u001b[0m\u001b[0mget_loc\u001b[0m\u001b[1;33m(\u001b[0m\u001b[0mkey\u001b[0m\u001b[1;33m)\u001b[0m\u001b[1;33m\u001b[0m\u001b[0m\n\u001b[0;32m   3079\u001b[0m             \u001b[1;32mexcept\u001b[0m \u001b[0mKeyError\u001b[0m\u001b[1;33m:\u001b[0m\u001b[1;33m\u001b[0m\u001b[0m\n\u001b[1;32m-> 3080\u001b[1;33m                 \u001b[1;32mreturn\u001b[0m \u001b[0mself\u001b[0m\u001b[1;33m.\u001b[0m\u001b[0m_engine\u001b[0m\u001b[1;33m.\u001b[0m\u001b[0mget_loc\u001b[0m\u001b[1;33m(\u001b[0m\u001b[0mself\u001b[0m\u001b[1;33m.\u001b[0m\u001b[0m_maybe_cast_indexer\u001b[0m\u001b[1;33m(\u001b[0m\u001b[0mkey\u001b[0m\u001b[1;33m)\u001b[0m\u001b[1;33m)\u001b[0m\u001b[1;33m\u001b[0m\u001b[0m\n\u001b[0m\u001b[0;32m   3081\u001b[0m \u001b[1;33m\u001b[0m\u001b[0m\n\u001b[0;32m   3082\u001b[0m         \u001b[0mindexer\u001b[0m \u001b[1;33m=\u001b[0m \u001b[0mself\u001b[0m\u001b[1;33m.\u001b[0m\u001b[0mget_indexer\u001b[0m\u001b[1;33m(\u001b[0m\u001b[1;33m[\u001b[0m\u001b[0mkey\u001b[0m\u001b[1;33m]\u001b[0m\u001b[1;33m,\u001b[0m \u001b[0mmethod\u001b[0m\u001b[1;33m=\u001b[0m\u001b[0mmethod\u001b[0m\u001b[1;33m,\u001b[0m \u001b[0mtolerance\u001b[0m\u001b[1;33m=\u001b[0m\u001b[0mtolerance\u001b[0m\u001b[1;33m)\u001b[0m\u001b[1;33m\u001b[0m\u001b[0m\n",
      "\u001b[1;32mpandas\\_libs\\index.pyx\u001b[0m in \u001b[0;36mpandas._libs.index.IndexEngine.get_loc\u001b[1;34m()\u001b[0m\n",
      "\u001b[1;32mpandas\\_libs\\index.pyx\u001b[0m in \u001b[0;36mpandas._libs.index.IndexEngine.get_loc\u001b[1;34m()\u001b[0m\n",
      "\u001b[1;32mpandas\\_libs\\hashtable_class_helper.pxi\u001b[0m in \u001b[0;36mpandas._libs.hashtable.PyObjectHashTable.get_item\u001b[1;34m()\u001b[0m\n",
      "\u001b[1;32mpandas\\_libs\\hashtable_class_helper.pxi\u001b[0m in \u001b[0;36mpandas._libs.hashtable.PyObjectHashTable.get_item\u001b[1;34m()\u001b[0m\n",
      "\u001b[1;31mKeyError\u001b[0m: 'origContent'"
     ]
    }
   ],
   "source": [
    "df['badly_cleaned_content'] = df['content']\n",
    "df['content'] = df['origContent']\n",
    "df = df[df['content'].str.split().str.len() > 300]\n",
    "bp = initialize_plot()\n",
    "bp = df['content'].str.split().str.len().to_frame().boxplot()\n",
    "plt.show()"
   ]
  },
  {
   "cell_type": "code",
   "execution_count": 39,
   "metadata": {},
   "outputs": [
    {
     "name": "stdout",
     "output_type": "stream",
     "text": [
      "This week, Citigroup Inc. became the first big U.S. bank to publish its gender and racial pay gaps and commit to closing them, and many applauded the firm’s pledge as a leap forward. Some current and former bankers are less optimistic. The bank said the pay gap for women and minorities in its U.S., U.K. and German offices is just 1 percent, after taking into account job titles, experience and other factors that affect pay. But later this year, the bank will report another version of its gender pay gap, which is likely to be far bigger. In the U.K., companies with at least 250 employees are for the first time required to report the difference between how much men and women earn, on average -- without taking those mitigating factors into account. What those averages show in many companies is that white men hold a disproportionate number of higher-paying jobs and women tend to be clustered into lower-paying positions. Citigroup is no different. Current and former Citigroup employees said they want the bank and its peers to address the more fundamental issues of a lack of women and people of color in positions of power. One Citigroup executive who asked for anonymity in order to candidly discuss the firm called for more opportunities for black bankers to join in the first place. The way Wall Street recruits new workers and gives opportunities for advancement must change, they said. Slipping Back The share of women in Citigroup's U.S. workforce has fallen Source: Citigroup Inc. U.S. workforce data “We are not satisfied with current levels of senior women and minorities at our firm and our leaders are holding themselves and their teams accountable for making our company more diverse,” Jennifer Lowney, head of corporate communications at Citigroup, said in a statement. “We know we have more work to do in this critically important area, and we are committed to making progress.” Women make up a little more than half of the bank’s U.S. workforce and have for at least a decade, but they comprise just 24 percent of senior managers and executives, according to information Citigroup makes public on its website. In first and mid-level management positions, women hold about 41 percent, a share that’s dropped from 48 percent in 2007. The bank’s most highly compensated people are men. Of the five executive officers whose pay is listed on its most recent proxy filing, including CEO Michael Corbat, only one is a woman: Jane Fraser, whose $7.9 million was the least of the five. At Citigroup, as at JPMorgan Chase &amp; Co. and Goldman Sachs Group Inc., the percentage of senior black executives and managers fell from 2012 to 2016, according to U.S. workforce data compiled by Bloomberg. Black diversity also dropped in those five years for all U.S. employees at Citigroup, J.P. Morgan and Bank of America Corp. Read more: Companies slow to release U.K. pay-gap figures Even if Wall Street has to reverse some of its trends, a few veterans are cheerful. Citigroup “was always forward-thinking and ahead of the curve,” said Karen McDermott, a senior vice president in communications before she left the bank in 2005. “Maybe they’re starting a new trend in the marketplace around racial pay gaps,” she said. “I’ve never seen that term used. I’ve never seen anyone say they’re doing that.” Lowney said the bank has several efforts underway designed to attract, retain and promote women and minorities. “A focus on diversity is embedded in our recruitment efforts, compensation programs, training and development at all levels of the firm and in our employee networks,” she said. — With assistance by Yalman Onaran, and Dakin Campbell\n",
      "This week, Citigroup Inc. became the first big U.S. bank to publish its gender and racial pay gaps and commit to closing them, and many applauded the firm’s pledge as a leap forward. Some current and former bankers are less optimistic. The bank said the pay gap for women and minorities in its U.S., U.K. and German offices is just 1 percent, after taking into account job titles, experience and other factors that affect pay. But later this year, the bank will report another version of its gender pay gap, which is likely to be far bigger. In the U.K., companies with at least 250 employees are for the first time required to report the difference between how much men and women earn, on average -- without taking those mitigating factors into account. What those averages show in many companies is that white men hold a disproportionate number of higher-paying jobs and women tend to be clustered into lower-paying positions. Citigroup is no different. Current and former Citigroup employees said they want the bank and its peers to address the more fundamental issues of a lack of women and people of color in positions of power. One Citigroup executive who asked for anonymity in order to candidly discuss the firm called for more opportunities for black bankers to join in the first place. The way Wall Street recruits new workers and gives opportunities for advancement must change, they said. Slipping Back The share of women in Citigroup's U.S. workforce has fallen Source: Citigroup Inc. U.S. workforce data “We are not satisfied with current levels of senior women and minorities at our firm and our leaders are holding themselves and their teams accountable for making our company more diverse,” Jennifer Lowney, head of corporate communications at Citigroup, said in a statement. “We know we have more work to do in this critically important area, and we are committed to making progress.” Women make up a little more than half of the bank’s U.S. workforce and have for at least a decade, but they comprise just 24 percent of senior managers and executives, according to information Citigroup makes public on its website. In first and mid-level management positions, women hold about 41 percent, a share that’s dropped from 48 percent in 2007. The bank’s most highly compensated people are men. Of the five executive officers whose pay is listed on its most recent proxy filing, including CEO Michael Corbat, only one is a woman: Jane Fraser, whose $7.9 million was the least of the five. At Citigroup, as at JPMorgan Chase &amp; Co. and Goldman Sachs Group Inc., the percentage of senior black executives and managers fell from 2012 to 2016, according to U.S. workforce data compiled by Bloomberg. Black diversity also dropped in those five years for all U.S. employees at Citigroup, J.P. Morgan and Bank of America Corp. Read more: Companies slow to release U.K. pay-gap figures Even if Wall Street has to reverse some of its trends, a few veterans are cheerful. Citigroup “was always forward-thinking and ahead of the curve,” said Karen McDermott, a senior vice president in communications before she left the bank in 2005. “Maybe they’re starting a new trend in the marketplace around racial pay gaps,” she said. “I’ve never seen that term used. I’ve never seen anyone say they’re doing that.” Lowney said the bank has several efforts underway designed to attract, retain and promote women and minorities. “A focus on diversity is embedded in our recruitment efforts, compensation programs, training and development at all levels of the firm and in our employee networks,” she said. — With assistance by Yalman Onaran, and Dakin Campbell\n"
     ]
    }
   ],
   "source": [
    "#remove blanks (NaN)\n",
    "df = df.dropna(subset = ['content', 'title']) \n",
    "\n",
    "#remove blocked articles without content\n",
    "df = df[df.content.str.contains('Your usage has been flagged', case=False) == False]\n",
    "df = df[df.content.str.contains('To continue, please click the box', case=False) == False]\n",
    "\n",
    "#remove vidoes/ads/commentary\n",
    "df = df[df.description.str.contains('The \"Fast Money\" traders share their first moves for the market open.', case=False) == False]\n",
    "df = df[df.description.str.contains('stuff we think you', case=False) == False]\n",
    "\n",
    "#remove transcripts\n",
    "df = df[df.title.str.contains('transcript', case=False) == False]\n",
    "\n",
    "#remove cramer\n",
    "df = df[df.title.str.contains('cramer', case=False) == False]\n",
    "\n",
    "#keep articles with more than 300 words, which is the lower end of the boxplot\n",
    "#df = df[df['content'].str.split().str.len() > 300]\n",
    "\n",
    "#remove duplicates\n",
    "# by self-identified repeat\n",
    "df = df[df.title.str.contains('rpt', case=False) == False]\n",
    "# by title\n",
    "df = df.drop_duplicates(subset=['title'], keep='first')\n",
    "# by content\n",
    "df = df.drop_duplicates(subset=['content'], keep='first')\n",
    "# by decription\n",
    "df = df.drop_duplicates(subset=['description'], keep='first')\n",
    "\n",
    "df = df.reset_index(drop=True)\n",
    "\n",
    "\n",
    "# CLEAN ORIGINAL CONTENT\n",
    "df['origContent'] = df['content'] \n",
    "\n",
    "print(df['origContent'].iloc[4])\n",
    "\n",
    "#Remove nonsense sentences from original content pull\n",
    "for i in df.index:\n",
    "    \n",
    "    article = df['origContent'].iloc[i].split('\\r\\n')\n",
    "   \n",
    "    # remove lines with no period\n",
    "    article[:] = [sentence for sentence in article if '.' in sentence]\n",
    "    # remove lines with less than 5 words\n",
    "    article[:] = [sentence for sentence in article if len(sentence.split())>5]\n",
    "    # remove photo credits\n",
    "    article[:] = [sentence for sentence in article if not('Photo' in sentence)]\n",
    "    blackList = ['get breaking news','click here','write to','subscribe','read more','read or share','reporting by','twitter, instagram','comment','copyright','©', 'please read' ,'blog', 'editor', 'opinion section']\n",
    "    # remove lines with terms that are associated with useless sentences\n",
    "    article[:] = [sentence for sentence in article if not any(term in sentence.lower() for term in blackList)]\n",
    "\n",
    "    df.at[i,'origContent']='\\r\\n'.join(article)\n",
    "\n",
    "#Remove videos from cnbc links\n",
    "pat_cnbcVid = re.compile('div &gt; div\\.group &gt; p:first-child\"&gt;')\n",
    "df['origContent'] = list(map(lambda x: pat_cnbcVid.sub('', x), df['origContent']))\n",
    "#Remove amp;\n",
    "pat_amp = re.compile('amp;')\n",
    "df['origContent'] = list(map(lambda x: pat_amp.sub('', x), df['origContent']))\n",
    "\n",
    "# CLEAN CONTENT FOR FEATURE SELECTION df['content'] AND CONTEXT EXTRACTION df['contentWithStops'] \n",
    "\n",
    "\n",
    "#Remove time\n",
    "#pat_time = re.compile('[0-9]{0,2}:?[0-9]{1,2}\\s?[aApP]\\.?[mM]\\.?')\n",
    "#df['content'] = list(map(lambda x: pat_time.sub(' ', x), df['origContent'].str.lower()))\n",
    "\n",
    "\n",
    "\n",
    "#Remove urls\n",
    "pat_url = re.compile('[a-z]+?[.]?[a-z]+?[.]?[a-z]+[.]?[\\/\\/]\\S+')\n",
    "df['content'] = list(map(lambda x: pat_url.sub('URL', x), df['content']))\n",
    "pat_https = re.compile('https://')\n",
    "df['content'] = list(map(lambda x: pat_https.sub('', x), df['content']))\n",
    "\n",
    "print(df['content'].iloc[4])\n",
    "\n",
    "#Remove stopwords\n",
    "stopwords = [\n",
    "    # dates/times\n",
    "    \"january\", \"february\", \"march\", \"april\", \"may\", \"june\", \"july\", \"august\", \"september\", \"october\", \"november\", \"december\", \"jan\", \"feb\",\"mar\", \"apr\", \"jun\", \"jul\", \"aug\", \"oct\", \"nov\", \"dec\", \"monday\", \"tuesday\", \"wednesday\", \"thursday\", \"friday\", \"saturday\", \"sunday\", \"morning\", \"evening\",\"today\",\"pm\",\"am\",\n",
    "    # specific article terms that are useless\n",
    "    \"read\", \"share\", \"file\", \"'s\", \"photo\", \"inc\", \"corp\", \"group\", \"inc\", \"corp\", \"source\", \"bloomberg\", \"cnbc\",\"cnbcs\", \"cnn\", \"reuters\",\"bbc\", \"published\", \"broadcast\",\"york\",\"msnbc\",\"ap\",\"said\",\n",
    "    # other useless terms\n",
    "    \"me\", \"my\", \"myself\", \"we\", \"our\", \"ours\", \"ourselves\", \"you\", \"your\", \"yours\", \"yourself\", \"yourselves\", \"he\", \"him\", \"his\", \"himself\", \"she\", \"her\", \"hers\", \"herself\", \"it\", \"its\", \"itself\", \"they\", \"them\", \"their\", \"theirs\", \"themselves\", \"what\", \"which\", \"who\", \"whom\", \"this\", \"that\", \"these\", \"those\", \"co\", \"inc\", \"com\", \"theyve\", \"theyre\", \"theres\", \"heres\", \"didnt\", \"wouldn\", \"couldn\", \"didn\",\"nbcuniversal\",\"according\", \"just\", \"us\", \"ll\", \"times\",\"yes\",\"such\", \"no\", \"nor\", \"not\", \"only\", \"own\", \"same\", \"so\", \"than\", \"too\", \"very\", \"just\", \"don\", \"now\", \"will\", \"wasn\", \"etc\", \"but\", \"hello\", \"welcome\", \"re\",\"my\",     \n",
    "    # etc\n",
    "    \"also\",\"us\",\"the\", \"a\", \"of\", \"have\", \"has\", \"had\", \"having\", \"hello\", \"welcome\", \"yeah\", \"wasn\", \"today\", \"etc\", \"ext\",\"definitely\", \"am\", \"is\", \"are\", \"was\", \"were\", \"be\", \"been\", \"being\", \"have\", \"has\", \"had\", \"having\", \"do\", \"does\", \"did\", \"doing\", \"a\", \"an\", \"the\", \"and\", \"but\", \"if\", \"or\", \"because\", \"as\", \"while\", \"of\", \"at\", \"by\", \"for\", \"about\", \"into\", \"through\", \"during\", \"before\", \"after\", \"to\", \"from\", \"in\", \"out\", \"on\", \"off\", \"over\", \"under\", \"again\", \"further\", \"then\", \"once\", \"here\", \"there\", \"when\", \"where\", \"why\", \"how\", \"all\", \"any\", \"both\", \"each\", \"few\", \"more\", \"most\", \"other\", \"some\", \"such\", \"no\", \"nor\", \"not\", \"only\", \"own\", \"same\", \"so\", \"than\", \"too\", \"very\", \"just\", \"don\", \"now\", \"will\"\n",
    "]\n",
    "\n",
    "pat_stopwords = re.compile(r'\\b(' + r'|'.join(stopwords) + r')\\b\\s*')\n",
    "df['content'] = list(map(lambda x: pat_stopwords.sub(' ', x), df['content'].str.lower()))\n",
    "\n",
    "\n",
    "#Remove single character words\n",
    "pat_charLim = re.compile('\\s[a-zA-Z]\\s')\n",
    "df['content'] = list(map(lambda x: pat_charLim.sub(' ', x), df['content']))\n",
    "\n",
    "#Remove characters that don't separate a sentence or aren't $ signs\n",
    "# FOR context extraction\n",
    "pat_nonStops = re.compile('[^\\.\\?!,;\\$0-9a-zA-Z]+')\n",
    "df['contentWithStops'] = list(map(lambda x: pat_nonStops.sub(' ', x), df['content']))\n",
    "\n",
    "#Remove punctuation \n",
    "# FOR feature selection/encoding\n",
    "pat_punctuation = re.compile('[^a-zA-Z]+')\n",
    "df['content'] = list(map(lambda x: pat_punctuation.sub(' ', x), df['content']))\n",
    "\n",
    "#Remove single characters\n",
    "df['content'] = list(map(lambda x: pat_charLim.sub(' ', x), df['content']))"
   ]
  },
  {
   "cell_type": "code",
   "execution_count": 6,
   "metadata": {},
   "outputs": [
    {
     "data": {
      "text/plain": [
       "Index(['article_id', 'title', 'description', 'url', 'date', 'content',\n",
       "       'Classify', 'market_moving', 'badly_cleaned_content'],\n",
       "      dtype='object')"
      ]
     },
     "execution_count": 6,
     "metadata": {},
     "output_type": "execute_result"
    }
   ],
   "source": [
    "df.columns"
   ]
  },
  {
   "cell_type": "code",
   "execution_count": 40,
   "metadata": {},
   "outputs": [
    {
     "data": {
      "text/plain": [
       "RangeIndex(start=0, stop=2228, step=1)"
      ]
     },
     "execution_count": 40,
     "metadata": {},
     "output_type": "execute_result"
    }
   ],
   "source": [
    "df.index"
   ]
  },
  {
   "cell_type": "code",
   "execution_count": 41,
   "metadata": {},
   "outputs": [
    {
     "data": {
      "text/plain": [
       "''"
      ]
     },
     "execution_count": 41,
     "metadata": {},
     "output_type": "execute_result"
    }
   ],
   "source": [
    "df['origContent'].iloc[4]"
   ]
  },
  {
   "cell_type": "code",
   "execution_count": 42,
   "metadata": {},
   "outputs": [
    {
     "data": {
      "text/plain": [
       "' week citigroup became first big s bank publish gender racial pay gaps commit closing many applauded firm pledge leap forward current former bankers less optimistic bank pay gap women minorities s k german offices percent taking account job titles experience factors affect pay later year bank report another version gender pay gap likely far bigger k companies with least employees first time required report difference between much men women earn average without taking mitigating factors account averages show many companies white men hold disproportionate number higher paying jobs women tend clustered lower paying positions citigroup different current former citigroup employees want bank peers address fundamental issues lack women people color positions power one citigroup executive asked anonymity order candidly discuss firm called opportunities black bankers join first place way wall street recruits new workers gives opportunities advancement must change slipping back women citigroup s workforce fallen citigroup s workforce data satisfied with current levels senior women minorities firm leaders holding teams accountable making company diverse jennifer lowney head corporate communications citigroup statement know work critically important area committed making progress women make up little half bank u workforce least decade comprise percent senior managers executives information citigroup makes public website first mid level management positions women hold percent dropped percent bank highly compensated people men five executive officers whose pay listed recent proxy filing including ceo michael corbat one woman jane fraser whose million least five citigroup jpmorgan chase amp goldman sachs percentage senior black executives managers fell s workforce data compiled black diversity dropped five years s employees citigroup p morgan bank america companies slow release k pay gap figures even wall street reverse trends veterans cheerful citigroup always forward thinking ahead curve karen mcdermott senior vice president communications left bank maybe starting new trend marketplace around racial pay gaps ve never seen term used ve never seen anyone say lowney bank several efforts underway designed attract retain promote women minorities focus diversity embedded recruitment efforts compensation programs training development levels firm employee networks with assistance yalman onaran dakin campbell'"
      ]
     },
     "execution_count": 42,
     "metadata": {},
     "output_type": "execute_result"
    }
   ],
   "source": [
    "df['content'].iloc[4]"
   ]
  },
  {
   "cell_type": "code",
   "execution_count": 43,
   "metadata": {},
   "outputs": [
    {
     "data": {
      "text/plain": [
       "' week, citigroup . became first big u.s. bank publish gender racial pay gaps commit closing , many applauded firm s pledge leap forward. current former bankers less optimistic. bank pay gap women minorities u.s., u.k. german offices 1 percent, taking account job titles, experience factors affect pay. later year, bank report another version gender pay gap, likely far bigger. u.k., companies with least 250 employees first time required report difference between much men women earn, average without taking mitigating factors account. averages show many companies white men hold disproportionate number higher paying jobs women tend clustered lower paying positions. citigroup different. current former citigroup employees want bank peers address fundamental issues lack women people color positions power. one citigroup executive asked anonymity order candidly discuss firm called opportunities black bankers join first place. way wall street recruits new workers gives opportunities advancement must change, . slipping back women citigroup u.s. workforce fallen citigroup . u.s. workforce data satisfied with current levels senior women minorities firm leaders holding teams accountable making company diverse, jennifer lowney, head corporate communications citigroup, statement. know work critically important area, committed making progress. women make up little half bank s u.s. workforce least decade, comprise 24 percent senior managers executives, information citigroup makes public website. first mid level management positions, women hold 41 percent, s dropped 48 percent 2007. bank s highly compensated people men. five executive officers whose pay listed recent proxy filing, including ceo michael corbat, one woman jane fraser, whose $7.9 million least five. citigroup, jpmorgan chase amp; . goldman sachs ., percentage senior black executives managers fell 2012 2016, u.s. workforce data compiled . black diversity dropped five years u.s. employees citigroup, j.p. morgan bank america . companies slow release u.k. pay gap figures even wall street reverse trends, veterans cheerful. citigroup always forward thinking ahead curve, karen mcdermott, senior vice president communications left bank 2005. maybe starting new trend marketplace around racial pay gaps, . i ve never seen term used. i ve never seen anyone say . lowney bank several efforts underway designed attract, retain promote women minorities. focus diversity embedded recruitment efforts, compensation programs, training development levels firm employee networks, . with assistance yalman onaran, dakin campbell'"
      ]
     },
     "execution_count": 43,
     "metadata": {},
     "output_type": "execute_result"
    }
   ],
   "source": [
    "df['contentWithStops'].iloc[4]"
   ]
  },
  {
   "cell_type": "code",
   "execution_count": 44,
   "metadata": {},
   "outputs": [],
   "source": [
    "import matplotlib.pyplot as plt\n",
    "def initialize_plot():\n",
    "    plt.plot()\n",
    "    plt.ylabel('Number of words')\n",
    "    plt.xlabel('')\n",
    "    plt.title(\"Number of words in each articles (n=%s)\"%(len(df)))\n",
    "    return plt"
   ]
  },
  {
   "cell_type": "code",
   "execution_count": 45,
   "metadata": {},
   "outputs": [
    {
     "data": {
      "image/png": "[encoded data removed]",
      "text/plain": [
       "<Figure size 432x288 with 1 Axes>"
      ]
     },
     "metadata": {},
     "output_type": "display_data"
    }
   ],
   "source": [
    "#df = df[df['content'].str.split().str.len() > 500]\n",
    "bp = initialize_plot()\n",
    "bp = df['content'].str.split().str.len().to_frame().boxplot()\n",
    "plt.show()"
   ]
  },
  {
   "cell_type": "code",
   "execution_count": 46,
   "metadata": {},
   "outputs": [
    {
     "data": {
      "text/plain": [
       "344"
      ]
     },
     "execution_count": 46,
     "metadata": {},
     "output_type": "execute_result"
    }
   ],
   "source": [
    "df['content'].str.split().str.len().iloc[100]"
   ]
  },
  {
   "cell_type": "code",
   "execution_count": 47,
   "metadata": {},
   "outputs": [],
   "source": [
    "OUTPUT_DIR = os.path.join(\"Data\", 'Labelled_Articles-3148_cleaned.xlsx')\n",
    "writer = pd.ExcelWriter(OUTPUT_DIR)\n",
    "df.to_excel(writer,'Sheet1')\n",
    "writer.save()"
   ]
  },
  {
   "cell_type": "code",
   "execution_count": 48,
   "metadata": {},
   "outputs": [],
   "source": [
    "test = [\"I I I I I\", \"I. I. I. I.\", \"I. I . I .I .I .I\", \"I . a dad , I s.djaf I. I. i\",\"I . a dad , I sdjaf I I i\"]\n"
   ]
  },
  {
   "cell_type": "code",
   "execution_count": 49,
   "metadata": {},
   "outputs": [
    {
     "name": "stdout",
     "output_type": "stream",
     "text": [
      "2227 5\n",
      "2227 0\n",
      "2227 2\n",
      "2227 2\n",
      "2227 4\n"
     ]
    }
   ],
   "source": [
    "for line in test:\n",
    "    print(i,line.split().count('I'))"
   ]
  },
  {
   "cell_type": "code",
   "execution_count": null,
   "metadata": {},
   "outputs": [],
   "source": []
  }
 ],
 "metadata": {
  "kernelspec": {
   "display_name": "Python 3",
   "language": "python",
   "name": "python3"
  },
  "language_info": {
   "codemirror_mode": {
    "name": "ipython",
    "version": 3
   },
   "file_extension": ".py",
   "mimetype": "text/x-python",
   "name": "python",
   "nbconvert_exporter": "python",
   "pygments_lexer": "ipython3",
   "version": "3.6.6"
  }
 },
 "nbformat": 4,
 "nbformat_minor": 2
}
