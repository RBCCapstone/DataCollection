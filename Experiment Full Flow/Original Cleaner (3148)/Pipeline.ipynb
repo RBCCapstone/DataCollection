{
 "cells": [
  {
   "cell_type": "markdown",
   "metadata": {},
   "source": [
    "# Pipeline to run all files\n",
    "* ~~All scripts currently output Excel files because we were working independently~~\n",
    "* ~~<b>We'll be changing this so that each script passes dataframes until the end of the pipeline.</b>~~\n",
    "* Our plan is to not store anything (refresh daily) but need to consider how to deal with taking in user feedback\n",
    "* Original Cleaner (3148)"
   ]
  },
  {
   "cell_type": "code",
   "execution_count": 25,
   "metadata": {},
   "outputs": [
    {
     "name": "stdout",
     "output_type": "stream",
     "text": [
      "Gathering articles on (Gap Inc) OR (Foot Locker) OR (L Brands) OR Macerich OR Kimco OR TJX OR CVS OR (Home Depot) OR (Best Buy) OR (Lowe's) OR Walmart OR (Target's) OR TGT OR Amazon OR Kroger OR Walgreens OR Kohl's OR (Dollar General) OR (Bed Bath and Beyond) OR Safeway from: 2019-02-25 to 2019-03-01\n",
      "997\n"
     ]
    }
   ],
   "source": [
    "#Gather Articles\n",
    "import NewsAPI as news\n",
    "import os\n",
    "\n",
    "#delete any old sorted article files\n",
    "#if os.path.exists(\"articles.csv\"):\n",
    "#    os.remove(\"articles.csv\")\n",
    "\n",
    "#inputs in order: set manual date (yes=1/no=0, no = last 24 hours of news), manual start date as \"YYYY-MM-DD\"(leave empty if 0), manual end date (leave empty if 0, companies to pull (6= all 19 companies)\n",
    "articleDB = news.main(1,\"2019-02-25\",\"2019-03-01\",6) #output is called 'NewsAPIOutput.xlsx' in Python Scripts > Data folder"
   ]
  },
  {
   "cell_type": "code",
   "execution_count": 26,
   "metadata": {},
   "outputs": [],
   "source": [
    "#Article Cleaning (must pip install tqdm first (only once) to run)\n",
    "import dataClean as dc\n",
    "articleDB = dc.DataClean(articleDB)"
   ]
  },
  {
   "cell_type": "code",
   "execution_count": 27,
   "metadata": {
    "scrolled": true
   },
   "outputs": [
    {
     "name": "stdout",
     "output_type": "stream",
     "text": [
      "content\n",
      "wnLemm\n",
      "Binary Encoding\n",
      "True\n",
      "title\n",
      "wnLemm\n",
      "Binary Encoding\n",
      "True\n"
     ]
    }
   ],
   "source": [
    "#Feature Selection and Binary Article Encoding\n",
    "import FeatureEncoding as fe\n",
    "contentBinaryMatrix = fe.encoding(0, df=articleDB, text_col='content', norm='wnLemm')\n",
    "titleBinaryMatrix = fe.encoding(0, df=articleDB, text_col = 'title', norm='wnLemm')"
   ]
  },
  {
   "cell_type": "code",
   "execution_count": 28,
   "metadata": {},
   "outputs": [
    {
     "name": "stdout",
     "output_type": "stream",
     "text": [
      "Index([0, 1, 'article_id', 'prediction'], dtype='object')\n",
      "                                               title  \\\n",
      "0  Why Amazon May Pay No Federal Income Taxes Thi...   \n",
      "1             Robots head to Nomura’s trading floors   \n",
      "2  Target is taking a page out of Amazon's playbo...   \n",
      "3  South American Cyber Security Market to 2023 -...   \n",
      "4  Business.com Expands Management Team with Prov...   \n",
      "\n",
      "                                         description  \n",
      "0  Amazon disputes the idea that its unfairly avo...  \n",
      "1             Your essential weekly fintech briefing  \n",
      "2  Target has started to add third-party sellers ...  \n",
      "3  Based on deployment type, the cyber security m...  \n",
      "4  Business.com Expands Management Team with Prov...  \n"
     ]
    }
   ],
   "source": [
    "#Logistic Regression Classifier + Article Ranking, complete final file is called 'results_encoding.xlsx'\n",
    "import logReg as lr\n",
    "articleDB = lr.runLogReg(titleBinaryMatrix, contentBinaryMatrix, articleDB)\n",
    "#articleDB = runLogReg(titleBinaryMatrix, contentBinaryMatrix, articleDB)"
   ]
  },
  {
   "cell_type": "code",
   "execution_count": 29,
   "metadata": {
    "scrolled": true
   },
   "outputs": [
    {
     "name": "stderr",
     "output_type": "stream",
     "text": [
      "100%|████████████████████████████████████████████████████████████████████████████████| 578/578 [00:59<00:00,  3.10it/s]\n",
      "100%|████████████████████████████████████████████████████████████████████████████████| 578/578 [05:54<00:00,  1.84s/it]\n"
     ]
    }
   ],
   "source": [
    "# This code extracts and ranks \"tags\" + counts frequency of tag mentions in articles \n",
    "\"\"\"\n",
    "Inputs: \n",
    "    1) articleDB - uses column 'content'\n",
    "    2) (optional) - tag type (could be 'ngrams'{unlimited}, 'bigrams'{terms with up to 2 words}, or 'unigrams'{single terms})\n",
    "        - default is 'bigrams'\n",
    "        - future work: add in noun phrases, named entities \n",
    "Outputs:\n",
    "    1) articleDB = articleDB with appended columns \"tags\" and \"tags_top_5\"\n",
    "    2) trendingTermsDB = keyterms by # article mentions\n",
    "\"\"\"\n",
    "import ContextExtraction as ce\n",
    "articleDB, trendingTermsDB = ce.retrieveContext(articleDB)"
   ]
  },
  {
   "cell_type": "code",
   "execution_count": 30,
   "metadata": {},
   "outputs": [
    {
     "name": "stdout",
     "output_type": "stream",
     "text": [
      "tifidf Encoding\n",
      "bin Encoding\n"
     ]
    },
    {
     "name": "stderr",
     "output_type": "stream",
     "text": [
      "100%|███████████████████████████████████████████████████████████████████████████████| 578/578 [00:03<00:00, 189.56it/s]\n"
     ]
    },
    {
     "name": "stdout",
     "output_type": "stream",
     "text": [
      "tf Encoding\n"
     ]
    },
    {
     "name": "stderr",
     "output_type": "stream",
     "text": [
      "100%|███████████████████████████████████████████████████████████████████████████████| 578/578 [00:03<00:00, 189.59it/s]\n"
     ]
    },
    {
     "name": "stdout",
     "output_type": "stream",
     "text": [
      "       report      tech  behemoth    amazon  unlikely       pay   federal  \\\n",
      "0    0.023622  0.012346      0.25  0.080808  0.035714  0.043478  0.081818   \n",
      "1    0.000000  0.000000      0.00  0.000000  0.035714  0.000000  0.000000   \n",
      "2    0.000000  0.000000      0.00  0.055556  0.000000  0.000000  0.009091   \n",
      "3    0.015748  0.000000      0.00  0.005051  0.000000  0.000000  0.000000   \n",
      "4    0.000000  0.000000      0.00  0.000000  0.000000  0.000000  0.000000   \n",
      "5    0.015748  0.000000      0.00  0.000000  0.000000  0.000000  0.018182   \n",
      "6    0.000000  0.000000      0.00  0.070707  0.000000  0.000000  0.000000   \n",
      "7    0.000000  0.000000      0.00  0.000000  0.000000  0.000000  0.000000   \n",
      "8    0.023622  0.000000      0.00  0.000000  0.000000  0.000000  0.000000   \n",
      "9    0.000000  0.000000      0.00  0.000000  0.000000  0.000000  0.000000   \n",
      "10   0.007874  0.012346      0.00  0.060606  0.000000  0.000000  0.000000   \n",
      "11   0.000000  0.000000      0.00  0.000000  0.000000  0.000000  0.009091   \n",
      "12   0.000000  0.000000      0.00  0.000000  0.000000  0.000000  0.009091   \n",
      "13   0.000000  0.000000      0.00  0.005051  0.000000  0.000000  0.000000   \n",
      "14   0.031496  0.000000      0.00  0.015152  0.000000  0.000000  0.000000   \n",
      "15   0.000000  0.000000      0.00  0.000000  0.000000  0.000000  0.018182   \n",
      "16   0.007874  0.000000      0.00  0.000000  0.000000  0.000000  0.000000   \n",
      "17   0.000000  0.000000      0.00  0.065657  0.000000  0.000000  0.000000   \n",
      "18   0.000000  0.000000      0.00  0.000000  0.000000  0.000000  0.000000   \n",
      "19   0.000000  0.000000      0.00  0.000000  0.000000  0.000000  0.018182   \n",
      "20   0.000000  0.000000      0.00  0.000000  0.000000  0.000000  0.000000   \n",
      "21   0.000000  0.000000      0.00  0.000000  0.000000  0.000000  0.000000   \n",
      "22   0.023622  0.000000      0.00  0.000000  0.000000  0.000000  0.018182   \n",
      "23   0.015748  0.000000      0.00  0.000000  0.000000  0.000000  0.009091   \n",
      "24   0.015748  0.000000      0.00  0.000000  0.000000  0.000000  0.000000   \n",
      "25   0.000000  0.000000      0.00  0.045455  0.000000  0.000000  0.000000   \n",
      "26   0.000000  0.000000      0.00  0.000000  0.000000  0.000000  0.000000   \n",
      "27   0.000000  0.000000      0.00  0.005051  0.000000  0.010870  0.000000   \n",
      "28   0.007874  0.000000      0.00  0.000000  0.000000  0.000000  0.009091   \n",
      "29   0.015748  0.000000      0.00  0.000000  0.000000  0.000000  0.018182   \n",
      "..        ...       ...       ...       ...       ...       ...       ...   \n",
      "548  0.000000  0.000000      0.00  0.000000  0.000000  0.000000  0.000000   \n",
      "549  0.000000  0.000000      0.00  0.000000  0.000000  0.000000  0.000000   \n",
      "550  0.007874  0.000000      0.00  0.000000  0.000000  0.000000  0.000000   \n",
      "551  0.007874  0.000000      0.00  0.000000  0.035714  0.032609  0.009091   \n",
      "552  0.000000  0.000000      0.00  0.000000  0.000000  0.000000  0.000000   \n",
      "553  0.000000  0.000000      0.00  0.005051  0.000000  0.000000  0.000000   \n",
      "554  0.000000  0.000000      0.00  0.000000  0.000000  0.010870  0.009091   \n",
      "555  0.000000  0.000000      0.00  0.000000  0.000000  0.010870  0.009091   \n",
      "556  0.000000  0.000000      0.00  0.000000  0.000000  0.010870  0.009091   \n",
      "557  0.000000  0.086420      0.00  0.005051  0.035714  0.000000  0.018182   \n",
      "558  0.007874  0.000000      0.00  0.005051  0.000000  0.000000  0.000000   \n",
      "559  0.000000  0.000000      0.00  0.000000  0.000000  0.010870  0.000000   \n",
      "560  0.000000  0.000000      0.00  0.000000  0.000000  0.000000  0.045455   \n",
      "561  0.000000  0.000000      0.00  0.000000  0.000000  0.000000  0.009091   \n",
      "562  0.000000  0.061728      0.00  0.015152  0.000000  0.000000  0.063636   \n",
      "563  0.007874  0.000000      0.00  0.000000  0.000000  0.000000  0.000000   \n",
      "564  0.000000  0.000000      0.00  0.000000  0.000000  0.010870  0.000000   \n",
      "565  0.000000  0.000000      0.00  0.000000  0.000000  0.000000  0.009091   \n",
      "566  0.000000  0.000000      0.00  0.000000  0.000000  0.010870  0.009091   \n",
      "567  0.000000  0.000000      0.00  0.000000  0.000000  0.000000  0.000000   \n",
      "568  0.000000  0.024691      0.00  0.005051  0.000000  0.010870  0.000000   \n",
      "569  0.000000  0.000000      0.00  0.000000  0.000000  0.000000  0.000000   \n",
      "570  0.000000  0.000000      0.00  0.000000  0.000000  0.000000  0.000000   \n",
      "571  0.000000  0.000000      0.00  0.000000  0.000000  0.000000  0.000000   \n",
      "572  0.007874  0.000000      0.00  0.000000  0.000000  0.032609  0.018182   \n",
      "573  0.007874  0.000000      0.00  0.000000  0.035714  0.000000  0.009091   \n",
      "574  0.149606  0.000000      0.00  0.000000  0.000000  0.010870  0.054545   \n",
      "575  0.000000  0.000000      0.00  0.000000  0.000000  0.000000  0.000000   \n",
      "576  0.007874  0.000000      0.00  0.000000  0.035714  0.000000  0.009091   \n",
      "577  0.015748  0.024691      0.00  0.030303  0.000000  0.021739  0.027273   \n",
      "\n",
      "     income       tax  recently   ...    popper  endeavors  scammers  jabin  \\\n",
      "0      0.22  0.676471  0.011765   ...       0.0        0.0       0.0    0.0   \n",
      "1      0.08  0.000000  0.011765   ...       0.0        0.0       0.0    0.0   \n",
      "2      0.00  0.000000  0.000000   ...       0.0        0.0       0.0    0.0   \n",
      "3      0.00  0.000000  0.000000   ...       0.0        0.0       0.0    0.0   \n",
      "4      0.00  0.000000  0.000000   ...       0.0        0.0       0.0    0.0   \n",
      "5      0.00  0.058824  0.000000   ...       0.0        0.0       0.0    0.0   \n",
      "6      0.00  0.000000  0.000000   ...       0.0        0.0       0.0    0.0   \n",
      "7      0.00  0.000000  0.000000   ...       0.0        0.0       0.0    0.0   \n",
      "8      0.00  0.014706  0.000000   ...       0.0        0.0       0.0    0.0   \n",
      "9      0.00  0.000000  0.000000   ...       0.0        0.0       0.0    0.0   \n",
      "10     0.00  0.000000  0.000000   ...       0.0        0.0       0.0    0.0   \n",
      "11     0.00  0.000000  0.011765   ...       0.0        0.0       0.0    0.0   \n",
      "12     0.00  0.000000  0.011765   ...       0.0        0.0       0.0    0.0   \n",
      "13     0.00  0.000000  0.000000   ...       0.0        0.0       0.0    0.0   \n",
      "14     0.00  0.000000  0.000000   ...       0.0        0.0       0.0    0.0   \n",
      "15     0.00  0.029412  0.011765   ...       0.0        0.0       0.0    0.0   \n",
      "16     0.00  0.000000  0.000000   ...       0.0        0.0       0.0    0.0   \n",
      "17     0.00  0.073529  0.011765   ...       0.0        0.0       0.0    0.0   \n",
      "18     0.00  0.000000  0.011765   ...       0.0        0.0       0.0    0.0   \n",
      "19     0.02  0.000000  0.000000   ...       0.0        0.0       0.0    0.0   \n",
      "20     0.00  0.000000  0.000000   ...       0.0        0.0       0.0    0.0   \n",
      "21     0.00  0.000000  0.000000   ...       0.0        0.0       0.0    0.0   \n",
      "22     0.00  0.029412  0.000000   ...       0.0        0.0       0.0    0.0   \n",
      "23     0.00  0.000000  0.000000   ...       0.0        0.0       0.0    0.0   \n",
      "24     0.00  0.000000  0.000000   ...       0.0        0.0       0.0    0.0   \n",
      "25     0.00  0.000000  0.000000   ...       0.0        0.0       0.0    0.0   \n",
      "26     0.02  0.000000  0.000000   ...       0.0        0.0       0.0    0.0   \n",
      "27     0.00  0.000000  0.000000   ...       0.0        0.0       0.0    0.0   \n",
      "28     0.00  0.000000  0.000000   ...       0.0        0.0       0.0    0.0   \n",
      "29     0.00  0.029412  0.000000   ...       0.0        0.0       0.0    0.0   \n",
      "..      ...       ...       ...   ...       ...        ...       ...    ...   \n",
      "548    0.00  0.000000  0.000000   ...       0.0        0.0       0.0    0.0   \n",
      "549    0.00  0.000000  0.011765   ...       0.0        0.0       0.0    0.0   \n",
      "550    0.00  0.000000  0.000000   ...       0.0        0.0       0.0    0.0   \n",
      "551    0.02  0.000000  0.000000   ...       0.0        0.0       0.0    0.0   \n",
      "552    0.00  0.000000  0.000000   ...       0.0        0.0       0.0    0.0   \n",
      "553    0.00  0.000000  0.000000   ...       0.0        0.0       0.0    0.0   \n",
      "554    0.00  0.014706  0.000000   ...       0.0        0.0       0.0    0.0   \n",
      "555    0.00  0.014706  0.000000   ...       0.0        0.0       0.0    0.0   \n",
      "556    0.00  0.014706  0.000000   ...       0.0        0.0       0.0    0.0   \n",
      "557    0.00  0.000000  0.000000   ...       0.0        0.0       0.0    0.0   \n",
      "558    0.00  0.014706  0.000000   ...       0.0        0.0       0.0    0.0   \n",
      "559    0.00  0.000000  0.000000   ...       0.0        0.0       0.0    0.0   \n",
      "560    0.00  0.000000  0.000000   ...       0.0        0.0       0.0    0.0   \n",
      "561    0.04  0.000000  0.000000   ...       0.0        0.0       0.0    0.0   \n",
      "562    0.00  0.000000  0.011765   ...       0.0        0.0       0.0    0.0   \n",
      "563    0.00  0.000000  0.000000   ...       0.0        0.0       0.0    0.0   \n",
      "564    0.00  0.000000  0.011765   ...       0.0        0.0       0.0    0.0   \n",
      "565    0.00  0.000000  0.000000   ...       0.0        0.0       0.0    0.0   \n",
      "566    0.00  0.014706  0.000000   ...       0.0        0.0       0.0    0.0   \n",
      "567    0.00  0.000000  0.000000   ...       0.0        0.0       0.0    0.0   \n",
      "568    0.02  0.000000  0.000000   ...       0.0        0.0       0.0    0.0   \n",
      "569    0.00  0.000000  0.000000   ...       0.0        0.0       0.0    0.0   \n",
      "570    0.00  0.000000  0.011765   ...       0.0        0.0       0.0    0.0   \n",
      "571    0.00  0.000000  0.011765   ...       0.0        0.0       0.0    0.0   \n",
      "572    0.02  0.014706  0.058824   ...       0.0        0.0       0.0    0.0   \n",
      "573    0.00  0.000000  0.000000   ...       0.0        0.0       0.0    0.0   \n",
      "574    0.00  0.029412  0.023529   ...       0.0        0.0       0.0    0.0   \n",
      "575    0.00  0.000000  0.000000   ...       0.0        0.0       0.0    0.0   \n",
      "576    0.00  0.000000  0.000000   ...       0.0        0.0       0.0    0.0   \n",
      "577    0.04  0.000000  0.000000   ...       1.0        0.5       0.5    0.5   \n",
      "\n",
      "     impersonating  tunstall  rinse  rte  lecher  tanuja  \n",
      "0              0.0       0.0    0.0  0.0     0.0     0.0  \n",
      "1              0.0       0.0    0.0  0.0     0.0     0.0  \n",
      "2              0.0       0.0    0.0  0.0     0.0     0.0  \n",
      "3              0.0       0.0    0.0  0.0     0.0     0.0  \n",
      "4              0.0       0.0    0.0  0.0     0.0     0.0  \n",
      "5              0.0       0.0    0.0  0.0     0.0     0.0  \n",
      "6              0.0       0.0    0.0  0.0     0.0     0.0  \n",
      "7              0.0       0.0    0.0  0.0     0.0     0.0  \n",
      "8              0.0       0.0    0.0  0.0     0.0     0.0  \n",
      "9              0.0       0.0    0.0  0.0     0.0     0.0  \n",
      "10             0.0       0.0    0.0  0.0     0.0     0.0  \n",
      "11             0.0       0.0    0.0  0.0     0.0     0.0  \n",
      "12             0.0       0.0    0.0  0.0     0.0     0.0  \n",
      "13             0.0       0.0    0.0  0.0     0.0     0.0  \n",
      "14             0.0       0.0    0.0  0.0     0.0     0.0  \n",
      "15             0.0       0.0    0.0  0.0     0.0     0.0  \n",
      "16             0.0       0.0    0.0  0.0     0.0     0.0  \n",
      "17             0.0       0.0    0.0  0.0     0.0     0.0  \n",
      "18             0.0       0.0    0.0  0.0     0.0     0.0  \n",
      "19             0.0       0.0    0.0  0.0     0.0     0.0  \n",
      "20             0.0       0.0    0.0  0.0     0.0     0.0  \n",
      "21             0.0       0.0    0.0  0.0     0.0     0.0  \n",
      "22             0.0       0.0    0.0  0.0     0.0     0.0  \n",
      "23             0.0       0.0    0.0  0.0     0.0     0.0  \n",
      "24             0.0       0.0    0.0  0.0     0.0     0.0  \n",
      "25             0.0       0.0    0.0  0.0     0.0     0.0  \n",
      "26             0.0       0.0    0.0  0.0     0.0     0.0  \n",
      "27             0.0       0.0    0.0  0.0     0.0     0.0  \n",
      "28             0.0       0.0    0.0  0.0     0.0     0.0  \n",
      "29             0.0       0.0    0.0  0.0     0.0     0.0  \n",
      "..             ...       ...    ...  ...     ...     ...  \n",
      "548            0.0       0.0    0.0  0.0     0.0     0.0  \n",
      "549            0.0       0.0    0.0  0.0     0.0     0.0  \n",
      "550            0.0       0.0    0.0  0.0     0.0     0.0  \n",
      "551            0.0       0.0    0.0  0.0     0.0     0.0  \n",
      "552            0.0       0.0    0.0  0.0     0.0     0.0  \n",
      "553            0.0       0.0    0.0  0.0     0.0     0.0  \n",
      "554            0.0       0.0    0.0  0.0     0.0     0.0  \n",
      "555            0.0       0.0    0.0  0.0     0.0     0.0  \n",
      "556            0.0       0.0    0.0  0.0     0.0     0.0  \n",
      "557            0.0       0.0    0.0  0.0     0.0     0.0  \n",
      "558            0.0       0.0    0.0  0.0     0.0     0.0  \n",
      "559            0.0       0.0    0.0  0.0     0.0     0.0  \n",
      "560            0.0       0.0    0.0  0.0     0.0     0.0  \n",
      "561            0.0       0.0    0.0  0.0     0.0     0.0  \n",
      "562            0.0       0.0    0.0  0.0     0.0     0.0  \n",
      "563            0.0       0.0    0.0  0.0     0.0     0.0  \n",
      "564            0.0       0.0    0.0  0.0     0.0     0.0  \n",
      "565            0.0       0.0    0.0  0.0     0.0     0.0  \n",
      "566            0.0       0.0    0.0  0.0     0.0     0.0  \n",
      "567            0.0       0.0    0.0  0.0     0.0     0.0  \n",
      "568            0.0       0.0    0.0  0.0     0.0     0.0  \n",
      "569            0.0       0.0    0.0  0.0     0.0     0.0  \n",
      "570            0.0       0.0    0.0  0.0     0.0     0.0  \n",
      "571            0.0       0.0    0.0  0.0     0.0     0.0  \n",
      "572            0.0       0.0    0.0  0.0     0.0     0.0  \n",
      "573            0.0       0.0    0.0  0.0     0.0     0.0  \n",
      "574            0.0       0.0    0.0  0.0     0.0     0.0  \n",
      "575            0.0       0.0    0.0  0.0     0.0     0.0  \n",
      "576            0.0       0.0    0.0  0.0     0.0     0.0  \n",
      "577            0.5       1.0    0.5  0.5     0.5     0.5  \n",
      "\n"
     ]
    },
    {
     "name": "stdout",
     "output_type": "stream",
     "text": [
      "[578 rows x 22197 columns]\n"
     ]
    }
   ],
   "source": [
    "import EncodingforRecommender as rec\n",
    "articleDB = rec.recommender(articleDB)"
   ]
  },
  {
   "cell_type": "code",
   "execution_count": 31,
   "metadata": {},
   "outputs": [],
   "source": [
    "import frontPage as fp\n",
    "frontpage = fp.FrontPage(articleDB, trendingTermsDB)"
   ]
  },
  {
   "cell_type": "code",
   "execution_count": 32,
   "metadata": {},
   "outputs": [
    {
     "data": {
      "text/plain": [
       "Index(['date', 'origContent', 'related_articles', 'source', 'tags', 'title'], dtype='object')"
      ]
     },
     "execution_count": 32,
     "metadata": {},
     "output_type": "execute_result"
    }
   ],
   "source": [
    "import pandas as pd\n",
    "articles = pd.DataFrame(frontpage['articles'])\n",
    "topterms= pd.DataFrame(frontpage['topterms'])\n",
    "articles.columns"
   ]
  },
  {
   "cell_type": "code",
   "execution_count": 33,
   "metadata": {},
   "outputs": [],
   "source": [
    "titles = pd.DataFrame(articles['tags'])"
   ]
  },
  {
   "cell_type": "code",
   "execution_count": 34,
   "metadata": {},
   "outputs": [],
   "source": [
    "pd.DataFrame.to_excel(articleDB, 'Main Version-original cleaner-25-1.xlsx')"
   ]
  },
  {
   "cell_type": "code",
   "execution_count": 35,
   "metadata": {},
   "outputs": [],
   "source": [
    "import winsound"
   ]
  },
  {
   "cell_type": "code",
   "execution_count": 36,
   "metadata": {},
   "outputs": [],
   "source": [
    "winsound.Beep(600, 600)\n",
    "winsound.Beep(600, 600)\n",
    "winsound.Beep(600, 600)\n",
    "winsound.Beep(600, 600)\n",
    "winsound.Beep(600, 600)"
   ]
  },
  {
   "cell_type": "code",
   "execution_count": null,
   "metadata": {},
   "outputs": [],
   "source": []
  },
  {
   "cell_type": "code",
   "execution_count": null,
   "metadata": {},
   "outputs": [],
   "source": []
  }
 ],
 "metadata": {
  "kernelspec": {
   "display_name": "Python 3",
   "language": "python",
   "name": "python3"
  },
  "language_info": {
   "codemirror_mode": {
    "name": "ipython",
    "version": 3
   },
   "file_extension": ".py",
   "mimetype": "text/x-python",
   "name": "python",
   "nbconvert_exporter": "python",
   "pygments_lexer": "ipython3",
   "version": "3.6.6"
  }
 },
 "nbformat": 4,
 "nbformat_minor": 2
}
