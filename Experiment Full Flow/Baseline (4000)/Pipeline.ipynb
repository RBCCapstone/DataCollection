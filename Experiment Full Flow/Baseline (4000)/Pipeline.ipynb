{
 "cells": [
  {
   "cell_type": "markdown",
   "metadata": {},
   "source": [
    "# Pipeline to run all files\n",
    "* ~~All scripts currently output Excel files because we were working independently~~\n",
    "* ~~<b>We'll be changing this so that each script passes dataframes until the end of the pipeline.</b>~~\n",
    "* Our plan is to not store anything (refresh daily) but need to consider how to deal with taking in user feedback\n",
    "* Baseline"
   ]
  },
  {
   "cell_type": "code",
   "execution_count": 22,
   "metadata": {},
   "outputs": [
    {
     "name": "stdout",
     "output_type": "stream",
     "text": [
      "Gathering articles on (Gap Inc) OR (Foot Locker) OR (L Brands) OR Macerich OR Kimco OR TJX OR CVS OR (Home Depot) OR (Best Buy) OR (Lowe's) OR Walmart OR (Target's) OR TGT OR Amazon OR Kroger OR Walgreens OR Kohl's OR (Dollar General) OR (Bed Bath and Beyond) OR Safeway from: 2019-03-11 to 2019-03-15\n",
      "797\n"
     ]
    }
   ],
   "source": [
    "#Gather Articles\n",
    "import NewsAPI as news\n",
    "import os\n",
    "\n",
    "#delete any old sorted article files\n",
    "#if os.path.exists(\"articles.csv\"):\n",
    "#    os.remove(\"articles.csv\")\n",
    "\n",
    "#inputs in order: set manual date (yes=1/no=0, no = last 24 hours of news), manual start date as \"YYYY-MM-DD\"(leave empty if 0), manual end date (leave empty if 0, companies to pull (6= all 19 companies)\n",
    "articleDB = news.main(1,\"2019-03-11\",\"2019-03-15\",6) #output is called 'NewsAPIOutput.xlsx' in Python Scripts > Data folder"
   ]
  },
  {
   "cell_type": "code",
   "execution_count": 23,
   "metadata": {},
   "outputs": [],
   "source": [
    "#Article Cleaning (must pip install tqdm first (only once) to run)\n",
    "import dataClean as dc\n",
    "articleDB = dc.DataClean(articleDB)"
   ]
  },
  {
   "cell_type": "code",
   "execution_count": 24,
   "metadata": {
    "scrolled": true
   },
   "outputs": [
    {
     "name": "stdout",
     "output_type": "stream",
     "text": [
      "content\n",
      "baseline\n",
      "Binary Encoding\n",
      "True\n",
      "title\n",
      "baseline\n",
      "Binary Encoding\n",
      "True\n"
     ]
    }
   ],
   "source": [
    "#Feature Selection and Binary Article Encoding\n",
    "import FeatureEncoding as fe\n",
    "contentBinaryMatrix = fe.encoding(0, df=articleDB, text_col='content', norm='baseline')\n",
    "titleBinaryMatrix = fe.encoding(0, df=articleDB, text_col = 'title', norm='baseline')"
   ]
  },
  {
   "cell_type": "code",
   "execution_count": 25,
   "metadata": {},
   "outputs": [
    {
     "name": "stdout",
     "output_type": "stream",
     "text": [
      "Index([0, 1, 'article_id', 'prediction'], dtype='object')\n",
      "                                               title  \\\n",
      "0  Amazon’s Alexa has 80,000 Apps -- and Not a Si...   \n",
      "1  The Daily 202: Russia may experiment with new ...   \n",
      "2  Toilet rolls and painkillers: Britons stock up...   \n",
      "3  The Health 202: Trump administration heads to ...   \n",
      "4  Apple's App Store fees are coming under increa...   \n",
      "\n",
      "                                         description  \n",
      "0  Amazon counts some 80,000 “skills”—its name fo...  \n",
      "1  European races this year could offer a taste o...  \n",
      "2  Toilet rolls and painkillers are some of items...  \n",
      "3  Its prospects for success don’t look great at ...  \n",
      "4  Apple could lose billions of dollars in revenu...  \n"
     ]
    }
   ],
   "source": [
    "#Logistic Regression Classifier + Article Ranking, complete final file is called 'results_encoding.xlsx'\n",
    "import logReg as lr\n",
    "articleDB = lr.runLogReg(titleBinaryMatrix, contentBinaryMatrix, articleDB)\n",
    "#articleDB = runLogReg(titleBinaryMatrix, contentBinaryMatrix, articleDB)"
   ]
  },
  {
   "cell_type": "code",
   "execution_count": 26,
   "metadata": {
    "scrolled": true
   },
   "outputs": [
    {
     "name": "stderr",
     "output_type": "stream",
     "text": [
      "100%|████████████████████████████████████████████████████████████████████████████████| 509/509 [00:40<00:00, 12.72it/s]\n",
      "100%|████████████████████████████████████████████████████████████████████████████████| 509/509 [03:24<00:00,  2.60it/s]\n"
     ]
    }
   ],
   "source": [
    "# This code extracts and ranks \"tags\" + counts frequency of tag mentions in articles \n",
    "\"\"\"\n",
    "Inputs: \n",
    "    1) articleDB - uses column 'content'\n",
    "    2) (optional) - tag type (could be 'ngrams'{unlimited}, 'bigrams'{terms with up to 2 words}, or 'unigrams'{single terms})\n",
    "        - default is 'bigrams'\n",
    "        - future work: add in noun phrases, named entities \n",
    "Outputs:\n",
    "    1) articleDB = articleDB with appended columns \"tags\" and \"tags_top_5\"\n",
    "    2) trendingTermsDB = keyterms by # article mentions\n",
    "\"\"\"\n",
    "import ContextExtraction as ce\n",
    "articleDB, trendingTermsDB = ce.retrieveContext(articleDB)"
   ]
  },
  {
   "cell_type": "code",
   "execution_count": 27,
   "metadata": {},
   "outputs": [
    {
     "name": "stdout",
     "output_type": "stream",
     "text": [
      "tifidf Encoding\n",
      "bin Encoding\n"
     ]
    },
    {
     "name": "stderr",
     "output_type": "stream",
     "text": [
      "100%|███████████████████████████████████████████████████████████████████████████████| 509/509 [00:01<00:00, 343.21it/s]\n"
     ]
    },
    {
     "name": "stdout",
     "output_type": "stream",
     "text": [
      "tf Encoding\n"
     ]
    },
    {
     "name": "stderr",
     "output_type": "stream",
     "text": [
      "100%|███████████████████████████████████████████████████████████████████████████████| 509/509 [00:01<00:00, 339.68it/s]\n"
     ]
    },
    {
     "name": "stdout",
     "output_type": "stream",
     "text": [
      "        kevin  deakin  colleagues    online  trivia   startup    gotten  \\\n",
      "0    0.052632     3.0        0.10  0.011494     1.0  0.222222  0.117647   \n",
      "1    0.000000     0.0        0.00  0.000000     0.0  0.000000  0.176471   \n",
      "2    0.000000     0.0        0.00  0.011494     0.0  0.000000  0.000000   \n",
      "3    0.000000     0.0        0.00  0.011494     0.0  0.000000  0.000000   \n",
      "4    0.000000     0.0        0.00  0.000000     0.0  0.000000  0.000000   \n",
      "5    0.000000     0.0        0.00  0.034483     0.0  0.000000  0.000000   \n",
      "6    0.000000     0.0        0.00  0.000000     0.0  0.000000  0.000000   \n",
      "7    0.000000     0.0        0.00  0.022989     0.0  0.000000  0.000000   \n",
      "8    0.000000     0.0        0.00  0.000000     0.0  0.000000  0.000000   \n",
      "9    0.000000     0.0        0.00  0.022989     0.0  0.000000  0.000000   \n",
      "10   0.000000     0.0        0.00  0.000000     0.0  0.000000  0.000000   \n",
      "11   0.000000     0.0        0.00  0.000000     0.0  0.000000  0.000000   \n",
      "12   0.000000     0.0        0.00  0.000000     0.0  0.000000  0.000000   \n",
      "13   0.000000     0.0        0.00  0.000000     0.0  0.000000  0.000000   \n",
      "14   0.000000     0.0        0.00  0.000000     0.0  0.000000  0.000000   \n",
      "15   0.000000     0.0        0.00  0.000000     0.0  0.000000  0.000000   \n",
      "16   0.000000     0.0        0.05  0.000000     0.0  0.000000  0.000000   \n",
      "17   0.000000     0.0        0.00  0.000000     0.0  0.000000  0.000000   \n",
      "18   0.000000     0.0        0.00  0.000000     0.0  0.000000  0.000000   \n",
      "19   0.000000     0.0        0.00  0.000000     0.0  0.000000  0.000000   \n",
      "20   0.000000     0.0        0.05  0.011494     0.0  0.000000  0.058824   \n",
      "21   0.052632     0.0        0.00  0.000000     0.0  0.000000  0.000000   \n",
      "22   0.000000     0.0        0.00  0.000000     0.0  0.000000  0.000000   \n",
      "23   0.000000     0.0        0.00  0.034483     0.0  0.000000  0.000000   \n",
      "24   0.000000     0.0        0.00  0.000000     0.0  0.000000  0.000000   \n",
      "25   0.000000     0.0        0.00  0.068966     0.0  0.111111  0.000000   \n",
      "26   0.052632     0.0        0.10  0.011494     0.0  0.000000  0.000000   \n",
      "27   0.000000     0.0        0.00  0.000000     0.0  0.000000  0.000000   \n",
      "28   0.000000     0.0        0.00  0.011494     0.0  0.000000  0.000000   \n",
      "29   0.000000     0.0        0.00  0.000000     0.0  0.000000  0.000000   \n",
      "..        ...     ...         ...       ...     ...       ...       ...   \n",
      "479  0.000000     0.0        0.00  0.000000     0.0  0.000000  0.000000   \n",
      "480  0.000000     0.0        0.00  0.000000     0.0  0.000000  0.000000   \n",
      "481  0.000000     0.0        0.00  0.000000     0.0  0.000000  0.000000   \n",
      "482  0.000000     0.0        0.00  0.000000     0.0  0.000000  0.000000   \n",
      "483  0.000000     0.0        0.00  0.000000     0.0  0.000000  0.000000   \n",
      "484  0.000000     0.0        0.00  0.000000     0.0  0.000000  0.000000   \n",
      "485  0.000000     0.0        0.00  0.000000     0.0  0.000000  0.000000   \n",
      "486  0.000000     0.0        0.00  0.000000     0.0  0.000000  0.000000   \n",
      "487  0.000000     0.0        0.00  0.000000     0.0  0.000000  0.000000   \n",
      "488  0.000000     0.0        0.00  0.000000     0.0  0.000000  0.058824   \n",
      "489  0.000000     0.0        0.00  0.000000     0.0  0.000000  0.000000   \n",
      "490  0.000000     0.0        0.00  0.000000     0.0  0.000000  0.000000   \n",
      "491  0.000000     0.0        0.00  0.000000     0.0  0.000000  0.000000   \n",
      "492  0.000000     0.0        0.00  0.000000     0.0  0.000000  0.000000   \n",
      "493  0.000000     0.0        0.00  0.000000     0.0  0.000000  0.000000   \n",
      "494  0.000000     0.0        0.00  0.000000     0.0  0.000000  0.000000   \n",
      "495  0.000000     0.0        0.00  0.000000     0.0  0.000000  0.000000   \n",
      "496  0.052632     0.0        0.00  0.000000     0.0  0.000000  0.000000   \n",
      "497  0.000000     0.0        0.00  0.000000     0.0  0.000000  0.000000   \n",
      "498  0.000000     0.0        0.00  0.000000     0.0  0.000000  0.000000   \n",
      "499  0.000000     0.0        0.00  0.000000     0.0  0.000000  0.000000   \n",
      "500  0.000000     0.0        0.00  0.000000     0.0  0.000000  0.000000   \n",
      "501  0.000000     0.0        0.00  0.000000     0.0  0.000000  0.000000   \n",
      "502  0.000000     0.0        0.05  0.000000     0.0  0.000000  0.000000   \n",
      "503  0.000000     0.0        0.00  0.000000     0.0  0.000000  0.000000   \n",
      "504  0.000000     0.0        0.00  0.000000     0.0  0.000000  0.000000   \n",
      "505  0.000000     0.0        0.00  0.011494     0.0  0.000000  0.000000   \n",
      "506  0.000000     0.0        0.00  0.000000     0.0  0.000000  0.000000   \n",
      "507  0.000000     0.0        0.00  0.000000     0.0  0.000000  0.000000   \n",
      "508  0.000000     0.0        0.00  0.000000     0.0  0.000000  0.000000   \n",
      "\n",
      "        hands  echo     smart ...   surprises  citi  zew  looser  boj  \\\n",
      "0    0.052632   0.5  0.200000 ...         0.0   0.0  0.0     0.0  0.0   \n",
      "1    0.000000   0.0  0.066667 ...         0.0   0.0  0.0     0.0  0.0   \n",
      "2    0.000000   0.0  0.000000 ...         0.0   0.0  0.0     0.0  0.0   \n",
      "3    0.000000   0.0  0.000000 ...         0.0   0.0  0.0     0.0  0.0   \n",
      "4    0.000000   0.0  0.000000 ...         0.0   0.0  0.0     0.0  0.0   \n",
      "5    0.000000   0.0  0.000000 ...         0.0   0.0  0.0     0.0  0.0   \n",
      "6    0.000000   0.0  0.000000 ...         0.0   0.0  0.0     0.0  0.0   \n",
      "7    0.052632   0.0  0.000000 ...         0.0   0.0  0.0     0.0  0.0   \n",
      "8    0.000000   0.0  0.000000 ...         0.0   0.0  0.0     0.0  0.0   \n",
      "9    0.000000   0.0  0.000000 ...         0.0   0.0  0.0     0.0  0.0   \n",
      "10   0.000000   0.0  0.000000 ...         0.0   0.0  0.0     0.0  0.0   \n",
      "11   0.000000   0.0  0.000000 ...         0.0   0.0  0.0     0.0  0.0   \n",
      "12   0.000000   0.0  0.000000 ...         0.0   0.0  0.0     0.0  0.0   \n",
      "13   0.000000   0.0  0.000000 ...         0.0   0.0  0.0     0.0  0.0   \n",
      "14   0.000000   0.0  0.000000 ...         0.0   0.0  0.0     0.0  0.0   \n",
      "15   0.000000   0.0  0.000000 ...         0.0   0.0  0.0     0.0  0.0   \n",
      "16   0.000000   0.0  0.000000 ...         0.0   0.0  0.0     0.0  0.0   \n",
      "17   0.000000   0.0  0.000000 ...         0.0   0.0  0.0     0.0  0.0   \n",
      "18   0.000000   0.0  0.000000 ...         0.0   0.0  0.0     0.0  0.0   \n",
      "19   0.000000   0.0  0.000000 ...         0.0   0.0  0.0     0.0  0.0   \n",
      "20   0.000000   0.0  0.000000 ...         0.0   0.0  0.0     0.0  0.0   \n",
      "21   0.000000   0.0  0.000000 ...         0.0   0.0  0.0     0.0  0.0   \n",
      "22   0.000000   0.0  0.000000 ...         0.0   0.0  0.0     0.0  0.0   \n",
      "23   0.000000   0.0  0.000000 ...         0.0   0.0  0.0     0.0  0.0   \n",
      "24   0.000000   0.0  0.000000 ...         0.0   0.0  0.0     0.0  0.0   \n",
      "25   0.000000   0.0  0.000000 ...         0.0   0.0  0.0     0.0  0.0   \n",
      "26   0.000000   0.0  0.000000 ...         0.0   0.0  0.0     0.0  0.0   \n",
      "27   0.000000   0.0  0.000000 ...         0.0   0.0  0.0     0.0  0.0   \n",
      "28   0.000000   0.0  0.000000 ...         0.0   0.0  0.0     0.0  0.0   \n",
      "29   0.000000   0.0  0.000000 ...         0.0   0.0  0.0     0.0  0.0   \n",
      "..        ...   ...       ... ...         ...   ...  ...     ...  ...   \n",
      "479  0.000000   0.0  0.000000 ...         0.0   0.0  0.0     0.0  0.0   \n",
      "480  0.000000   0.0  0.000000 ...         0.0   0.0  0.0     0.0  0.0   \n",
      "481  0.000000   0.0  0.000000 ...         0.0   0.0  0.0     0.0  0.0   \n",
      "482  0.000000   0.0  0.000000 ...         0.0   0.0  0.0     0.0  0.0   \n",
      "483  0.000000   0.0  0.000000 ...         0.0   0.0  0.0     0.0  0.0   \n",
      "484  0.000000   0.0  0.000000 ...         0.0   0.0  0.0     0.0  0.0   \n",
      "485  0.000000   0.0  0.000000 ...         0.0   0.0  0.0     0.0  0.0   \n",
      "486  0.000000   0.0  0.000000 ...         0.0   0.0  0.0     0.0  0.0   \n",
      "487  0.000000   0.0  0.000000 ...         0.0   0.0  0.0     0.0  0.0   \n",
      "488  0.000000   0.0  0.000000 ...         0.0   0.0  0.0     0.0  0.0   \n",
      "489  0.000000   0.0  0.000000 ...         0.0   0.0  0.0     0.0  0.0   \n",
      "490  0.000000   0.0  0.000000 ...         0.0   0.0  0.0     0.0  0.0   \n",
      "491  0.000000   0.0  0.000000 ...         0.0   0.0  0.0     0.0  0.0   \n",
      "492  0.000000   0.0  0.000000 ...         0.0   0.0  0.0     0.0  0.0   \n",
      "493  0.000000   0.0  0.000000 ...         0.0   0.0  0.0     0.0  0.0   \n",
      "494  0.000000   0.0  0.000000 ...         0.0   0.0  0.0     0.0  0.0   \n",
      "495  0.000000   0.0  0.000000 ...         0.0   0.0  0.0     0.0  0.0   \n",
      "496  0.000000   0.0  0.000000 ...         0.0   0.0  0.0     0.0  0.0   \n",
      "497  0.000000   0.0  0.000000 ...         0.0   0.0  0.0     0.0  0.0   \n",
      "498  0.000000   0.0  0.000000 ...         0.0   0.0  0.0     0.0  0.0   \n",
      "499  0.000000   0.0  0.000000 ...         0.0   0.0  0.0     0.0  0.0   \n",
      "500  0.000000   0.0  0.000000 ...         0.0   0.0  0.0     0.0  0.0   \n",
      "501  0.000000   0.0  0.000000 ...         0.0   0.0  0.0     0.0  0.0   \n",
      "502  0.000000   0.0  0.000000 ...         0.0   0.0  0.0     0.0  0.0   \n",
      "503  0.000000   0.0  0.000000 ...         0.0   0.0  0.0     0.0  0.0   \n",
      "504  0.000000   0.0  0.000000 ...         0.0   0.0  0.0     0.0  0.0   \n",
      "505  0.000000   0.0  0.000000 ...         0.0   0.0  0.0     0.0  0.0   \n",
      "506  0.000000   0.0  0.000000 ...         0.0   0.0  0.0     0.0  0.0   \n",
      "507  0.000000   0.0  0.000000 ...         0.0   0.0  0.0     0.0  0.0   \n",
      "508  0.000000   0.0  0.000000 ...         1.5   0.5  0.5     0.5  2.5   \n",
      "\n",
      "     encounters  tempering  dogged  taro  aso  \n",
      "0           0.0        0.0     0.0   0.0  0.0  \n",
      "1           0.0        0.0     0.0   0.0  0.0  \n",
      "2           0.0        0.0     0.0   0.0  0.0  \n",
      "3           0.0        0.0     0.0   0.0  0.0  \n",
      "4           0.0        0.0     0.0   0.0  0.0  \n",
      "5           0.0        0.0     0.0   0.0  0.0  \n",
      "6           0.0        0.0     0.0   0.0  0.0  \n",
      "7           0.0        0.0     0.0   0.0  0.0  \n",
      "8           0.0        0.0     0.0   0.0  0.0  \n",
      "9           0.0        0.0     0.0   0.0  0.0  \n",
      "10          0.0        0.0     0.0   0.0  0.0  \n",
      "11          0.0        0.0     0.0   0.0  0.0  \n",
      "12          0.0        0.0     0.0   0.0  0.0  \n",
      "13          0.0        0.0     0.0   0.0  0.0  \n",
      "14          0.0        0.0     0.0   0.0  0.0  \n",
      "15          0.0        0.0     0.0   0.0  0.0  \n",
      "16          0.0        0.0     0.0   0.0  0.0  \n",
      "17          0.0        0.0     0.0   0.0  0.0  \n",
      "18          0.0        0.0     0.0   0.0  0.0  \n",
      "19          0.0        0.0     0.0   0.0  0.0  \n",
      "20          0.0        0.0     0.0   0.0  0.0  \n",
      "21          0.0        0.0     0.0   0.0  0.0  \n",
      "22          0.0        0.0     0.0   0.0  0.0  \n",
      "23          0.0        0.0     0.0   0.0  0.0  \n",
      "24          0.0        0.0     0.0   0.0  0.0  \n",
      "25          0.0        0.0     0.0   0.0  0.0  \n",
      "26          0.0        0.0     0.0   0.0  0.0  \n",
      "27          0.0        0.0     0.0   0.0  0.0  \n",
      "28          0.0        0.0     0.0   0.0  0.0  \n",
      "29          0.0        0.0     0.0   0.0  0.0  \n",
      "..          ...        ...     ...   ...  ...  \n",
      "479         0.0        0.0     0.0   0.0  0.0  \n",
      "480         0.0        0.0     0.0   0.0  0.0  \n",
      "481         0.0        0.0     0.0   0.0  0.0  \n",
      "482         0.0        0.0     0.0   0.0  0.0  \n",
      "483         0.0        0.0     0.0   0.0  0.0  \n",
      "484         0.0        0.0     0.0   0.0  0.0  \n",
      "485         0.0        0.0     0.0   0.0  0.0  \n",
      "486         0.0        0.0     0.0   0.0  0.0  \n",
      "487         0.0        0.0     0.0   0.0  0.0  \n",
      "488         0.0        0.0     0.0   0.0  0.0  \n",
      "489         0.0        0.0     0.0   0.0  0.0  \n",
      "490         0.0        0.0     0.0   0.0  0.0  \n",
      "491         0.0        0.0     0.0   0.0  0.0  \n",
      "492         0.0        0.0     0.0   0.0  0.0  \n",
      "493         0.0        0.0     0.0   0.0  0.0  \n",
      "494         0.0        0.0     0.0   0.0  0.0  \n",
      "495         0.0        0.0     0.0   0.0  0.0  \n",
      "496         0.0        0.0     0.0   0.0  0.0  \n",
      "497         0.0        0.0     0.0   0.0  0.0  \n",
      "498         0.0        0.0     0.0   0.0  0.0  \n",
      "499         0.0        0.0     0.0   0.0  0.0  \n",
      "500         0.0        0.0     0.0   0.0  0.0  \n",
      "501         0.0        0.0     0.0   0.0  0.0  \n",
      "502         0.0        0.0     0.0   0.0  0.0  \n",
      "503         0.0        0.0     0.0   0.0  0.0  \n",
      "504         0.0        0.0     0.0   0.0  0.0  \n",
      "505         0.0        0.0     0.0   0.0  0.0  \n",
      "506         0.0        0.0     0.0   0.0  0.0  \n",
      "507         0.0        0.0     0.0   0.0  0.0  \n",
      "508         0.5        0.5     0.5   0.5  0.5  \n",
      "\n"
     ]
    },
    {
     "name": "stdout",
     "output_type": "stream",
     "text": [
      "[509 rows x 21216 columns]\n"
     ]
    }
   ],
   "source": [
    "import EncodingforRecommender as rec\n",
    "articleDB = rec.recommender(articleDB)"
   ]
  },
  {
   "cell_type": "code",
   "execution_count": 28,
   "metadata": {},
   "outputs": [],
   "source": [
    "import frontPage as fp\n",
    "frontpage = fp.FrontPage(articleDB, trendingTermsDB)"
   ]
  },
  {
   "cell_type": "code",
   "execution_count": 29,
   "metadata": {},
   "outputs": [
    {
     "data": {
      "text/plain": [
       "Index(['date', 'origContent', 'related_articles', 'source', 'tags', 'title'], dtype='object')"
      ]
     },
     "execution_count": 29,
     "metadata": {},
     "output_type": "execute_result"
    }
   ],
   "source": [
    "import pandas as pd\n",
    "articles = pd.DataFrame(frontpage['articles'])\n",
    "topterms= pd.DataFrame(frontpage['topterms'])\n",
    "articles.columns"
   ]
  },
  {
   "cell_type": "code",
   "execution_count": 30,
   "metadata": {},
   "outputs": [],
   "source": [
    "titles = pd.DataFrame(articles['tags'])"
   ]
  },
  {
   "cell_type": "code",
   "execution_count": 31,
   "metadata": {},
   "outputs": [],
   "source": [
    "pd.DataFrame.to_excel(articleDB, 'Main Version-11-15.xlsx')"
   ]
  },
  {
   "cell_type": "code",
   "execution_count": null,
   "metadata": {},
   "outputs": [],
   "source": []
  }
 ],
 "metadata": {
  "kernelspec": {
   "display_name": "Python 3",
   "language": "python",
   "name": "python3"
  },
  "language_info": {
   "codemirror_mode": {
    "name": "ipython",
    "version": 3
   },
   "file_extension": ".py",
   "mimetype": "text/x-python",
   "name": "python",
   "nbconvert_exporter": "python",
   "pygments_lexer": "ipython3",
   "version": "3.6.6"
  }
 },
 "nbformat": 4,
 "nbformat_minor": 2
}
